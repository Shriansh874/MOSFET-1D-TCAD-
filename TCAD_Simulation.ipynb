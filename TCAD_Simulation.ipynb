{
  "nbformat": 4,
  "nbformat_minor": 0,
  "metadata": {
    "colab": {
      "provenance": []
    },
    "kernelspec": {
      "name": "python3",
      "display_name": "Python 3"
    },
    "language_info": {
      "name": "python"
    },
    "widgets": {
      "application/vnd.jupyter.widget-state+json": {
        "0798ec58616e41f2ae9cf281e31c046c": {
          "model_module": "@jupyter-widgets/controls",
          "model_name": "VBoxModel",
          "model_module_version": "1.5.0",
          "state": {
            "_dom_classes": [
              "widget-interact"
            ],
            "_model_module": "@jupyter-widgets/controls",
            "_model_module_version": "1.5.0",
            "_model_name": "VBoxModel",
            "_view_count": null,
            "_view_module": "@jupyter-widgets/controls",
            "_view_module_version": "1.5.0",
            "_view_name": "VBoxView",
            "box_style": "",
            "children": [
              "IPY_MODEL_9c8c42c85f2945579e13b69d3239f980",
              "IPY_MODEL_febcbb2e904449feaef903202df22fd7",
              "IPY_MODEL_3140c01ecf8f41eb9eabe605164b0a21",
              "IPY_MODEL_d98fd9cf6ad94de18f71f83aee5936ef",
              "IPY_MODEL_7d0db74dd47a4ea19d517d2771aacf15",
              "IPY_MODEL_0b92cfc9c0f043c9a77e646fbd3f7693"
            ],
            "layout": "IPY_MODEL_e195bed3eb2e4a07b812fbe61fc74554"
          }
        },
        "9c8c42c85f2945579e13b69d3239f980": {
          "model_module": "@jupyter-widgets/controls",
          "model_name": "FloatSliderModel",
          "model_module_version": "1.5.0",
          "state": {
            "_dom_classes": [],
            "_model_module": "@jupyter-widgets/controls",
            "_model_module_version": "1.5.0",
            "_model_name": "FloatSliderModel",
            "_view_count": null,
            "_view_module": "@jupyter-widgets/controls",
            "_view_module_version": "1.5.0",
            "_view_name": "FloatSliderView",
            "continuous_update": true,
            "description": "Vg (V)",
            "description_tooltip": null,
            "disabled": false,
            "layout": "IPY_MODEL_2ab764ce5223458d9d5df5202d23fe6d",
            "max": 2,
            "min": -1,
            "orientation": "horizontal",
            "readout": true,
            "readout_format": ".2f",
            "step": 0.05,
            "style": "IPY_MODEL_220b81db678b4226aa543dd81cdb827e",
            "value": 0.8999999999999999
          }
        },
        "febcbb2e904449feaef903202df22fd7": {
          "model_module": "@jupyter-widgets/controls",
          "model_name": "FloatLogSliderModel",
          "model_module_version": "1.5.0",
          "state": {
            "_dom_classes": [],
            "_model_module": "@jupyter-widgets/controls",
            "_model_module_version": "1.5.0",
            "_model_name": "FloatLogSliderModel",
            "_view_count": null,
            "_view_module": "@jupyter-widgets/controls",
            "_view_module_version": "1.5.0",
            "_view_name": "FloatLogSliderView",
            "base": 10,
            "continuous_update": true,
            "description": "NA body",
            "description_tooltip": null,
            "disabled": false,
            "layout": "IPY_MODEL_27aae5128f7f4d7eabfaebfc4c289914",
            "max": 18,
            "min": 14,
            "orientation": "horizontal",
            "readout": true,
            "readout_format": ".3g",
            "step": 0.1,
            "style": "IPY_MODEL_4525eb268c9540c79fef52dd2301832e",
            "value": 100000000000000000
          }
        },
        "3140c01ecf8f41eb9eabe605164b0a21": {
          "model_module": "@jupyter-widgets/controls",
          "model_name": "FloatLogSliderModel",
          "model_module_version": "1.5.0",
          "state": {
            "_dom_classes": [],
            "_model_module": "@jupyter-widgets/controls",
            "_model_module_version": "1.5.0",
            "_model_name": "FloatLogSliderModel",
            "_view_count": null,
            "_view_module": "@jupyter-widgets/controls",
            "_view_module_version": "1.5.0",
            "_view_name": "FloatLogSliderView",
            "base": 10,
            "continuous_update": true,
            "description": "ND S/D",
            "description_tooltip": null,
            "disabled": false,
            "layout": "IPY_MODEL_cf81a7ad83d440a48041365129c52c27",
            "max": 20,
            "min": 17,
            "orientation": "horizontal",
            "readout": true,
            "readout_format": ".3g",
            "step": 0.1,
            "style": "IPY_MODEL_22bdb68002d5458cb2cf690f3c48218a",
            "value": 10000000000000000000
          }
        },
        "d98fd9cf6ad94de18f71f83aee5936ef": {
          "model_module": "@jupyter-widgets/controls",
          "model_name": "FloatLogSliderModel",
          "model_module_version": "1.5.0",
          "state": {
            "_dom_classes": [],
            "_model_module": "@jupyter-widgets/controls",
            "_model_module_version": "1.5.0",
            "_model_name": "FloatLogSliderModel",
            "_view_count": null,
            "_view_module": "@jupyter-widgets/controls",
            "_view_module_version": "1.5.0",
            "_view_name": "FloatLogSliderView",
            "base": 10,
            "continuous_update": true,
            "description": "L (cm)",
            "description_tooltip": null,
            "disabled": false,
            "layout": "IPY_MODEL_ccd7f1eacfd74e559acfdaf03145834e",
            "max": -3,
            "min": -5,
            "orientation": "horizontal",
            "readout": true,
            "readout_format": ".3g",
            "step": 0.1,
            "style": "IPY_MODEL_6c00f7cad0f24062a629b8b86a51d5b6",
            "value": 0.00025118864315095795
          }
        },
        "7d0db74dd47a4ea19d517d2771aacf15": {
          "model_module": "@jupyter-widgets/controls",
          "model_name": "FloatSliderModel",
          "model_module_version": "1.5.0",
          "state": {
            "_dom_classes": [],
            "_model_module": "@jupyter-widgets/controls",
            "_model_module_version": "1.5.0",
            "_model_name": "FloatSliderModel",
            "_view_count": null,
            "_view_module": "@jupyter-widgets/controls",
            "_view_module_version": "1.5.0",
            "_view_name": "FloatSliderView",
            "continuous_update": true,
            "description": "T (K)",
            "description_tooltip": null,
            "disabled": false,
            "layout": "IPY_MODEL_a197e5f56b51476eb250a510e5e19af4",
            "max": 400,
            "min": 250,
            "orientation": "horizontal",
            "readout": true,
            "readout_format": ".2f",
            "step": 10,
            "style": "IPY_MODEL_2e6863ad39014931b7d654f7ac7d5ef5",
            "value": 340
          }
        },
        "0b92cfc9c0f043c9a77e646fbd3f7693": {
          "model_module": "@jupyter-widgets/output",
          "model_name": "OutputModel",
          "model_module_version": "1.0.0",
          "state": {
            "_dom_classes": [],
            "_model_module": "@jupyter-widgets/output",
            "_model_module_version": "1.0.0",
            "_model_name": "OutputModel",
            "_view_count": null,
            "_view_module": "@jupyter-widgets/output",
            "_view_module_version": "1.0.0",
            "_view_name": "OutputView",
            "layout": "IPY_MODEL_ecab591c048b410c904f21ebe4976f1e",
            "msg_id": "",
            "outputs": [
              {
                "output_type": "display_data",
                "data": {
                  "text/plain": "<Figure size 800x1000 with 5 Axes>",
                  "image/png": "iVBORw0KGgoAAAANSUhEUgAAAxYAAAPdCAYAAAAXkf7QAAAAOnRFWHRTb2Z0d2FyZQBNYXRwbG90bGliIHZlcnNpb24zLjEwLjAsIGh0dHBzOi8vbWF0cGxvdGxpYi5vcmcvlHJYcgAAAAlwSFlzAAAPYQAAD2EBqD+naQABAABJREFUeJzs3XdcVfUbwPHPveyNbFRQnIh7i5pmam6zzHKmZqnlytGwX1mppVmZM0eZ2jBNM81ZaOVI3Bv3VhQQEUFZF+75/XHkIoKby4HL83697gvuOd9zvs/1CJznfJdOURQFIYQQQgghhHgCeq0DEEIIIYQQQhR+klgIIYQQQgghnpgkFkIIIYQQQognJomFEEIIIYQQ4olJYiGEEEIIIYR4YpJYCCGEEEIIIZ6YJBZCCCGEEEKIJyaJhRBCCCGEEOKJSWIhhBBCCCGEeGKSWAghhMhBp9OxYMECrcMQQghRiEhiIYQwu5s3b/LRRx/RunVrPDw8HuumtXTp0uh0OnQ6HXq9Hnd3d6pWrUr//v3ZsWPHQ5/n6aefRqfTUb58+Vz3h4WFmepZtmxZjv0RERH07NmTEiVKYGdnR/HixenRowcRERG5nu/QoUO8+OKLlCpVCnt7e0qUKEHLli2ZPn36PT/f3a+UlBQAFixYcM8yOp2O7du306dPn/uWyXz16dPnof/NcmMwGPDy8qJx48b3LKMoCgEBAdSqVeuJ6jKX1NRU3n33XYoXL46DgwP169cnLCzsoY9fvHgxtWrVwt7eHm9vb/r160dsbGyuZefNm0elSpWwt7enfPnyOa7/nYYOHYpOp+PUqVP3LPO///0PnU7HwYMHHzpeIYQwN2utAxBCWL7Y2FjGjh1LYGAg1atX599//32s89SoUYORI0cCkJiYyNGjR1m6dCnffvstw4cPZ/LkyQ91Hnt7e06dOsXOnTupV69etn0///wz9vb2ppv5Oy1fvpxu3brh4eFBv379CAoK4ty5c8ybN49ly5axePFinn/+eVP5bdu20axZMwIDA3n99dfx8/Pj4sWLbN++nalTpzJkyJB7fr472draZns/duxYgoKCcpQrV64cAwYMoEWLFqZtZ8+eZcyYMfTv35+nnnrKtL1s2bIP+Fe6PxsbG7p06cKcOXM4f/48pUqVylFm8+bNXLp0ieHDhz9RXebSp08fli1bxltvvUX58uVZsGABbdu25Z9//rlvwgQwa9Ys3nzzTZo3b87kyZO5dOkSU6dOZffu3ezYsQN7e3tT2Tlz5jBw4EA6d+7MiBEj2LJlC0OHDiUpKYl33303x7l79OjB9OnTWbRoEWPGjMm1/l9++YWqVatSrVq1J/tHEEKIvKQIIYSZpaSkKFeuXFEURVF27dqlAMr8+fMf6RylSpVS2rVrl2N7UlKS0qlTJwVQvvnmmweep2nTpkrlypWVihUrKm+99Va2fcnJyYqrq6vSuXNnBVCWLl1q2nfq1CnF0dFRCQ4OVmJiYrIdd/XqVSU4OFhxcnJSTp8+bdretm1bxdvbW7l+/XqOOKKjox/q891p/vz5CqDs2rXrgZ8z0+P+ez/MMVu2bFEAZcKECbnu79+/v6LX65XIyMhHqjs/7NixQwGUL774wrQtOTlZKVu2rBIaGnrfY1NTUxV3d3elSZMmitFoNG1ftWqVAijTpk0zbUtKSlI8PT1zXNsePXooTk5OSlxcXK51lCtXTgkODs5137Zt2xRAmThx4gM/pxBC5CfpCiWEMDs7Ozv8/PzMcm4HBwd+/PFHPDw8+PTTT1EU5aGO69atG0uWLMFoNJq2rVq1iqSkJF566aUc5b/44guSkpKYO3cu3t7e2fZ5eXkxZ84cbt26xaRJk0zbT58+TeXKlXF3d89xPh8fn4f8hAVXo0aNKF26NIsWLcqxz2AwsGzZMpo1a0bx4sVN2w8ePEjTpk1xcHCgZMmSjB8/nvnz56PT6Th37ly+xb5s2TKsrKzo37+/aZu9vT39+vUjPDycixcv3vPYw4cPEx8fz8svv4xOpzNtb9++Pc7OzixevNi07Z9//uHatWu8+eab2c4xaNAgbt26xZo1a3Kto0ePHhw7doy9e/fm2Ldo0SJ0Oh3dunV76M8rhBD5QRILIUSh5+zszPPPP09kZCRHjhx5qGO6d+/OlStXsnXLWrRoEc2bN8/1pn/VqlWULl06W3eiOzVp0oTSpUtnu1EsVaoUe/bs4fDhww8Vk8FgIDY2NtsrKSkpR7kbN27kKHft2rWHqiMv6XQ6unfvzqFDh3KMMVm/fj1xcXH06NHDtC0yMpJmzZoRERHB6NGjGT58OD///DNTp059qPpSU1NzfO57vR5k3759VKhQAVdX12zbM7vG7d+//75xgJrU3s3BwYF9+/aZEtZ9+/YBUKdOnWzlateujV6vN+2/W+a/291JW0ZGBr/++itPPfUUgYGB94xRCCG0IImFEMIiVKlSBVBbCR5G+fLlqVOnjunGLT4+nrVr19K9e/ccZW/cuMHly5epXr36fc9ZrVo1Ll26RGJiIgCjRo0iKSmJGjVq0LBhQ959913++usvDAZDrsf/9ddfeHt7Z3vd2QKSqUWLFjnKlShR4qE+d17LvAH++eefs21ftGgR9vb2dO7c2bTt888/5/r162zYsIExY8YwcuRI/vvvv/u2Dtzpl19+yfG57/V6kCtXruDv759je+a2y5cv3/PY8uXLo9Pp+O+//7JtP378OFevXiU5OZnr16+b6rGyssqRrNra2uLp6XnPesqXL0/dunVztKpt2LCBmJiYbAmbEEIUFDJ4WwhhEZydnQFMN/UPo3v37owbN45vvvnG1DXm+eefZ8+ePdnKZZ7TxcXlvufL3J+QkICLiwstW7YkPDycCRMm8OeffxIeHs6kSZPw9vbmu+++o2PHjtmOr1+/PuPHj8+2rUyZMjnqmTlzJhUqVMi2zcrK6uE+dB4LCQmhZs2aLF68mM8++wyAW7du8ccff9C+fftsLQLr168nNDSUGjVqmLZ5eHiYBis/SKtWrR5p1qb7SU5Oxs7OLsf2zEHXycnJ9zzWy8uLl156iYULF1KpUiVTa9mQIUOwsbHBYDCYjk9OTs4x+P7Ouu5XT8+ePRk2bBibN2/m6aefBtSEzdbWli5dujzsRxVCiHwjiYUQosC4ceNGthstW1tbPDw8HurYmzdvAg+++b9T165dGTVqFOvWrePnn3+mffv2uR6fue1BSUtuCUjdunVZvnw5aWlpHDhwgN9//52vv/6aF198kf379xMSEmIq6+XllW1Gp3upV69ejq41WurRowejRo1i27ZtNGzYkBUrVpCUlJTjqfr58+cJDQ3NcXy5cuUeqh5/f/9cWxkeh4ODg6lL050yZwPLrZvTnebMmUNycjKjRo1i1KhRgJoIlC1bluXLl5sSXQcHB9LS0nI9R0pKyn3r6dq1KyNGjGDRokU8/fTTpKSk8Pvvv9OmTRuKFSv2UJ9TCCHyk3SFEkIUGMOGDTPdPPr7+/PCCy889LGZ4xge9iYV1BvVp59+mq+++orNmzfn2g0KwM3NDX9//weuGXDw4EFKlCiRo98+qElS3bp1+eyzz5g1axYGg4GlS5c+dKwFWbdu3dDr9aZuZYsWLaJYsWK0bds2T+tJTk4mKirqoV4P4u/vz5UrV3Jsz9x254Dz3Li5ubFy5UrOnz/Ppk2bOHfuHD/++CNXrlzB29vbNGDf39+fjIwMYmJish2flpbGtWvX7luPj48PLVu25LfffsNgMLBq1SoSExOlG5QQosCSxEIIUWC88847hIWFmV5fffXVQx138+ZNfv/9dwICAqhUqdIj1dm9e3e2bNmCq6vrfW+E27dvz9mzZ9m6dWuu+7ds2cK5c+do3779A+vMbG3I7ca2MCpevDjNmjVj6dKlREdHExYWxosvvpijC1CpUqVyXfTtfgvB3WnJkiXZEs/7vR6kRo0anDhxgoSEhGzbMxdbvLO71v0EBgbSpEkTSpUqRXx8PHv27MnW6pR5nt27d2c7bvfu3RiNxgfW06NHD+Li4li3bh2LFi3C1dWVDh06PFRsQgiR36QrlBCiwAgJCcnWNehhJCcn06tXL+Li4vjss8+yTf/5MF588UUuXrxIxYoV79kXHuDtt9/mp59+YsCAAWzevBlPT0/Tvri4OAYOHIijoyNvv/22afs///xjWun7TmvXrgWgYsWKjxRrQdajRw9effVVBgwYgMFgyPWpeqtWrZg5cyb79+833VDHxcXlGPh9L3k5xuLFF1/kyy+/ZO7cuaauTKmpqcyfP5/69esTEBBgKnvhwgWSkpIIDg6+7zlHjx5Nenp6tgUBn3nmGTw8PJg1a1a2xHXWrFk4OjrSrl27+56zU6dOODo68s033/Dvv//SrVu3bIvvCSFEQSKJhRAiX8yYMYP4+HjTLDirVq3i0qVLAAwZMgQ3N7cHniMyMpKffvoJUFspjhw5wtKlS4mKimLkyJEMGDDgkeNyc3Pj448/fmC58uXLs3DhQnr06EHVqlVzrLwdGxvLL7/8km1F6yFDhpCUlMTzzz9PcHAwaWlpbNu2jSVLllC6dGn69u37yPECrFu3jmPHjuXY3rBhw1wHe+eHzp078+abb7Jy5UoCAgJo0qRJjjLvvPMOP/30Ey1btmTIkCE4OTnx3XffERgYSFxc3AOTwrwcY1G/fn26dOnC6NGjiYmJoVy5cixcuNB0Pe/0yiuvsGnTpmxrpEycOJHDhw9Tv359rK2tWbFiBX/99Rfjx4+nbt26pnIODg6MGzeOQYMG0aVLF1q1asWWLVv46aef+PTTTx84hsjZ2ZlOnTqZuplJNyghRIGm9Qp9QoiioVSpUgqQ6+vs2bOPdLxOp1NcXV2VypUrK6+//rqyY8eOh44jc+Xt+/nnn39yrLyd6eDBg0q3bt0Uf39/xcbGRvHz81O6deumHDp0KEfZdevWKa+++qoSHBysODs7K7a2tkq5cuWUIUOGPNHK2/d65bZStjlX3r5bly5dFEB555137llm3759ylNPPaXY2dkpJUuWVCZMmKBMmzZNAZSoqKhHqu9JJScnK6NGjVL8/PwUOzs7pW7dusr69etzlGvatKly95/L1atXK/Xq1VNcXFwUR0dHpUGDBsqvv/56z7rmzp2rVKxYUbG1tVXKli2rfP3119lW7b6fNWvWKIDi7++vZGRkPNqHFEKIfKRTlIdcplYIIUSRodPpmD9/Pn369DF7XW+99RZz5szh5s2bmk2bK4QQ4snJ4G0hhBD55u51G65du8aPP/5I48aNJakQQohCTsZYCCGEyDehoaE8/fTTVKpUiejoaObNm0dCQgIffvih1qEJIYR4QpJYCCGEyDdt27Zl2bJlzJ07F51OR61atZg3b16ug72FEEIULjLGQgghhBBCCPHEZIyFEEIIIYQQ4olJV6iHlJ6ezr59+/D19UWvl3xMCCGEEKIwMhqNREdHU7NmTayt5VY4L8m/5kPat28f9erV0zoMIYQQQgiRB3bu3JltQUvx5CSxeEi+vr6A+p8wr1Z+fZD09HQ2btxI8+bNJaMuxOQ6Fn5yDS2DXEfLINex8NP6Gl65coV69eqZ7u1E3pGfyIeU2f3J39+fkiVL5kudBoMBLy8vSpQogY2NTb7UKfKeXMfCT66hZZDraBnkOhZ+BeUaStf2vCf/okIIIYQQQognJomFEEIIIYQQ4olJYiGEEEIIIYR4YpJYCCGEEEIIIZ6YJBZCCCGEEEKIJyaJhRBCCCGEEOKJSWIhhBBCCCGEeGKSWAghhBBCCCGemCQWQgghhBBCiCcmK28LIYSFSjFkEHcrjRvJBhKSDdy4/UpISSfFkEFquhFDhpG0dPWVbjSi0+mw0umw0qsva70OGys9TnbWONtZ4WxvjZOtNc521rg72uLlYounkx1Wep3WH1cIIYTGJLEoqG7eRD9+PDV37YI2bbSORghRwCiKwvUkA2djb3Eu9hYX4pKITkghKiGFqBspRCekcD3JkC+x6HXg4WSLl7Md3i52lHB3IMDDkZLFHAj0cCTAwxFPJ1t0Okk+hBDCkkliUVDZ2KCfNIlARcEQGwvFi2sdkRBCA4qicDUxlSNXEjh6JZHjUQmcuZ1MJKSkP/B4a70ONwcb3BxscL39cnOwwcFGj621Hlsrq9tfdVhb6VEUyFAUMoxGMoxgVBTS0o3cTE3nZko6t9LSTd9fT0rj2q00jArE3kwj9mYax6ISc43DydaKcr4uVPR1poKvCxV8Xajo54KPi50kHEIIYSEksSio7OzAzw+uXIGLFyWxEKKIiElMYe/5ePZdvE5EZAJHryRw7VbaPcsXd7OntJcTpTwd8XdzwNfVDl9Xe/zc7PFztcfNwcasN+7pGUbiktKITUwj9mYq0QkpRMYncyEuiUtx6tfoxBRupWVw4GI8By7GZzu+mKMN1QPcqVbSnRoBblQr6Y6Xs53Z4hVCCGE+klgUYEpAALorV9BduAD162sdjhAijxmNCseiEtl59hp7L8Sz98J1Ll1PzlFOr4MgLycq+btSyd+Vst7OBN1OJuxtrDSIPIu1lR4fF3t8XOzvWSbFkMHFuCRORN/keHQiJ6MTOR6dyLnYW1xPMvDv8av8e/yqqXwJdwfqlC5GgzKeNCjjSWlPR2nVEEKIQkASi4IsIAB27lQTCyGERbhwLYmtp2L573Qs4aevEXdXa4ROBxV9XagZWIzqJd0IKe5KBV8XzROIJ2FvY0V5XxfK+7rQDn/T9hRDBsejEjlwKZ79F+M5eOkGp6/eJDI+mcj9yazcfxkAHxc7U5LxVHkvAjwctfooQggh7kMSiwJMKVVK/ebiRW0DEUI8ttT0DMJPX2Pj0Rj+OR6To0XCwcaKukEe1A4sRu1Sxage4IaLvY1G0eYvexsrqge4Uz3AnVdC1W0JKQYOXbrBjrNxbD9zjf0X4olJTOWPA5f544CaaJTzcaZZRW+aVfShTmkPbK1l5nQhhCgIJLEoyAICAKTFQohC5trNVP4+FsPGozFsPnmVpLQM0z4bKx01A4rRsJwnjcp5Ub2ku9wY38HV3oZG5bxoVM4LUFs19l2IZ8fZa/x3Kpa9F+I5FXOTUzE3+XbLWZxsrWhc3os2Vfx5ppIPrkUkKRNCiIJIEosCTLmdWEiLhRAF3/VbaayPiGL1wcuEn76GUcna5+tqxzPBvrSo5EODMp442cmv3odlb2NFaFlPQst68laLCtxIMrDl1FXTuIzYm6n8GRHNnxHR2FrpbycZfrQM8cXd0Vbr8IUQokiRv24FmPLMM/w1Zw7NevaUJdKFKIASUgz8FRHN6oOX2XoylvQ7sonKxV1pUcmXFpV8qVLCVQYf5xE3RxvaVytO+2rFMRoVDl++QdiRaNYeusLpq7f4+1gMfx+LwVqvo3F5L16oVZJnQ3wL9RgVIYQoLCSxKMicnUn29QUbadoXoqAwGhXCz1xj6e6LrDscRWq60bSvkr8rHar7075qcQI9ZYCxuen1OqqVVKeqHflsRU5GJ7L2UBTrDl/hWFSiqVXDxc6atlX96VjdN1tLkhBCiLwliYUQQjyEaykwdeMpft9/hcj4rAHY5Xyc6VCtOO2r+1PW21nDCEV5XxeG+bowrEV5Tl+9ycp9kfy2N5LI+GSW7L7Ikt0X8bCz4pzjabo3KI2v672nyBVCCPHoJLEoyBSFyt9/j9WKFTBlCri5aR2REEVKhlHh72MxLNx2lq2nrIEzALjYW9OxenG61Amgekk36eZUAJX1dmbEsxV5q0UFdp2LY/neSFYfukxcagZT/z7NjH/P0LKSLz0aBNKorBd6vVxDIYR4UoWi6/7mzZvp0KEDxYsXR6fTsWLFimz7FUVhzJgx+Pv74+DgQIsWLTh58mS2MnFxcfTo0QNXV1fc3d3p168fN2/ezMdP8Rh0Okr/9Rf6BQsgNlbraIQoMuJupTHr39M0mfQPr/+wm62nrqFDoWFZD6Z2rcGu/7Xg0+erUiPAXZKKAk6v11G/jCefv1iN8Heeple5DOqUcifDqLA+Iope83bS7Kt/mbPpNPFJ917hXAghxIMVisTi1q1bVK9enZkzZ+a6f9KkSUybNo3Zs2ezY8cOnJycaNWqFSkpKaYyPXr0ICIigrCwMFavXs3mzZvp379/fn2Ex2ZwclK/iY/XNA4hioKjVxIY+esBGkzYyOfrjxEZn4y7ow2vNS7NBzUzWNinDs/VKCEDgQspB1sr6ngr/PJaPf4a3oQ+DUvjYm/N+WtJTFh3jNAJfzNm5WHOxt7SOlQhhCiUCkVXqDZt2tCmTZtc9ymKwpQpU/jggw947rnnAPjhhx/w9fVlxYoVdO3alaNHj7J+/Xp27dpFnTp1AJg+fTpt27blyy+/pHjx4vn2WR6VwdERh2vX4MYNrUMRwiIpisK209eYs/kMm09cNW2vWsKNXqGl6Fi9OFYYWbv2lIZRirxWwdeFjztW5p3WFVl94Arzt53j6JUEfgg/z4/bz9Oiki+vNQ6iXpCHtEoJIcRDKhSJxf2cPXuWqKgoWrRoYdrm5uZG/fr1CQ8Pp2vXroSHh+Pu7m5KKgBatGiBXq9nx44dPP/88znOm5qaSmpqqul9YmIiAOnp6RgMBjN+oiwGg4F0R3VmmfRr11DyqV6RtzL/v+TX/xvxcNIzjKyPiOa7/84RcVn9+dbroHVlX/o0LEUN09gJo1xDC5HbdbTRwfM1/OhU3ZftZ+P4/r/z/HsilrAj0YQdiaZqCVfeaFKG5sHeMg6jgJCfx8JP62uYnp6uSb1FQaFPLKKiogDw9fXNtt3X19e0LyoqCh8fn2z7ra2t8fDwMJW524QJE/jkk09ybN+4cSNeXl55EfpDaXC7K9TBLVu4aCuLPRVmYWFhWocggAwj7LyqIyxSz7VU9UbRRq/QwEfhaX8jXvaRXDkUyZVDOY+Va2gZ7ncdn/eEhjXg3yt6dsXoOBSZwJu/7MffQeHZkkZqeCpIflEwyM9j4afVNYyVcatmU+gTC3MZPXo0I0aMML2PjIwkJCSE5s2bU6JEiXyJwWAwEPfllwBUL12aqm3b5ku9Im8ZDAbCwsJo2bIlNrImiWYMGUZ+33eZWZvOcCleHX9VzNGGVxoE0qN+AMXus0qzXEPL8CjXsS9w7VYaC7ed54cdF7iSnMHCk1ZsinNkQJMgnqvuj41VoRimaHHk57Hw0/oaRkZG5nudRUWhTyz8/PwAiI6Oxt/f37Q9OjqaGjVqmMrExMRkOy49PZ24uDjT8Xezs7PDzs7O9D4hIQFQWzry84cgsyuUVWIiVvILtFCzsbGRP4IaSEs38tveS8z85xSXrqvrT3g52zGwaRl61C+Fg+3DD8SWa2gZHvY6+rnb8G7bEAY+XZ6F4ef4/r+znLuWxOjfI5i16SwjWlagQ/XiWEkThibk57Hw0+oaWlsX+tvfAqvQP24JCgrCz8+PjRs3mrYlJCSwY8cOQkNDAQgNDSU+Pp49e/aYyvz9998YjUbq16+f7zE/imPdu2M4cwbeeUfrUIQoVIxGhZX7I2kxeROjlx/i0vVkvF3s+LB9CFveacZrT5V5pKRCFF1ujjYMbV6ere8+w+g2wXg523IhLom3luyn7dQt/BURhaLIkt5CCFEoUrabN29y6lTWjCxnz55l//79eHh4EBgYyFtvvcX48eMpX748QUFBfPjhhxQvXpxOnToBUKlSJVq3bs3rr7/O7NmzMRgMDB48mK5duxboGaEAUt3doWRJkKcyQjwURVHYfDKWSeuPEXFZbWn0drHjjaZl6V4/UKaKFY/N2c6aAU3L0iu0FPP/O8ecTac5Hp1I/x/3UD3AnXdaVaRRufwbgyeEEAVNoUgsdu/eTbNmzUzvM8c+9O7dmwULFvDOO+9w69Yt+vfvT3x8PI0bN2b9+vXY29ubjvn5558ZPHgwzZs3R6/X07lzZ6ZNm5bvn0UIYT4HLsYzcd0xws9cA8DFzpqBT5elb6PSONoWil93ohBwtLVmULNy9KxfijmbTzP/v3McuBhPj+920LSCN/9rV4kKvi5ahymEEPmuUPylffrpp+/bzKzT6Rg7dixjx469ZxkPDw8WLVpkjvDMyvXcOfRvvw0BATBypNbhCFEgXbmRzMR1x1i5/zIAtlZ6eoWWYlCzcng4yWxqwjzcHG14p3UwfRqVZubfp1i08wKbTlxly8mrdKsXyPCWFfBytnvwiYQQwkIUisSiKHOMicFq6lSoW1cSCyHukpyWwdzNZ5i96TTJhgx0Oni+RglGPFuBksUctQ5PFBE+LvZ88lwV+jYKYuK6Y6yPiOLnHRdYuf8yg5qVo2+j0tIFTwhRJEhiUcAZbq9jIStvC5FFURRWH7zCxHXHiIxXZ3qqW7oYY9pXpmpJN42jE0VVaS8nZveqzY4z1xi/5iiHIm/w+fpj/LzjPGPah9AyxFdW8RZCWDRJLAo4w+3pZiWxEEJ1PCqRD1ccZue5OACKu9kzum0l2lfzl5s2USDUL+PJykGNWLE/kknrj3PpejL9f9zDM8E+fNQhhFKeTlqHKIQQZiGJRQEniYUQqqS0dKZtPMV3W86QblSwt9HzRtNy9G8i08aKgkev1/FCrZK0ruLHjL9P8e2WM/x9LIatp2J5o2lZ3ni6rHSPEkJYHEksCrj0zK5QKSmQlga2MhBVFD1/H4vmwxURpm5PrSr78lGHyhR3d9A4MiHuz9HWmndaB9O5dkk+WhnB1lOxTN14kuX7LjG2YxWaBftoHaIQQuSZQr9AnqUzONxx4yStFqKIuXIjmYE/7uHVBbuJjE+mhLsD371Shzm96khSIQqVst7O/NivHjO718LP1Z6Lccn0XbCLob/s49rNVK3DE0I8pIkTJ6LT6XjrrbdM21JSUhg0aBCenp44OzvTuXNnoqOjsx134cIF2rVrh6OjIz4+Prz99tukp6fnc/TmJ4lFQWdlheJyez50SSxEEWE0Ksz/7ywtvtrE+ogorPQ6BjQpQ9iIJrQI8dU6PCEei06no101fzaObMrrTwWh18EfBy7TYvImft93SVbvFqKA27VrF3PmzKFatWrZtg8fPpxVq1axdOlSNm3axOXLl3nhhRdM+zMyMmjXrh1paWls27aNhQsXsmDBAsaMGZPfH8HsJLEoBNL/+w8uXoTSpbUORQizOxt7i5fnhvPJqiPcSsugVqA7a4Y2ZnTbSrLInbAITnbW/K9dCCsGNSLYz4XrSQaGLzlA3wW7uHQ9SevwhBC5uHnzJj169ODbb7+lWLFipu03btxg3rx5TJ48mWeeeYbatWszf/58tm3bxvbt2wH466+/OHLkCD/99BM1atSgTZs2jBs3jpkzZ5KWlqbVRzILSSwKg+BgKFkSrOWmSliuDKPCvK1naTN1M7vOXcfJ1opxnaqwbGBDgv1ctQ5PiDxXraQ7q4Y0ZtSzFbC10vPv8as8+/VmFvx3FqNRWi+EMLfExEQSEhJMr9TUe3dLHDRoEO3ataNFixbZtu/ZsweDwZBte3BwMIGBgYSHhwMQHh5O1apV8fXNanFv1aoVCQkJRERE5PGn0pYkFkIIzZ25epOX54QzbvURUgxGGpXzZP1bTejVoBR6vUwhKyyXjZWewc+UZ+2wp6hTqhhJaRl8vOoIXb/dzsU4ab0QwpxCQkJwc3MzvSZMmJBrucWLF7N3795c90dFRWFra4u7u3u27b6+vkRFRZnK3JlUZO7P3GdJ5BF4IaD75RfYvx86d4ZGjbQOR4g8k3F7LMUXfx4nNd2Ik60V/2sXQrd6AbImhShSyvk48+uAUH7ecZ4J646x82wcbaZuYUyHELrULik/D0KYwZEjRyhRooTpvZ2dXY4yFy9eZNiwYYSFhWFvb5+f4RVK0mJRCOjXrIGvv4Zdu7QORYg8ExmfTLdvtzN+zVFS0408Vd6LP4c3oXv9QLmJEkWSXq+jV2hp1t1uvbiZms47yw7S/8c9xMrMUULkORcXF1xdXU2v3BKLPXv2EBMTQ61atbC2tsba2ppNmzYxbdo0rK2t8fX1JS0tjfj4+GzHRUdH4+fnB4Cfn1+OWaIy32eWsRSSWBQCipub+o3MCiUsxKoDl2k9ZTM7z8bhZGvFhBeq8sOr9ShZzFHr0ITQXClPJ5YMCOXd1sHYWOkIOxJNq68381eEZXWZEKIwaN68OYcOHWL//v2mV506dejRo4fpexsbGzZu3Gg65vjx41y4cIHQ0FAAQkNDOXToEDExMaYyYWFhuLq6EhISku+fyZykK1Rh4Hp74KokFqKQS0wx8NEfESzfGwlAjQB3prxcg9JeThpHJkTBYqXX8cbTZWlawZsRv+7nWFQi/X/cw0t1SvJRh8o42cmfbyHyg4uLC1WqVMm2zcnJCU9PT9P2fv36MWLECDw8PHB1dWXIkCGEhobSoEEDAJ599llCQkLo1asXkyZNIioqig8++IBBgwbl2kpSmEmLRWEgLRbCAuw5f52207awfG8keh0MfaYcSweGSlIhxH2EFHdl5eBGDGhSBp0Oft19iQ7TtxJxWf4eCFFQfP3117Rv357OnTvTpEkT/Pz8WL58uWm/lZUVq1evxsrKitDQUHr27Mkrr7zC2LFjNYzaPOSRR2EgiYUoxDKMCtP/Psn0v0+RYVQoWcyBr1+uQd3SHlqHJkShYGdtxei2lXgm2Ie3luznTOwtnv9mGx+0q0SvBqVkTJIQ+ezff//N9t7e3p6ZM2cyc+bMex5TqlQp1q5da+bItCctFoWAIl2hRCEVk5hCz+92MGXDSTKMCs/XLMHaYU9JUiHEY6hfxpO1Q5+iRSUf0tKNjFkZwYAf9xCfZFkLbAkhCi9JLAoDabEQhdC207G0nbqV8DPXcLS1YsrLNfj65Rq42ttoHZoQhVYxJ1u+faUOY9qHYGOl468j0bSbtpU95+O0Dk0IIaQrVGGgNGkChw6Bp6fWoQjxQEajwsx/TvH1hhMYFajo68LMHrUo5+OsdWhCWASdTserjYOoW9qDIb/s5dy1JF6as52Rz1ZgYJOysqikEEIz0mJRGLi6QpUq4O+vdSRC3Ne1m6n0WbCLr8LUpKJL7ZKsGNRIkgohzKBqSTdWD32K52oUJ8OoMGn9cQb8tIeEFIPWoQkhiihJLIQQeWL3uTjaTdvK5hNXsbfR88WL1fiiS3UcbK20Dk0Ii+VsZ82Ul2sw8YWq2FrrCTsSzXMz/uN4VKLWoQkhiiBJLAqDtDQYOxZGjlS/F6IAURSFH7efp+vc7UQlpFDG24mVgxrTpU6A1qEJUSTodDq61gtk2cBQSrg7cDb2Fp1m/scfBy5rHZoQooiRxKIwsLKCjz6CyZPhriXjhdBSanoG7/12iA9XHCbdqNCumj+rBjemop+L1qEJUeRUK+nOqiGNeaq8F8mGDIb+so+xq45gyDBqHZoQooiQxKIwsLICl9s3ajIzlCggohNS6Dp3O0t2X0Svg/faBDOjW01ZEVgIDXk42bKgbz0GNSsLwPf/naX7t9uJSUzRODIhRFEgiUVhIVPOigJkz/k42k/fyr4L8bg52LCgbz0GNi0rC3UJUQBY6XW83SqYub1q42Jnza5z13luxn8cjpS/H0II85LEorCQxEIUEIt2XKDr3O1cTUwl2M+FPwY3okkFb63DEkLc5dnKfvwxpDHlfJy5ciOFF2dvY83BK1qHJYSwYJJYFBaZiYWMsRAaSc8wMmblYd7//RCGDIW2Vf347Y2GlPJ00jo0IcQ9BHk5sfzNhjxd0ZsUg5FBi/YyZcMJjEZF69CEEBZIEovCQloshIYSUgz0W7ibH8LPo9PB260qMrN7LRlPIUQh4Gpvw7zedXmtcRAAUzacZMgv+0hOy9A4MiGEpZHEorCQxEJo5GJcEi/O2samE1dxsLFids/aDGpWTsZTCFGIWOl1fNA+hEmdq2FjpWPNoSt0mbONKzeStQ5NCGFBJLEoLMaPh0OHoG9frSMRRcie89d5/pv/OBF9E19XO5YODKVVZT+twxJCPKaX6gaw6PUGeDjZcjgygY4z/uPgpXitwxJCWAhJLAqLsmWhShVwd9c6ElFE/HHgMt2+3U7szTQqF3dl5aDGVCnhpnVYQognVLe0BysHNSLYz4Wriam8PGc7G49Gax2WEMICSGIhhMhGURSmbTzJ0F/2kZZupGWIL78OCMXPzV7r0IQQeSTAw5GlA0NNi+m9/sNuftx+XuuwhBCFnCQWhcXBgzBuHCxcqHUkwoKlZxh577dDTA47AUD/JmWY3bO2DNIWwgK52NvwfZ+6vFSnJEYFPlxxmAnrjsqMUUKIxyaJRWFx8CCMGQM//qh1JMJCJaWl0//HPaaVtD99vgrvt62ElV4GaQthqWys9HzeuRojWlYAYM6mMwxbsp/UdJkxSgjx6CSxKCwyx1bIrFDCDK7dTKXbtzv4+1gM9jZ65vSqQ4/6pbQOSwiRD3Q6HUObl+erLtWx1utYdeAyvb7bSXxSmtahCSEKGYtILDIyMvjwww8JCgrCwcGBsmXLMm7cOBQlqzlXURTGjBmDv78/Dg4OtGjRgpMnT2oY9SOS6WaFmVy4lsSLs8M5cDEed0cbfn6tAS1DfLUOSwiRzzrXLsnCV+vhYmfNznNxdJ61jcvxMh2tEOLhWURi8fnnnzNr1ixmzJjB0aNH+fzzz5k0aRLTp083lZk0aRLTpk1j9uzZ7NixAycnJ1q1akVKSoqGkT8CSSyEGRyOvMELs7ZxNvYWJdwd+O2NhtQuVUzrsIQQGmlUzotlbzTE382e01dv8eKsbZyKual1WEKIQsIiEott27bx3HPP0a5dO0qXLs2LL77Is88+y86dOwG1tWLKlCl88MEHPPfcc1SrVo0ffviBy5cvs2LFCm2Df1iSWIg8tuXkVV6eE07szVQq+bvy+5sNKevtrHVYQgiNVfRzYdkbDSnj7cTlGyl0mb2NAxfjtQ5LCFEIWMRULw0bNmTu3LmcOHGCChUqcODAAbZu3crkyZMBOHv2LFFRUbRo0cJ0jJubG/Xr1yc8PJyuXbvmOGdqaiqpqamm94mJiQCkp6djMBjM/IlUmfUYDAZwdMRGDQzDzZtgZ5cvMYgnl+06FhDrI6IZsfQghgyFhmU8mNGtBi72VgUqxoKkIF5D8ejkOj48HydrFvWry+s/7uVQZALdv93ON91r0LCsp9ahyXW0AFpfw/T0dE3qLQosIrF47733SEhIIDg4GCsrKzIyMvj000/p0aMHAFFRUQD4+mbvN+7r62vad7cJEybwySef5Ni+ceNGvLy88vgT3F9YWBgYjXTU6dApCht++400WSiv0AkLC9M6BAB2xOj45bQeBR01PY109o5hy99/aR1WoVBQrqF4MnIdH17PEjDvpp4TN+DVhbt5pbyRGp4FYzpauY6Fn1bXMDY2VpN6iwKLSCx+/fVXfv75ZxYtWkTlypXZv38/b731FsWLF6d3796Pdc7Ro0czYsQI0/vIyEhCQkJo3rw5JUqUyKvQ78tgMBAWFkbLli2xsbEh499/UZydaREcDDY2+RKDeHJ3X0ctLQg/z6Lw4wC8VLsEYzuGyHSyD6EgXUPx+OQ6Pp52bYyMXHqQP4/EsOCkFWODQ+hat6Rm8ch1LPy0voaRkZH5XmdRYRGJxdtvv817771n6tJUtWpVzp8/z4QJE+jduzd+fn4AREdH4+/vbzouOjqaGjVq5HpOOzs77O7obpSQkACAtbV1vv8Q2NjYqHU2aZKv9Yq8ZbqOGlBX0z7F1xvUhe9efyqI99tWQqeTpOJRaHkNRd6R6/hobGzgm551+GDFYX7ZeYEP/zjCLYORgU3LahyXXMfCTqtraG1tEbe/BZJFDN5OSkpCr8/+UaysrDAajQAEBQXh5+fHxo0bTfsTEhLYsWMHoaGh+RqrEPlNURQ+XXPUlFSMaFlBkgohxCOx0uv47PkqDGqmJhMT1x1jyoYT2aZ1F0IIi0jZOnTowKeffkpgYCCVK1dm3759TJ48mVdffRVQF/956623GD9+POXLlycoKIgPP/yQ4sWL06lTJ22DfxS//QZHjsBzz0G1alpHIwqBDKPC+8sPsWT3RQDGtA/h1cZBGkclhCiMdDodb7cKxtHWmi/+PM6UDSdJMRh5t3VFeVAhhAAsJLGYPn06H374IW+++SYxMTEUL16cAQMGMGbMGFOZd955h1u3btG/f3/i4+Np3Lgx69evx97eXsPIH9H338PatVCihCQW4oHSM4yMXHqAlfsvo9fB552r0aVOgNZhCSEKuUHNymFvY8W41UeYvek0KYYMPuoQIsmFEMIyEgsXFxemTJnClClT7llGp9MxduxYxo4dm3+B5TVZy0I8JEOGkbeW7GfNwStY63VM61aTtlX9H3ygEEI8hH6Ng7C11vPhisMs2HaOtAwj45+rgl4mgxCiSLOIMRZFhiQW4iEYMowM/WUfaw5ewcZKxzc9aklSIYTIc70alGLSi9XQ6WDRjgu8vewgGUYZcyFEUSaJRWEiiYV4gLR0I4N+3su6w1HYWumZ3bM2z1b20zosIYSFeqlOAFNeroGVXsdvey8xbPE+DBlGrcMSQmjEIrpCFRmSWIj7SE3PYNDPe9lwNAZbaz1zetWmWUUfrcMSQli452qUwM5az5Bf9rH64BUUYOrLNbC2kmeXQhQ18lNfmEhiIe4hxZDBwB/3sOFoDHbWer57pY4kFUKIfNO6ij+ze9bGxkrHmoNXGPHrAdKl5UKIIkcSi8JEEguRixRDBgN+3MM/x69ib6Pn+z51aVLBW+uwhBBFTPNKvnzTQ00u/jhwmVFLD8iYCyGKGEksCpMWLWDLFpg9W+tIRAGRlm7kzZ/3sunEVRxsrPi+T10alfPSOiwhRBHVMsSXGd1rYa3XsWL/Zd5eJsmFEEWJJBaFia8vNG4M5cppHYkoAAwZRob8spe/j6ndn77vU5eGZSWpEEJoq1VlP6Z3q4mVXsfyvZG8+9tBjJJcCFEkSGIhRCGUYVQY8esB/oyIxtZKz7ev1CG0rKfWYQkhBABtqvozrauaXCzbc4nRyw9JciFEESCJRWGSlATTp8Onn2odidCQ0ajwzrKDrDpwGRsrHbN61pIxFUKIAqddNX+mvFwDvQ6W7L7IBysPoyiSXAhhySSxKEzS0mDoUPjgA0hJ0ToaoQFFUfjfisP8tvcSVnod07vVpHklX63DEkKIXHWoXpyvbycXi3Zc4NM1RyW5EIXKhAkTqFu3Li4uLvj4+NCpUyeOHz+erUxKSgqDBg3C09MTZ2dnOnfuTHR0dLYyFy5coF27djg6OuLj48Pbb79Nenp6fn6UfCGJRWHi4pL1vcwMVeQoisInq47wy84L6HXw9cs1aF1FVtQWQhRsz9UowcTO1QD4butZpm08pXFEQjy8TZs2MWjQILZv305YWBgGg4Fnn32WW7dumcoMHz6cVatWsXTpUjZt2sTly5d54YUXTPszMjJo164daWlpbNu2jYULF7JgwQLGjBmjxUcyK1kgrzCxsgJXV0hIUBMLX3lSXZR8vv44C7adQ6eDSS9Wp2P14lqHJIQQD+WlOgHcSk3nk1VH+HrDCZzsrHjtqTJahyXEA61fvz7b+wULFuDj48OePXto0qQJN27cYN68eSxatIhnnnkGgPnz51OpUiW2b99OgwYN+Ouvvzhy5AgbNmzA19eXGjVqMG7cON59910+/vhjbG1ttfhoZiEtFoWNrGVRJM369zSzN50G4NNOVXmxdkmNIxJCiEfTt1EQo56tAMD4NUdZvPOCxhGJoi4xMZGEhATTKzU19YHH3Lh9/+Xh4QHAnj17MBgMtGjRwlQmODiYwMBAwsPDAQgPD6dq1ar43vFAuFWrViQkJBAREZGXH0lzklgUNpmJRXy8pmGI/LNoxwU+X38MgA/aVaJ7/UCNIxJCiMczqFk5BjRVWypG/36IVQcuaxyRKMpCQkJwc3MzvSZMmHDf8kajkbfeeotGjRpRpUoVAKKiorC1tcXd3T1bWV9fX6KiokxlfO/qZZL5PrOMpZCuUIWNtFgUKasPXuZ/Kw4BMKhZWek6IIQo1HQ6He+1DuZmSjo/77jA8CX7cbS1kkkoLImiqBPMODhoHckDHTlyhBIlSpje29nZ3bf8oEGDOHz4MFu3bjV3aIVWvrRYPEzTknhIklgUGZtOXGX4kv0oCvSoH8ioZytqHZIQQjwxnU7HuOeq8HzNEqQbFd74eS/bTsdqHZZ4XHv3wjffwKBB0LQpeHuDoyNMmaJ1ZA/k4uKCq6ur6XW/xGLw4MGsXr2af/75h5Ils7oj+/n5kZaWRvxdPUmio6Px8/Mzlbl7lqjM95llLIVZEot169bRu3dvypQpg42NDY6Ojri6utK0aVM+/fRTLl+Wps/HNn48bN4MHTpoHYkwoz3n4xj44x4MGQodqhdn7HNV0Ol0WoclhBB5Qq/X8cWL1Xg2xJe0dCP9f9jD4Uh5YFZg3bgB27bBt9/CW2+BwZC1b8oUNan45hv1/uTaNXX7unVaRJrnFEVh8ODB/P777/z9998EBQVl21+7dm1sbGzYuHGjadvx48e5cOECoaGhAISGhnLo0CFiYmJMZcLCwnB1dSUkJCR/Pkg+ydOuUL///jvvvvsuiYmJtG3blnfffZfixYvj4OBAXFwchw8fZsOGDYwbN44+ffowbtw4vL1lYa9HUrOm1hEIMzt6JYG+83eRbMigaQVvvupSHSu9JBVCCMtibaVnWrea9Jm/k+1n4ugzfxe/vRFKKU8nrUMT//4Lq1dDRAQcPgyXLmXfP2AAVKqkft+kCcTFQZUqULky3LwJb74J58/ne9jmMGjQIBYtWsTKlStxcXExjYlwc3PDwcEBNzc3+vXrx4gRI/Dw8MDV1ZUhQ4YQGhpKgwYNAHj22WcJCQmhV69eTJo0iaioKD744AMGDRr0wO5XhU2eJhaTJk3i66+/pk2bNuj1ORtDXnrpJQAiIyOZPn06P/30E8OHD8/LEIQo1C5cS+KV73eSkJJOnVLFmN2zNrbWMseCEMIy2dtYMfeVOrw8ZztHryTwyvc7WTawId4ulnWzVeAkJ8OxY2rSkJk8zJwJpUqp+zdvhq++yn5MiRJq4lClSvbxE6+9pr4yxcSoLRply5r/c+SDWbNmAfD0009n2z5//nz69OkDwNdff41er6dz586kpqbSqlUrvvnmG1NZKysrVq9ezRtvvEFoaChOTk707t2bsWPH5tfHyDd5mlhkTqv1ICVKlGDixIl5WXXRcfgw/PMPlC4t3aEszLWbqbzy/Q6uJqYS7OfCvD51cbC10josIYQwK1d7Gxb2rUvn2ds4fy2JPvN3srh/A1zsbbQOzbKEhandlSIi4PRpMBqz7x8wICuxaNYMYmOzWiEqV4a7Zj26Jx8fGDo0T0PX0sOsFG9vb8/MmTOZOXPmPcuUKlWKtWvX5mVoBVKezwo1atQoXnvtNYKDg/P61AJgyxb1B/b55yWxsCBJaem8unA3564lUbKYAz+8Wg83B/mjKoQoGnxc7fnh1fq8OGsbEZcTGPjTHr7vUxc7a3m48lDS0+HUqazWh8yv06dD8+ZqmatXYcWKrGM8PLIShypVoFq1rH1PPaW+hHhEeZ5YrFy5kq+//pr69evz2muv8fLLL+PkJP0l84zMCmVx0jOMDF60jwMX43F3tGHhq/XwcbXXOiwhhMhXQV5OLOhbj65zw/nv1DVG/HqA6V1ropcxZlmMRrWbUWa//H//hWHD1G5NaWk5yx88mJVYNG6sDrTOTCZ8fcFck4JERKivGjWgQgXz1CEKpDzvvH3y5En++ecfKlSowLBhw/Dz8+PVV19l27ZteV1V0SSJhUVRFIUPVhzm72Mx2Fnrmde7LmW9nbUOSwghNFG1pBuze9XGxkrHmoNX+GRVxEN1RbE4iqIOfl67FiZNgt69oU4dcHaG77/PKufgoCYPaWnqFK9160KfPvDll+qsTD17ZpUNDFSTkObNwc/PfEkFwCefwMsvq/GLIsUsC+Q1adKEJk2aMHPmTJYsWcL8+fNp3LgxFStWpF+/fvTq1SvHCoTiIUliYVGmbjzJ4l0X0etgerea1C5VTOuQhBBCU0+V9+arl2ow9Jd9LAw/T3F3BwY0tYyBwDkoCly+rN7kFy+ubtu3T10PIjEx92OOHMn6vmpVWLVKbYEoVQpymThHE5ljNSxkZijx8My68raTkxOvvvoqr776KqdOnWL+/PlMmDCB//3vf7Jo3uOSxMJiLN55gSkbTgIwrlMVnq1sWYvkCCHE4+pYvThXE1MZt/oIE9Ydo0QxB9pXK651WE8mJib7+IfM7kLx8TBiRNYsTIGBalJhbQ0VK2YfB1G5MpQpk3VOR0do316Tj3NfmQ+PY2Xhw6LGrIlFplu3brFlyxY2bdrE9evXqVhRVhB+bJJYWISNR6P534rDAAx5phw96pfSOCIhhChY+jUO4mJcEgu2nWPErwfwc7WnTmkPrcN6sLg4NWGws4N69dRtV65ktUjczcoq+990T0+1VaJcObAppJN4yL1KkWXWxGLr1q18//33LFu2DEVR6NKlC59//jmNGjUyZ7WWLXO6t7Q0SEkBexnkW9gcvBTP4EX7yDAqvFi7JCNaysA2IYTIzYftQ7gcn8xfR6J57YfdLH+jIQHuBWSNC6MRdu7M2Qpx5Yq6/7nnsmZh8vNTEwZ39+ytD1WqqK0Sdy+Slrn4XGEliUWRleeJxZUrV1i4cCELFizgxIkTNGjQgMmTJ9O1a1ecnWVQ6hNzdlb7U7q6qs2kolCJjE+m38LdJBsyaFLBmwkvVEVnzgF0QghRiFnpdUztWpOuc8M5cOkGfRfsYsnr9fI3iFu34OhRNWmwsso+ILp5c0hKynlMYKC6nkMmnU4dS2Fra/54CwJJLIqsPL8zDQgIwNPTk169etGvXz8qFfasu6DR6wtmf0rxQIkp6fRbsMu0AN7M7jWxsSogA+2EEKKAcrC14rvedXlh1n+cv5bEwJ/30cPfjBUuXaoOoM5shTh7Vh1kDWorQ2ZiodfDM89Aamr2VoiQEPXh392KSlIBWYlFfLymYYj8l+eJxa+//krHjh2xlqfpQphkKPDWrwc4FpWIt4sd8/rUlVVlhRDiIXm72DG/Tz06z9rG/os3UG7p6Wh8zGlo09Lg5MmsrkvJyfDFF1n7x42DQ4fuCsBbTRpq1sy+fdWqx4vB0pUrB3PmZG+1Efnn7Fl1QeXz59UWNW9v9f9uaKjZu9Dn6d3/rVu3eOGFFx6pvCye9xhWr4Zz56Bt2+yzQ4gCSVEUlp/VszX6GvY2eub1rkMJdwetwxJCiEKlnI8zc3vVpue8HRyI0zPprxN82KHKwx08ezb884+aSBw/rq5UncnBASZOVLs5Abz4IjRsmNUCUbmy3CA/Ki8v6N9f6yiKnp9/hqlTYfdudWau4sXV/99xcXD6tJpU9OgB776bNSVwHsvTxKJcuXIMGzaM3r174++fezuloihs2LCByZMn06RJE0aPHp2XIRQNn38OW7eqg8EksSjwFoRfYGu0Hp0Oprxck2ol3bUOSQghCqX6ZTz5/IUqjFh6iHn/nae8rytd65RUH7bdOYD63Dn1iW3mGLY//8waSA3g4pKVNFSpoq5mnZlYjBmTz59KiDxQs6ba3a5PH/jtNwgIyL4/NRXCw2HxYnWxxW++gS5d8jyMPE0s/v33X95//30+/vhjqlevTp06dShevDj29vZcv36dI0eOEB4ejrW1NaNHj2bAgAF5WX3RIYOiCo2wI9FMWH8cgHeerUDrKrJWhRBCPBZFAZ2ODtX8CQvfj//vqwlZOJyMG5FYJecygDoyEkqWVL/v1St7K0RAgHlXnhZqC1FcHLRqpU48I8xr4kT13/pe7Ozg6afV16efqsm3GeRpYlGxYkV+++03Lly4wNKlS9myZQvbtm0jOTkZLy8vatasybfffkubNm2wynwyIB6dJBaFwuHIGwz9ZR+KAg19jPRrJGtVCCHEAykKREVlLSB352Jyp06BuzutSio426dQLUpdZFSxtUUXHJx9GtdixbLO+QjdtEUe6dIFrl1Tr1/lylpHY/nul1TczdNTfZmBWUZYBwYGMnLkSEaOHGmO0wtJLAq8mIQUXrs9rWyjsp509oqWaWWFEOJuV6+qf9MyZ0yaMkUdPB0Xl3v5iAho1AidDkI/GMRE/wr8pfPGqnw5lg1pgpuDTIpRYLi5qYmF3KtoJyZGfRmN2bdXq2a2Ki1mrsvIyEh69uyJp6cnDg4OVK1ald27d5v2K4rCmDFj8Pf3x8HBgRYtWnDy5EkNI34CklgUaCmGDPr/uIeohBTK+TgzvWs1ZFZZIUSRFh8P//2nzhQ0dKg6Tauvrzooeu/erHKZA031eihfHp5/Hj74AH75RZ2pqWFDU1HbOrV4dfIokoLKcTIuhcGL9pKeYcxZt9CG3KtoZ88etdXO319NImrUUMdgZH41I4uYE/b69es0atSIZs2asW7dOry9vTl58iTF7mgGnTRpEtOmTWPhwoUEBQXx4Ycf0qpVK44cOYJ9YVu9WuaHLrAUReH95YfYfzEeNwcbvnuljkwrK4QoOhIT4cgRKFtWnRkIYO5cuN+YyjNnoEED9ftOnaBePQgOVpOM3BgMpm99XO35rncduswOZ8vJWMavOcrHHaXbTYEgiYV2Xn0VKlSAefPUBD4fe0xYRGLx+eefExAQwPz5803bgoKCTN8risKUKVP44IMPeO655wD44Ycf8PX1ZcWKFXTt2jXfY34i8sNaYH235SzL90Vipdcxs3stSns5Ybjjj6AQQliElBQ1gbhz/MPhw+q8+QA//pi1kFzm7IUBAdkXkqtcGSpVyj6w19dXfT2CKiXc+PrlGgz8aQ8Ltp2jrI8zvRrImDbNyb2Kds6cUWeGKlcu36u2iMTijz/+oFWrVnTp0oVNmzZRokQJ3nzzTV5//XUAzp49S1RUFC1atDAd4+bmRv369QkPD881sUhNTSU1NdX0PjExEYD09PR8u1HMrCdHfS1aoFu+HCUgINuTG6GtTSeuMmHdUQBGt65A/dJuGAyGe19HUWjINbQMch0fQ2oqnDiBLiICpUoVNSkAdH/+iXWnTrkeovj5kXHzJkrmv3ODBlljKXLziNcjt+vYvKInI1uU46sNp/j4jwgC3e1oWNY8g1PFw7FycUEPZMTFYbzrGmv9s5h+5zomlqh5czhwQJPEQqcoymMuXVlwZHZlGjFiBF26dGHXrl0MGzaM2bNn07t3b7Zt20ajRo24fPlytvU1XnrpJXQ6HUuWLMlxzo8//phPPvkkx/bvvvsOr8zmXSFui06GyYesSMnQEepj5OUyRpnJUAhRqFjfuoX3gQO4nj+Py8WLuF64gNPly+hvD/w81rUrx28/iHOIiaHpyJEkBgaSGBhIQubXgAAMrq6axK8o8NMpPbtj9ThaK4yqmoFnIevpbEmqfPcdZVev5sSLL3I0s/WqgIiNjeW1117j4sWLlMycktiSxMZC795qt8IqVcDmri7ZHTuarWqzJhbHjh3jp59+4syZMzg7O1OpUiVeffVV3O711OIx2draUqdOHbZt22baNnToUHbt2kV4ePhjJRZ3t1hERkYSEhLC2bNnKVGiRJ7Gfy8Gg4GwsDBatmyJzd3/KUSBcSPZQJc5Ozh7LYk6pdxZ2KcOttZZo7XlOhZ+cg0tg1xHICMDzpxBd+SI2gpRtSpKhw7qvuPHsalaNcchipsbSkgIxl69UF577fbG27cOGjxBud91TDVk0H3eLg5GJhDs68yS/vVwtLWIzhmFju6//9AdOYKxdm2oVSvbPq1/FiMjIwkKCrLcxGLVKnXtloSEnPt0OvX3gJmY7adt/fr1PPfcc5QuXZpq1aoRGxvLjBkzGDduHKtWraJRo0Z5Vpe/vz8hISHZtlWqVInffvsNAD8/dVGy6OjobIlFdHQ0NWrUyPWcdnZ22NnZmd4n3L441tbW+f5DYGNjk73OxER1BdHUVMj8JS80kZ5hZPjSvZy9lkRxN3tm96qDk4NdrmVzXEdR6Mg1tAxF6jrevAkzZ2aNhTh6VB0fkalnz6w1HoKD1VmXKlbMNhZCV6IEOp2uwE0jmdt1tLGxYc4rdegwfSvHom/y/sqjzOhWU6b71sLtxdjut2qZVj+L1tYWnmwOGaL+bH/44SOPWXpSZvuXHTZsGJ9//jlvvfWWaZuiKAwbNow333yTAwcO5FldjRo14vjx49m2nThxglKl1MFbQUFB+Pn5sXHjRlMikZCQwI4dO3jjjTfyLI58Ex8Pr7yiNm316yerh2powrpjbDkZi4ONFd/2roOXc+5JhRBCmIWiqCtM3zmAunx5GD1a3W9jA//7X/YnlPb2EBKiJg93jD3E2lqdEraQ83dzYFbP2nSbu501B69QpbgbbzxdVuuwhMg/167B8OH5nlSAGROLhIQENmzYwIULF3JsP3LkCCNGjDBtmzx58hPVNXz4cBo2bMhnn33GSy+9xM6dO5k7dy5z584FQKfT8dZbbzF+/HjKly9vmm62ePHidLrH4LMCLbMrmcGgPnm615R8wqx+23OJeVvPAvDVS9WpXDxvu/gJIUSujEZ48011XYeIiJyz7jRokJVY2Nmp60Z4ema1QgQFgdX9niMXfnVLe/Bxx8p8sOIwk/48RiV/F56u6KN1WEVLXBzs26cmt02aaB1N0fLCC/DPP+q0z/nMbInF4sWLmT59Ovv37+fOYRwpKSkYjUb27dsHkCfNk3Xr1uX3339n9OjRjB07lqCgIKZMmUKPHj1MZd555x1u3bpF//79iY+Pp3Hjxqxfv77wrWEB6tR8Op36pOrGDUksNHA48gbv/34IgKHPlKNtVf8HHCGEEA/p2rXsLRAREWpicLt7L3o9/PknnDunvreyUlspMqdxrV07+/me8OFdYdWjfiARl2/wy86LDP1lH38MbkxpLyetwyo6du+GVq3UBdrysJeKeAgVKqgPF7ZuhapVcw7eHjrUbFWbLbH44osv6NatW7abe4A5c+YQFRXFP//8k6f1tW/fnvbt299zv06nY+zYsYwdOzZP69WEXg+urmpSceMG3B5DIvLH9VtpDPxpD6npRppV9OatFhW0DkkIURglJ2d/MNS9u/qUMSoqZ1lPT/VhUubDuE8+UW8WKldWx0TYSTfMu+l0Oj7uWJnjUYnsvRBP/x93s/zNRjjbWXj/+oJC1rHQznffqQ+hN21SX3fS6QpnYtG+fXteeeUVFi9eTP369QHYsWMH69evZ+HCheaqtuhwc1N/WGX17XyVYVQYungfl64nE+jhyJSXa6LXyxgXIcR93LqV+2JyABcvZpWLiclKKkqVyrmY3J1eeSV/Yi/k7KytmNWzNh2mb+VE9E1G/rqfWT1qy+/t/CCJhXbOntWsarMlFgMHDqR8+fLMmjWLZcuWYWVlRaVKldi+fTu1726mFY/O3R0uXJAf2Hz2ddgJtpyMxd5Gz5xetXFzLCIzywghHiwlBU6fzp4EvPQSLF1672Nu3Mi6ARs/Hj79VB1Y7eJi3liLEF9Xe2b3qk3XOdv5MyKamf+cYkjz8lqHZfky/18nJGRvbRMWzaztgc2bN6d58+bmrKLokicB+e6viChm/HMKgM87V6OSvzaLQAkhNJaWBidOZB8DcfiwmlQoijrFq6OjWtbDQ/3q65vV8nBnK8Sd6zo1aJD/n6WIqBVYjLHPVea95YeYvOEEVUq60UwGc5tX5v9to1H9mZBkOf907qwujvfuu9m3T5oEu3bd/2HHE5KOhoXVJ5+oP6h16mgdSZFw+upNRvyqDj7r26g0z9XIn0UShRAaSk9Xk4WICGjfHmxt1e0DBsCCBbkfU6yY2r2pYkX1/ZgxakuEl1e+hCzurWu9QA5F3uDnHRcYvmQ/q4c0pmQxR63DslwODuoUxunpardtSSzyz+bN8PHHObe3aQNffWXWqiWxKKyaNdM6giLjVmo6A3/cw83UdOqV9uD9tpW0DkkIkdeuXFGf5N3ZCnHsmLoQKajbMrs4Va6s3iTd2fKQ+b2fX/YuH8WL5/9nEfc0pkMIhyNvcODSDd78eS9LB4ZiZ23ZU+9qRqdTWy2uXVN7VwQEaB1R0XHzZtaDkDvZ2OS+GnceksRCiPtQFIV3lh3kZMxNfF3tmNGjJjZWBW39WSHEQ1EUHGJi0K1bpyYNvXqB/+2poufNU1epvZujozrm4datrG1Dh8LIkdJnvBCys7ZiZo9atJ++lYOXbjBu9RHGd6qqdViW69NP1a8ye2X+qloVlixRW0zvtHix+vvMjCSxKKyOHoU9e9SZQ556SutoLNa3W86w5tAVbKx0fNOjNj4uhXDdEyGKqpMnYfVqUyuE9ZEjPJuYmLW/YkV47jn1+xo1oHr1rJaHzK+lS6tTfN8ptyeBotAoWcyRKS/XoO+CXfy0/QK1SxXj+ZoltQ7LMg0YoHUERdOHH6qL5J0+Dc88o27buBF++cWs4ytAEovC648/4L33oHdvSSzMZMeZa3y+/jgAY9qHULtUMY0jEkLkcPVq9gHUr76qDloE9eHLiBGmojrAaGWFrmJFdFWrqmtDZGrfXn2JIuHpij4MeaY80zaeZPTyQ4T4u1HRT8YACAvRoQOsWAGffQbLlqnjXapVgw0boGlTs1adp4nFCy+88NBlly9fnpdVFz0yK5RZxd5MZcgv+8gwKjxfswQ9G5TSOiQhBKizMU2fnpVIXL2afX+FClmJRa1a6lO7260PhooVWXfqFG06dsTm7pVoRZEzrHl59l24zpaTsbzx0x5WDm6Ei738v8hTp07B+fNQpgwEBWkdjeU7c0b9twZo10595bM8TSzc7pw2T5iXJBZmk2FUeGvxfmISUynn48ynz1dBJ32phcgfiYnZF5M7fFgdC9Grl7o/IQFmzMgqr9OpNyyZXZdCQ7P2VagAv/2W9d5gQDl3Ll8+hij4rPQ6pnatSftpWzgTe4t3lh3kmx615Pd9Xho/HhYuhIkTc059KvJetWpq982OHdVunrcXqM5PeZpYzJ8/Py9PJ+5HEguzmfH3KbaeisXBxopZPWrhaCs9BoXIc3cumHXhArzxhppInD+fs2y5clmJRaVKMGpUViJRqRI4OeVf3MKieDjZMrNHLV6aE866w1HM23qW154qo3VYlkPuVfJXbCyEhcHKlWpiodOpXTw7doSWLcHe/ONE5Y6psJIfVrP471QsUzaeAGB8pyqU95U+t0I8kZQUOH48qwUisxWiU6es+dRdXWHt2qxj/P2zD6C+c+E4Jyf44ot8/QjCstUMLMaH7UMYszKCCeuOUT3AnbqlPbQOyzLIvUr+srdXx1d06KA+vAkPV8fkvvsudOsGLVqoSUaHDuDtbZYQzJpYLFu2jF9//ZULFy6QlpaWbd/evXvNWbXlkx/WPBeTkMKwxftQFHipTkk615ZZQoR4aAaD+vsocyG4hAR1rMPJk+rKu3c7dCjre3d3+P57tWWicuWs1aqFyCe9GpRi97nr/HHgMoMX7WXt0KfwdLbTOqzCT+5VtKPTQcOG6mviRPV38R9/qIt7vvEGTJ4MgwblebVmm5B/2rRp9O3bF19fX/bt20e9evXw9PTkzJkztGnTxlzVFh13/rAqiraxWID0DCNDftlH7M00gv1c+KRjFa1DEqJgyshQB1D//juMGwddu6pzpjs5qTMyZXJxUZvljUY1cWjcWJ16cvp0+Ptv+Pnn7Oft21ed4U6SCqEBnU7HhBeqUtbbieiEVEYtPYDRKH9bn1jmvUp8vKZh5IWZM2dSunRp7O3tqV+/Pjt37tQ6pJxWr879QQ5A+fLq+jubN8Ply/Dss2YJwWwtFt988w1z586lW7duLFiwgHfeeYcyZcowZswY4uLizFVt0eHjAz/8kPVDK57IlA0n2XE2DidbdfEkB1tZiVUUcUajOt4hLg5q11a3KYraTenumZgynT2b9b1Op3ZvKllSPUYGxIoCzsnOmhnda/HczP/45/hV5m09y+tNZLzFE3F3V78W8haLJUuWMGLECGbPnk39+vWZMmUKrVq14vjx4/j4+GgdXpZOncDXF/r0UR/WlCuXezlPz+zTbechs7VYXLhwgYYNGwLg4OBA4u1FiXr16sUvv/xirmqLDjs7dTBjx47yB/sJ/Xs8hhn/nALgsxeqUtbbWeOIhMhnly7B+vXqmIe+fdUuTK6u6rSFPXtmlcucgcnBQZ3K9ZVX4PPPYc0aOHcODh7Mft569aB4cfkdJQqNSv6ufNRBXZn48/XH2HfhusYRFXIFvCtUYmIiCQkJpldqamqu5SZPnszrr79O3759CQkJYfbs2Tg6OvL999/nc8QPcPas2jK8eLG6AGjTpvDjj5CcnG8hmC2x8PPzM7VMBAYGsn37dgDOnj2LIl13RAFxOT6Z4Uv2A9CjfiDP1SihbUBCmIuiwJUr6gJJP/2UfV/79tCmjTrb0oIFsGsX3LqlrjDt6Ji9aX3NGnVK2D171Gkk33kH2raFUqUkgRAWoXu9QNpV8yfdqDB40T5uJBm0DqnwCg5W+/e/957WkeQqJCQENzc302vChAk5yqSlpbFnzx5atGhh2qbX62nRogXh4eH5Ge6DBQTAmDHqitsbNqhTz77xhtpqPHCg+rvdzMzWFeqZZ57hjz/+oGbNmvTt25fhw4ezbNkydu/e/UgL6Yn72LhRvVFo0QL8/LSOptBJzzDy1uL9XE8yULm4Kx+2D9E6JCHyzq5dsHNn1ixMERFqtyZQWzy7dQOr213+atSAtLTsMzFVqaI2o1vf9Wcic3C2EBYqc7zFoUs3uBCXxLu/HWRWT1nf4rEEBBTo9SuOHDlCiRJZDxTt7HIO2I+NjSUjIwNfX99s2319fTl27JjZY3xszZqprxkz1BaMBQvUGfaqVIEDB8xWrdkSi7lz52K8/ZRr0KBBeHp6sm3bNjp27MiAAQPMVW3RMmKE2vVg/XpJLB7DjH9OsfPc7XEV3WthbyPjKkQhEx+fNYXr8ePw5ZdZrQYTJ8Ly5dnL6/VQtqz6hyUhAYoVU7fPny+tDULcwdXehhnda9J51jbWR0Tx4/bzvBJaWuuwRB5zcXHB1dVV6zDMy8UFmjdXx8wdO6YuQGpGZkss9Ho9en1WT6uuXbvStWtXc1VXNBXwvosF2Y4z15i28SQAnz5fldJessCWKAQ2bIB167JaISIjs+8fNgwCA9XvmzZVWyEyWyAqV1a7JTg45DyvJBVC5FCtpDvvtanEuNVHGL/6KLUCi1GlhEyY8kgURe02eeOGOuubra3WET0yLy8vrKysiI6OzrY9Ojoav4L8UDc5GZYuVafy3rJFHR83YoQ6sNuM8jSxOHjwIFWqVEGv13Pw7kF8d6lWrVpeVl00SWLxWOKT0nhryX6MCnSuVZJONWVchSggkpPVJ0p3LiY3b546CxyoK6pOnpz9mJIls7ouWd3R6jZ0qPoSQjy2VxuVJvz0NTYcjWbwor2sHvoUznaytvAjadhQXefmwgW1a1QhY2trS+3atdm4cSOdOnUCwGg0snHjRgYPHqxtcLnZvl1NJn79VX249MIL6kOpZs3ypfo8/emoUaMGUVFR+Pj4UKNGDXQ6Xa4DtXU6HRkZGXlZddEkicUjUxSFd387yJUbKQR5OfHJc5W1DkkUdWvXwrffqknE6dM55yA/fBieeUb9vmVLdSXrzFaIkJCs6RyFEHlOp9PxZZdqtJ26hXPXknh/+SGmdq0h4y0elk6n3qvExqr3KoUwsQAYMWIEvXv3pk6dOtSrV48pU6Zw69Yt+vbtq3Vo2YWEqN1ia9aECROge/d8X5YgTxOLs2fP4n17ifCzd85nLsxDEotH9vOOC/wZEY2NlY5pXWvKkydhXgYDnDqVfQB1RIT6NKlBA7VMZCSsWJF1jIdH9gHUFSpk7WvRQn0JIfKNu6Mt07rV5OW52/njwGUal/fipTqF8wZZE3cmFoXUyy+/zNWrVxkzZgxRUVHUqFGD9evX5xjQrbkWLeCXX6B6dc1CyNO7qlKlSpm+P3/+PA0bNsT6rhlF0tPT2bZtW7ay4jFJYvFIjkclMm61Omjp3dbBVC0pfWVFHsnIUF+Z/Yf//BPeflt9cpSWlrP8oUNZiUWzZjBlSlYy4esrYx6EKGDqlPZgRMsKfPHncT7+I4K6pT0IkrF5D8dC7lUGDx5cMLs+3WnaNPXrL7+oM//l5u234YsvzBaC2daxaNasWa4rbN+4cYNm+dTPy+JZyA9rfkhOy2DIL3tJTTfydEVvXm0UpHVIojBSFHVmjTVrYNIkdYG42rXB2Vmdzi+Tra2aPKSlgZMT1K2rLjz35ZfqLG53Trldrpw66Lp5c3V2N0kqhCiQBjYtS/0gD5LSMnhr8T4MGcYHHyTkXkULb7yhTvRxt+HDc65jlMfM1g9EUZRc+yBeu3YNJyfJ8vNEu3bqqrYVK2odSYE3fs0RTkTfxMvZji+7VEevl5s3cR+KApcvq2s43G7qLnbsGNY9e8LNm7kfc+cUfrVrw6pVaitEYKA6zasQolCz0uv4+uUatJ6ymQOXbjBlwwnebhWsdVgFnyQW+e/nn9UWi9WroXFjdduQIeoU5P/8Y9aq8zyxyFz8TqfT0adPn2yLjWRkZHDw4EEaNmyY19UWTVWqqC9xX+sPX+HnHRcA+Prl6ng551wARxRhMTHZxz9kfh8fr65g+sknACR7eqK7eRNsbNRk/s5pXKtUgTJlss7p6qquZi2EsCjF3R2Y8EI1Bi3ayzf/nuap8t40KOOpdVgFW+YEE5JY5J927eCbb6BjR3U2wXnzYOVKNam4c9yeGeR5YuF2OzNVFAUXFxcc7pgz3dbWlgYNGvD666/ndbVC5OpyfDLv/nYIgAFNy/BUeW+NIxKauXZNTRicnaFWLXXbqVNQvnzu5a2s1GNuS/HywrB/PzYhIWpyIYQoktpV8+ff4yVZuucSI5bsZ92wJrg5yu+Ee+rcWV1D5+mntY6kaOneXX1A1qgReHvDpk1q11szy/PEYv78+QCULl2aUaNGSbcnc0pIUP+jZGTA7bmVRRajUWHkrwe4kWygekk3Rj0rXcaKhPR02LUrZytEVJS6v1s3WLRI/T4oCBwdwd8/q+UhsxWiYkWwt886r06nTuUnSYUQRd7HHSuz61ycOgXtikPM6FZTpqC9l/btpQU3P4wYkft2b2/1Ydo332Rtu3s9pDxktjEWH330kblOLTJdvKg2c3l6SmKRi+//O0v4mWs42FgxpWtNbKykn7tFuXULjh5VkwZHR3jpJXW70QhNmqgJxt1KlQIvr6z3VlYQFwd20j1OCPHwnOysmdK1Ji/O2saag1d4uoI3XWQKWqGlffty316unPogOnO/mRNgsyUW0dHRjBo1io0bNxITE5NjoTxZIC8P3DkgSlFkNpk7HL2SwKT1xwH4sH2ITAtoCX75BQ4ezGqFOHtW/X8P6qxLmYmFra2aWFhbZ2+FCAkBF5ec55WkQgjxGGoEuDP8riloS8vfmpxu3FC7ndrYQLVqWkdjucw8KPthmS2x6NOnDxcuXODDDz/E399fmgjNITOxSE+H5GT1qa0gxZDB8CX7Scsw0jzYh2715ClSoWAwwIkTWV2XFAXGjcva/7//qcnEnXx81KShXr3s2zduNH+8Qogib2DTsmw6cZWdZ+MYtmQ/ywaGSuv43cLCoEsXta//1q1aRyPMzGyJxdatW9myZQs1atQwVxXC2VmdxtJoVJ8ISGIBwFd/HedYVCJezrZ8/mI1SWoLsunT1T80ERHqYnJ3dl/y8ICxY7Na4l5+WR2IdmcrhLcMxhdCaCdzCto2UzZz4GI8UzecZFQrGc+XjUw3mz8GDoQPPoCSJR9cdskS9e9tjx55HobZEouAgIAc3Z9EHtPp1Gkt4+PVH1h/f60j0ty2U7F8u0V9qv1552oytayWjEa1heHOAdQxMerTq0yrVmV/7+KSNXi6cmV1YgLr27+mJkzI3/iFEOIhlHB34LMXqjJ40T6++fcUzYK9qV3KQ+uwCg5JLPKHt7f6d7NRI+jQAerUUdc6s7eH69fVtZa2blUXcy1eHObONUsYZksspkyZwnvvvcecOXMoXbq0uaoR7u5qYhEfr3Eg2ruRZGDk0gMAdKsXSPNKvhpHVETcPb5n4kRYtkwdWJ2UlLP89etQrJj6fd++0LJlVitEQICMFRJCFDrtqxXn72MxLN8byYhfD7B26FM42ZntFqtwkcQif4wbB4MHw3ffqTNA3bloK6gP7lq0UBOK1q3NFobZ/te//PLLJCUlUbZsWRwdHbG5a4rGuLg4c1XNxIkTGT16NMOGDWPKlCkApKSkMHLkSBYvXkxqaiqtWrXim2++wde3kN98yg+syYcrD3PlRgpBXk582L6S1uFYHkVRp2zNnMY18+vRoxAZCZlTS1+8CHv2qN/b2anzl2d2XapSJfsUrt265f/nEEIIM/ioQ2W2n77G+WtJTFh3lPGdqmodUsGQeZ+SmKi2ZOtlDIrZ+Pqq4xH/9z/1Id6FC+oYXC8vKFs2Xx7cmbXFQgu7du1izpw5VLtr5oHhw4ezZs0ali5dipubG4MHD+aFF17gv//+0yTOPPPhh+q0m0V8Be6V+yP548BlU39XR1t5UvRErl5VWxUyuyFNnAiTJqm/qHJz5Ig6MxOorRDNm6uJRNmyWecQQggL5uZgwxddqtPjux38tP0CLUP8aFpBxoGZEgtFUZOLzPfCvIoVy+odkI/M9he/d+/e5jr1Pd28eZMePXrw7bffMn78eNP2GzduMG/ePBYtWsQzzzwDqAv5VapUie3bt9OgQYN8jzXPdO6sdQSai4xP5oMVhwEY8kw5agS4axtQYRIfn731IfNrTIw6tWvV20/cbG3VpEKvV+fEvnMAdZUqUKFC1jnr1FFfQghRxDQq50WfhqVZsO0cby89wF/Dm+DuaKt1WNqyt1enmjUY1N4VklhYNLM+Sjx9+jTz58/n9OnTTJ06FR8fH9atW0dgYCCVK1fO8/oGDRpEu3btaNGiRbbEYs+ePRgMBlq0aGHaFhwcTGBgIOHh4bkmFqmpqaSmppreJyYmApCeno7BYMjz2HOTWU9+1VcYGY0KI5fsIzElneol3RjQuFSB+/cqENcxMRHdkSMoFSqYnmDop0/HauTIex6SfuIESnCw+qZzZ3jqKbVb051dme5UwP7d81KBuIbiicl1tAwF/TqOaF6WzSdiOBObxP9+P8SUl2TtBv3774ONDUY7OzAYNL+G6bktoCryhNkSi02bNtGmTRsaNWrE5s2b+fTTT/Hx8eHAgQPMmzePZcuW5Wl9ixcvZu/evezatSvHvqioKGxtbXF3d8+23dfXl6ioqFzPN2HCBD755JMc2zdu3IjXnSv35oOwO2fNuYvTlSs4X7pEsrc3CUVwkPzmKzq2n7PCVq/Qwesaf/25XuuQ7ul+1zGv6FNTcbl4EdeLF3E5f179/sIFHK9eBWDne+9x5XYi7XftGvWBJC8vEgMDSQwIICEwUP2+ZEkyrK1h7drsFVy+bPbPUJDlxzUU5ifX0TIU5OvYyQ+mxFqx5lAUXimR1PIq4rNk1qypft2+Pdtmra5hbGysJvUWBWZLLN577z3Gjx/PiBEjcLljtdtnnnmGGTNm5GldFy9eZNiwYYSFhWF/r6epj2j06NGMGDHC9D4yMpKQkBCaN29OiRIl8qSOBzEYDISFhdGyZcscg98z6T/8EKvPPydj0CCMb76ZL3EVFOeu3eLdmeGAkffbVqJH/UCtQ8rVw1zHR5aaCsePo4uIQKlVCyqq86brli3DetSoXA9R/P2pVaECStu26oZmzTAMH46NmxsegEyOeG9muYYi38l1tAyF5TqmeZ1ixr9nWHHJjtc7NcTXNW/uTyyB1tcwMjIy3+ssKsyWWBw6dIhFixbl2O7j45PnmeKePXuIiYmhVq1apm0ZGRls3ryZGTNm8Oeff5KWlkZ8fHy2Vovo6Gj8/PxyPaednR12dllrICQkJABgbW2d7z8ENjY2967TQ70dtEpMxKoA/4LNaxlGhfd+P0KKwUijcp680rAMen3Bnqb0vtfxfq5fhw0bso+BOHlSXeMB1EHVmYP3q1dXZ3/IHP9wx1gInYdH9h/4IvT/Ja889jUUBYpcR8tQ0K/jsJYV2XTyGocib/C/lUdZ0Ldu0V2w9fJldVbBEiXUmYtu0+oaWsukImZjtn9Zd3d3rly5QlBQULbt+/bty/Mn/s2bN+fQoUPZtvXt25fg4GDeffddAgICsLGxYePGjXS+Pdj5+PHjXLhwgdDQ0DyNJd8V0elm5209w57z13G2s2bSi9ULfFLxQBkZcOZM1mJydepAq1bqvrNn4aWXch7j5qYmDXeuPl2pkjqjkxBCCE3ZWOn5+uXqtJ22lU0nrrJo5wV61C+ldVjaGDwYfv9dXV/hjTe0jkaYkdkSi65du/Luu++ydOlSdDodRqOR//77j1GjRvHKK6/kaV0uLi5UuWu6VScnJzw9PU3b+/Xrx4gRI/Dw8MDV1ZUhQ4YQGhpauGeEgiKZWJyMTuTLv04A8GH7SpRwd9A4oscQHw9z5mS1Qhw9CikpWfv7989KLCpVgvr1s69IXaWKunLm3U+/iurTMCGEKIDK+bjwbutgxq0+wvjVR2lU1ovSXk5ah5X/iuC9SlFltsTis88+Y9CgQQQEBJCRkUFISAgZGRl0796dDz74wFzV3tPXX3+NXq+nc+fO2RbIK/SK2A9reoaRUUsPkJZu5OmK3rxUJ0DrkHKnKOqicYcPoz94kJp//on+5EnIHP+g08F772U/xt5eTSKqVIGmTbO2OzjkGPAmhBCicOjbsDRhR6LYfiaOt5cdYEn/0MLfyv6oMruhF5F7laLMbImFra0t3377LWPGjOHQoUPcvHmTmjVrUr58eXNVmc2///6b7b29vT0zZ85k5syZ+VJ/viliicXsTac5cOkGrvbWTHyhWsHqr5qWpjb3Zo6DuD0uxwoIBIyKkpVYuLmpzcElSmS1QAQFgZWVZuELIYTIe3q9ji+7VKfV15vZde46C8PP0bdR0IMPtCRF7F6lKDNbYjF27FhGjRpFQEAAAQFZT5WTk5P54osvGDNmjLmqLlqK0A/rkcsJTN14EoCPO1bGzy2fZ9i4di3nYnKBgfDjj+p+W1u1D2nm5ARWVlChAsZKlThha0u5bt3Q33k+S2gxE0II8UAlizkyum0lPlhxmM/XH6NZRZ+i1SWqCN2raKptW/jll6x/74kTYeDArBaja9fUNamOHDFbCPoHF3k8n3zyCTdv3syxPSkpKdf1IcRjKlkSpk2DqVO1jsSs0tKNjFx6AEOGQssQX56vacYpf+9YGBGAF14APz91tqWmTWHQIDUp2LwZtmzJXnbCBPWH+uBBuHULjhwhY/FijnftitKmjfliFkIIUaB1rxdIw7KepBiMvPPbQYzGIrS2ReaNbny8pmFYvD//zH4P89lnEBeX9T49HY4fN2sIZmuxUBQl124qBw4cwMNDZszPM25uMGSI1lGY3Yy/T3L0SgLFHG347PmqedMF6vaNv6kFIrMVwskJjh3LKnflCkRHq9+XLp1tClfumjSA11578riEEEJYHL1ex+edq9FqymZ2no3jx+3n6d2wtNZh5Q9pscgfinL/9/kgzxOLYsWKodPp0Ol0VKhQIdsNYEZGBjdv3mTgwIF5Xa2wYIcu3WDmv6cBGNepCt4udg844i7JyXDunDowOlOHDrB6de7lrazUjD9zHZMvvlC7OYWEgLPzo38AIYQQAgjwcGR0m2A+XBnBxHVql6hAT0etwzK/ypXh3Xchn8bZCu3keWIxZcoUFEXh1Vdf5ZNPPsEtM0tFHdBdunTpwr92REGzY4far79Ro6x+dBYiLd3I28sOkGFUaFfNn/bVit+ncJraxHfnOIiICDh9Gqyt1RaKzEVxihVTv/r4ZG99yJzO9Y7FEWnc2HwfUAghRJHSo34p1hy6wvYzcbzz2wEWvdbA8meJCg5W+/sL89LpNJ+GPs8Ti969ewMQFBREw4YNC/SqmBaja1f1iXx4OBT2dTnuMuvf0xyLSsTDyZaxHSurG9PT4dQptRtTp06gvz1UqFcv+PXX3E/k7Kyu/BkYqL7/9FP46qvsi8sJIYQQZqbX65jUuTqtpmxm+5k4ft5xnl6hpbUOS1gCRYE+fbIejqakqIO3nW5PFHD3GFIzMNsYi6ZNm5KRkcFvv/3G0aNHAahcuTIdO3bESqbUzFsWOijqeFQiS/8Ip2XkSUYUN+DZf77aAnHsmNo6Aeqq1KVLq9+HhICra84xEJUrg69v9qw9oICufyGEEMLiBXo68l6bYD76I4IJ647xdEUfAjwsuEuU0ag+AI2Phxo1NA7Ggt1+uG/Ss2fOMnm8SPXdzJZYnDp1irZt2xIZGUnFihUBmDBhAgEBAaxZs4ayZcuaq+qip7APilIUuHgxq/vSq6+SUcyDd347SLddqxm0fWnOYxwd1YThzs/83nswZoysPi2EEKLA69VA7RK182wc7yw7yM+v1bfcLlFpaZB53xcfr/4NF3lv/nytIzBfYjF06FDKli3L9u3bTbNAXbt2jZ49ezJ06FDWrFljrqqLnsKWWBw7BuvWZY2FOHIEEhOz9tesyfe2ZThwMZ5yJctjqFodm2pVsrdClCqV1QUqk90jDuoWQgghNKLX6/jiRXWWqPAz11i08wI9G5TSOizzsLdXJ0FJS1PvVSSxsFhmSyw2bdqULakA8PT0ZOLEiTRq1Mhc1RZNPj7q16gobeO4U0xM9gHUb7wB1aur+/77D0aMyF7e2hoqVoQqVbicYc2Xf6nzLNd7ZwA2dT/N5+CFEEII8yvl6cS7rYP5ZNURPlt7lKYVvC23S5SbG1y9qiYW/v5aRyPMxGyJhZ2dHYl3PoW+7ebNm9ja2pqr2qKp1O0nHOfPaxdDRATMmpXVCpG5+nSmGjWyEos6ddRF5+4cA1G+PNjaYjQqvPXtdlLTb9G4nBcv1ZGxEEIIISxX79DSrD10hV3nrvO/FYdZ2Ldu3qzVVNDcmVgIi2W2xKJ9+/b079+fefPmUa9ePQB27NjBwIED6dixo7mqLZoyE4sLF8xXR0JCzsXk+veHF19U98fGwsyZWeV1OihTJit5qF07a1/16vDbb7lW8/POC+w8G4eDjRUTXsijhfCEEEKIAkqv1zGxczXaTNnC5hNXWbn/Mp1qltA6rLxX2Lpti8ditsRi2rRp9O7dm9DQUNOUs+np6XTs2JGpU6eaq9qiKTQUJk9Wb+KflKJkDX4+eRKGDVOTiNySlmrVshKLqlXh7bezWiAqVXrkPpSR8clMXKvOIPZO64qW2xwshBBC3KGstzNDm5fjy79O8MmqCJ4q74Wns4WNG5TEokgwW2Lh7u7OypUrOXXqlGm62UqVKlGuXDlzVVl0lS8Pw4c/2jEpKTkXkzt8GHr0gLFj1TKOjuog60z+/tkHUDdsmLXPwwMmTXrsj6AoCu8vP8SttAxqlypGb5nTWwghRBHSv0lZVh+8wrGoRMavOcrXL9fQOqS8JYlFkZDniYXRaOSLL77gjz/+IC0tjebNm/PRRx/h4OCQ11WJh2EwqN2YPD3V9zEx0KSJusBcRkbO8ocOZX1fvDjMnau2PlSunLVatRks3xvJphNXsbXW83nnapY75Z4QQgiRC1trPRM7V+OFb/7j932RPFejOE9X9NE6rLzTqRNUqCDrWFi4PE8sPv30Uz7++GNatGiBg4MDU6dOJSYmhu+//z6vqxJ3OngQ/vpLbWW4di2rBeLECXWg9OLFajkvL7VbU0YGuLtntUBktkJUqZJ1Tp0OXn/d7KFfTUxl7OojAAxrXp5yPs5mr1MIIYQoaGoEuNO3URDztp7lf78f5q/hTXCyM1vnkvx158JsBoN2cQizyvP/rT/88APffPMNAwYMAGDDhg20a9eO7777Dv3d6w6IvDNwIISH577v7Nms7/V62LhRHfDt718gFpMbt/oIN5INVC7uSv8mZbQORwghhNDMyGcr8GdEFJeuJ/PlX8f5qEMejJ8UIp/k+Z3+hQsXaNu2rel9ixYt0Ol0XL58Oa+rEnfq1Qu8vdXZl3r3Vsc7rF2rTkG7fXv2sqGhajenApBU/Hs8hj8OXEavg4kvVMPGSpJPIYQQRZejrTWfPV8VgAXbzrHvwnWNI8ojSUlw5gycO6d1JGZz7tw5+vXrR1BQEA4ODpQtW5aPPvqItLS0bOUOHjzIU089hb29PQEBAUzKZYzq0qVLCQ4Oxt7enqpVq7J27dr8+hhPJM/v4tLT07G3t8+2zcbGBoM0e5nXG2+o4yd274YFC9QZmtq0gcDAApFA5CYpLZ0PVhwGoG+jIKqWdNM4IiGEEEJ7TSp480KtEigKvPfbIdLSjVqH9OQWL4ayZeHNN7WOxGyOHTuG0Whkzpw5RERE8PXXXzN79mzef/99U5mEhASeffZZSpUqxZ49e/jiiy/4+OOPmTt3rqnMtm3b6NatG/369WPfvn106tSJTp06cfjwYS0+1iPJ865QiqLQp08f7OyypklLSUlh4MCBODk5mbYtX748r6sWhczUDSe5dD2ZEu4OjGhZQetwhBBCiALjw3YhbDp+lePRiczedJqhzctrHdKTKYCzQiUmJpKQkGB6b2dnl+3+9VG1bt2a1q1bm96XKVOG48ePM2vWLL788ksAfv75Z9LS0vj++++xtbWlcuXK7N+/n8mTJ9O/f38Apk6dSuvWrXn77bcBGDduHGFhYcyYMYPZs2c/dnz5Ic9bLHr37o2Pjw9ubm6mV8+ePSlevHi2baJoi7h8g++2qmM/xnWqbDmD04QQQog8UMzJljEdQgCY8fcpTsUkahzREyqAiUVISEi2e9MJEybkeR03btzAw8PD9D48PJwmTZpga2tr2taqVSuOHz/O9evXTWVatGiR7TytWrUi/F5jaQuQPL+bmz9/fl6fUliYDKPC6OWHyDAqtKvqzzPBvlqHJIQQQhQ4HasXZ8W+SP45fpX3fjvErwNCC+907AUwsThy5AglSmStcv4krRW5OXXqFNOnTze1VgBERUURFBSUrZyvr69pX7FixYiKijJtu7NMVFRUnsZnDjJSVuS7hdvOcfDSDVzsrfno9tMYIYQQQmSn0+kY/3xVHG2t2H3+Or/uvqh1SI+vACYWLi4uuLq6ml73Sizee+89dDrdfV/Hjh3LdkxkZCStW7emS5cuvJ4PU/cXFNL/ROSryHh1+jyA99oE4+Nq/4AjhBBCiKIrcxzi+DVHmbDuGC1CfPFyztsn6/kiM7FITMx9gd4CbOTIkfTp0+e+ZcqUyZou//LlyzRr1oyGDRtmG5QN4OfnR3R0dLZtme/9/PzuWyZzf0EmLRYi3yiKwkcrD5OUlkGdUsXoVjdQ65CEEEKIAq9Pw9KE+LtyI9nAZ2uOah3O47lzfG1i4Rov4u3tTXBw8H1fmWMmIiMjefrpp6lduzbz58/PsYZbaGgomzdvzjZbalhYGBUrVqRYsWKmMhs3bsx2XFhYGKGhoWb+pE9OEguRb9YfjmLD0RhsrHRMeKFq4e0nKoQQQuQjays9n71QFZ0Olu+LZNupWK1DenT29jBoELz7rrpYrwXKTCoCAwP58ssvuXr1KlFRUdnGRnTv3h1bW1v69etHREQES5YsYerUqYwYMcJUZtiwYaxfv56vvvqKY8eO8fHHH7N7924GDx6sxcd6JNIVSuSLhBQDH/0RAcAbTctS3tdF44iEEEKIwqNGgDs965fix+3n+WDFYda99RR21lZah/VoZsxQv1ro2mZhYWGcOnWKU6dOUbJkyWz7FEUBwM3Njb/++otBgwZRu3ZtvLy8GDNmjGmqWYCGDRuyaNEiPvjgA95//33Kly/PihUrqFKlSr5+nschiYXIF1+sP05MYiplvJx4s1k5rcMRQgghCp23W1dkfUQUZ2JvMevf07zVQtaAKkj69OnzwLEYANWqVWPLli33LdOlSxe6dOmSR5HlH8tsixIFyv6L8fy04zwA45+vgr1NIXvCIoQQQhQArvY2jGmvzqb4zT+nOXP1psYRPaL4eDhzBu5YlE5YFkkshFllGBU+WHEIRYEXapagYVkvrUMSQgghCq321fxpUsGbtAwjH6w4bOpiUyi8+CKULYtu9WqtIxFmIomFMKuftp/ncGQCrvbWjG5bSetwhBBCiEJNp9Mx/rkq2Fnr2Xb6Giv2R2od0sO7PTOUTlosLJYkFsJsYhJT+PJPdc2Kt1sH4+1SCOfdFkIIIQqYQE9HhjYvD8D41UeJT0rTOKKH5O6ufi1Ai+SJvCWJhTCbz9YcJTE1nWol3eheT9asEEIIIfLK60+VobyPM9dupfH5+mMPPqAgKICrb4u8JYmFMIttp2JZsf8yOh182qkqVrJmhRBCCJFnbK31fPp8VQB+2XmR3efiNI7oIWQmFtIVymJJYiHyXFq6kQ9WHgagV4NSVC3p9oAjhBBCCPGo6gV58FIddb2ED1dGkJ5h1DiiB8gcYxEfr20cwmwsIrGYMGECdevWxcXFBR8fHzp16sTx48ezlUlJSWHQoEF4enri7OxM586diY6O1ihiy/btljOcuXoLL2c7Rj5bUetwhBBCCIv1XptKuDnYcPRKAj9tP691OPcnLRYWzyISi02bNjFo0CC2b99OWFgYBoOBZ599llu3bpnKDB8+nFWrVrF06VI2bdrE5cuXeeGFFzSM2jJdjEti2saTAHzQTv1lJ4QQQgjz8HCy5Z3W6kO8r/46wdXEVI0juo/KlWHAAJR27bSORJiJRay8vX79+mzvFyxYgI+PD3v27KFJkybcuHGDefPmsWjRIp555hkA5s+fT6VKldi+fTsNGjTQImyLoygKH/8RQWq6kdAynjxXo7jWIQkhhBAWr2vdQBbvvMihyBtMWHeUyS/V0Dqk3NWrB/XqYTQYYO1araMRZmARicXdbtyebcDDwwOAPXv2YDAYaNGihalMcHAwgYGBhIeH55pYpKamkpqalfUnJiYCkJ6ejsFgMGf4Jpn15Fd9T2rD0Rg2HovBxkrHmHYVSU9P1zqkAqGwXUeRk1xDyyDX0TLIdczdR+2D6TJ3B8v3RtKlVnHqlCqmdUj3pPU1lPsT89EphWrJxgczGo107NiR+Ph4tm7dCsCiRYvo27dvtkQBoF69ejRr1ozPP/88x3k+/vhjPvnkkxzbv/vuO7y8ZPXou6VmwIT9VlxP09GihJEOgQV8AJkQQghhYRaf1hMeo6e4o8KoahlYFbQJGY1GbG7dwjopiWRfX83CiI2N5bXXXuPixYuULFlSszgskcW1WAwaNIjDhw+bkorHNXr0aEaMGGF6HxkZSUhICM2bN6dEiRJPGuZDMRgMhIWF0bJlS2xsCvZYhclhJ7medpYS7vZMfrURDrZWWodUYBSm6yhyJ9fQMsh1tAxyHe+twa00Wk39j8tJBuI8KtM7tJTWIWUXE4PN7Rv5lb/9RsvWrTW5hpGRhWi18kLGohKLwYMHs3r1ajZv3pwtA/Xz8yMtLY34+HjcM1d9BKKjo/Hz88v1XHZ2dtjZZa0UnXB7BgNra+t8/yGwsbEp0L88z8XeYt5/6kwUYzpUxtXJXuOICqaCfh3Fg8k1tAxyHS2DXMecfN1teKd1MO//foipG0/TsWZJfFwK0N/kO3p8WCcna3YNra0t6va3QLGIWaEURWHw4MH8/vvv/P333wQFBWXbX7t2bWxsbNi4caNp2/Hjx7lw4QKhoaH5Ha7FGbv6CGkZRppU8ObZEO2aNoUQQoii7uW6AVQv6UZiajoT1xawFbnt7NQXYJOUpHEwwhwsIrEYNGgQP/30E4sWLcLFxYWoqCiioqJITk4GwM3NjX79+jFixAj++ecf9uzZQ9++fQkNDZUZoZ7QxqPR/H17wPZHHULQ6Qpah04hhBCi6LDS6xj7XBV0Oli+L5IdZ65pHVJ2t9eykMTCMllEYjFr1ixu3LjB008/jb+/v+m1ZMkSU5mvv/6a9u3b07lzZ5o0aYKfnx/Lly/XMOrCL8WQwdjVRwB4tXEQZb2dNY5ICCGEENUD3OlWLxCAMSsjMBSkFbkzE4s71hoTlsMiOpk9zMRW9vb2zJw5k5kzZ+ZDREXDd1vOcP5aEr6udgx5przW4QghhBDitrefrcjaQ1c4Hp3ID+Hn6dc46MEH5YfbiYW1JBYWySJaLET+i4xPZsY/pwB4v20lnO0sIkcVQgghLEIxJ1vebR0MwNdhJ4hJTNE4otukK5RFk8RCPJbP1hwlxWCkXmkPOlaXFbaFEEKIgublOupA7pup6Xyx/rjW4ajatSPjtde4dY9ZOUXhJomFeGTbTsWy5tAV9Dr4uGNlGbAthBBCFEB6vY6PO1YGYOmeS+y/GK9tQADDh2P85huuBwdrHYkwA0ksxCMxZBj56I8IAHo1KEVIcVeNIxJCCCHEvdQMLMYLtdSFfT/+IwKj8cHjUoV4XJJYiEfyQ/h5TsbcxMPJlhEtK2odjhBCCCEe4L3WwTjZWrH/Yjy/79N41emMDIiLw+b2wsPCskhiIR7a1cRUpoSdAOCdVhVxc5QVT4UQQoiCzsfVnsG3Z2+cuP4YN1PTtQtm+nRs/PyoNneudjEIs5HEQjy0z9cfIzE1nWol3XipToDW4QghhBDiIb3auDSlPR25mpjKjL9PaReIzApl0SSxEA9l/8V4lu25BMAnHSuj18uAbSGEEKKwsLO24sP2IQDM23qGs7EarSMhC+RZNEksxAMpisLYVeqA7RdqlaBmYDGNIxJCCCHEo3om2IemFbwxZCiMX31EmyAyF8iTFguLJImFeKA/Dlxm74V4HGysTIvtCCGEEKJw0el0fNg+BGu9jo3HYvj3eEz+B+HuDkhXKEsliYW4r+S0DCauOwbAm0+XxdfVXuOIhBBCCPG4yvk406dhaQDGrj5CWroxfwOQrlAWTRILcV9zNp/myo0USrg78HqTMlqHI4QQQognNLRFebycbTlz9RYLt53L38ozu0KlpKhTzwqLIomFuKcrN5KZvek0AKPbBmNvY6VxREIIIYR4Uq72NrzTSu3aPG3jSa4mpuZf5W5uGLt04dyzz4LBkH/1inwhiYW4p8/XHSPFYKRu6WK0q+qvdThCCCGEyCMv1i5JtZJuJKam88Wfx/KvYltbMn7+mQNvvgn20r3a0khiIXK198J1Vuy/jE4HY9pXRqeT6WWFEEIIS6HX6/ioQ2UAlu65RMTlGxpHJCyBJBYiB6NRYewqdRq6F2uVpGpJN40jEkIIIUReq12qGB2qF0dRYPzqoyiKkj8VZ2Rgc/MmpOZjFyyRLySxEDmsPBDJ/ovxONla8XarilqHI4QQQggzebd1Reys9YSfuUbYkeh8qdOqSRPa9uyJLiwsX+oT+UcSC5FNUlo6n687DsCbzcrhI9PLCiGEEBarZDFHXnsqCIDP1h7Nn+lnXV3Vrzek+5WlkcRCZDP739NEJaQQ4OFAv8ZBWocjhBBCCDN74+lyeDnbce5aEj9uP2/+Cm9POatLSDB/XSJfSWIhTCLjk5mz+QwA77epJNPLCiGEEEWAs501o56tAMDUDSe4fivNvBXeTiykxcLySGIhTCauO0ZqupF6QR60ruKndThCCCGEyCdd6gRQyd+VhJR0pm48ada6FEksLJYkFgKAPefjWHUgc3rZEJleVgghhChCrPQ6PmhXCYAft5/nVMxN81VWBMZYpKamUqNGDXQ6Hfv378+27+DBgzz11FPY29sTEBDApEmTchy/dOlSgoODsbe3p2rVqqxduzafIn8yklgIFEVh7OqjALxUO4AqJWR6WSGEEKKoaVTOixaVfMgwKny29qj5KsocY2HBicU777xD8eLFc2xPSEjg2WefpVSpUuzZs4cvvviCjz/+mLlz55rKbNu2jW7dutGvXz/27dtHp06d6NSpE4cPH87Pj/BYJLEQrD54hQMX43G0tWLk7T6WQgghhCh63m9bCWu9jr+PxbDl5FWz1KGEhHCpcWOUhg3Ncv6HlZiYSEJCgumVmkfraqxbt46//vqLL7/8Mse+n3/+mbS0NL7//nsqV65M165dGTp0KJMnTzaVmTp1Kq1bt+btt9+mUqVKjBs3jlq1ajFjxow8ic+cJLEo4lLTM/h8/TEABjQpK9PLCiGEEEVYGW9neoWWAuDTNUfJMOb9onlK8+bsGTUK46BBeX7uRxESEoKbm5vpNWHChCc+Z3R0NK+//jo//vgjjo6OOfaHh4fTpEkTbG1tTdtatWrF8ePHuX79uqlMixYtsh3XqlUrwsPDnzg+c5PEooj7Mfw8l64n4+Nix+tNZHpZIYQQoqgb1rw8bg42HItKZMmui1qHYzZHjhzhxo0bptfo0aOf6HyKotCnTx8GDhxInTp1ci0TFRWFr69vtm2Z76Oiou5bJnN/QSaJRREWn5TGtNszP4x6tiKOttYaRySEEEIIrbk72jKseXkAJocdJzHFkPeVZGRoPnjbxcUFV1dX08vOzi7Xcu+99x46ne6+r2PHjjF9+nQSExOfOEEpzOROsgib/vcpElLSCfZzoXPtklqHI4QQQogColdoKX7afp4zsbeYvek0b7cKzruTnz7Nc507ozg5wU0zzj6VR0aOHEmfPn3uW6ZMmTL8/fffhIeH50hQ6tSpQ48ePVi4cCF+fn5ER0dn25/53s/Pz/Q1tzKZ+wsySSyKqPPXbvFD+DlAHahlpZfpZYUQQgihsrHS816bYPr/uIfvtpylZ4NS+Ls55M3Jb083q7t1C9LTwbpg3456e3vj7e39wHLTpk1j/PjxpveXL1+mVatWLFmyhPr16wMQGhrK//73PwwGAzY2NgCEhYVRsWJFihUrZiqzceNG3nrrLdO5wsLCCA0NzcNPZR7SFaqImrT+OIYMhSYVvGlS4cE/LEIIIYQoWlqG+FK3dDFS0418HXYi707sdse09gkJeXdejQUGBlKlShXTq0IFdabNsmXLUrKk2jOke/fu2Nra0q9fPyIiIliyZAlTp05lxIgRpvMMGzaM9evX89VXX3Hs2DE+/vhjdu/ezeDBgzX5XI9CEosiaM/566w5dAW9Dt5vm4dNm0IIIYSwGDqdjtFt1UXzlu65xLGoPEoCbG3JyJwVyYLXssiNm5sbf/31F2fPnqV27dqMHDmSMWPG0L9/f1OZhg0bsmjRIubOnUv16tVZtmwZK1asoEqVKhpG/nAKdttTEXbhWhJTNx7n3AU9bfPwvIqi8OmaIwB0qR1AsJ9rHp5dCCGEEJakVmAx2lX1Z82hK0xcd4wFfevlyXkNjo5YpaUx9qdtJIUkMrxlBXwtbMr70qVLoyg5p+utVq0aW7Zsue+xXbp0oUuXLuYKzWykxaKA0ungt72X2X9NhyHDmGfnXXc4ir0X4nGwsWKELIYnhBBCiAd4u1VFbKx0/Hv8Kv+dis2Tc6bfXuMh4uhFFu+6iL21VZ6cV2hLEosCqmQxB5ztrMlQdJy+eitPzpmWbmTiOnUxvP5NyljckwEhhBBC5L3SXk70qK8umvfZ2qMY82DRPIOTEwAuqUmUcHfAzdHmic8ptCeJRQGl0+mo5O8CwNEriXlyzh+3n+dCXBLeLnb0b1ImT84phBBCCMs35JlyuNhZE3E5gT8OXH7i812tVo3TzdpyzdGNkOLSLdtSFLnEYubMmZQuXRp7e3vq16/Pzp07tQ7pnir53U4sop48sbiRZGD63+pieCNbVsDJTobXCCGEEOLheDrbMfDpsgB88edxUgwZT3S+o716MXPAePaVCCbEXxILS1GkEoslS5YwYsQIPvroI/bu3Uv16tVp1aoVMTExWoeWq5DbLRZHrjz5LAwz/z1FfJKBir4udKkT8MTnE0IIIUTR0q9xEP5u9kTGJ5vWwnoSmT0ypMXCchSpxGLy5Mm8/vrr9O3bl5CQEGbPno2joyPff/+91qHlqpIpsUh8ov6MF+OSWPDfOQBGtw2WxfCEEEII8cjsbawY0VKd+GXG36eIT0p77HMZjHAm+ga26QZpsbAgRaY/TFpaGnv27GH06NGmbXq9nhYtWhAeHp6jfGpqKqmpqab3iYlqVp2eno7BYDB/wECQhx02eoXElHRORN2grLfTY53nqz+PkZZhpGEZDxoGuedb/EKV+e8t/+6Fl1xDyyDX0TLIddRWh6q+fLfFmePRN5m24QSj21R85HMYDAb8lizn+JIf+K1OW3w/a5uv1zM9PT3f6ipqikxiERsbS0ZGBr6+vtm2+/r6cuzYsRzlJ0yYwCeffJJj+8aNG/Hy8jJbnHcLcLLiTCL8uGYz9XwevdUi8hasPGgF6Ah1imHdunV5H6R4KGFhYVqHIJ6QXEPLINfRMsh11E4zDx3Ho61YGH6Oksmn8XyMSSYzjOoCed5pCfl+bxIbmzdT5oqcikxi8ahGjx6dbXn1yMhIQkJCaN68OSVKlMiXGAwGA7+f28iZRB2KZynatg155HO89uNeFGJpW8WXgS9VN0OU4kEMBgNhYWG0bNkSGxuZTq8wkmtoGeQ6Wga5jtproygcXLiHbafj2Jtekq/bVnuk4w0GA98t+geAQFsIbZuXSwE/WGRkZL7WV5QUmcTCy8sLKysroqOjs22Pjo7Gz88vR3k7Ozvs7OxM7xMS1AHU1tbW+fqLrLSz2kpx4FLCI9e7/cw1Np2IxVqv4+3WleQXsMZsbGzkGhRycg0tg1xHyyDXUVvvtw2hw4ytrD4URf+mZalW0v2Rjj+P2r3bIz0536+jtXWRuf3Nd0Vm8LatrS21a9dm48aNpm1Go5GNGzcSGhqqYWT3F+SiJhZHrySQkPLw/Q8VRTEthte1XgBBXo83PkMIIYQQ4m5VSrjxfA21B8dna4+iKA/fXfvKjRQu650BcErJm0WARcFQZBILgBEjRvDtt9+ycOFCjh49yhtvvMGtW7fo27ev1qHdk7sdlPJwxKjA7nNxD33cnxHR7L8Yj4ONFUOblzdjhEIIIYQoika2qoittZ7tZ+LYdOLqQx+389x1EuwcAbBKePIp9UXBUaQSi5dffpkvv/ySMWPGUKNGDfbv38/69etzDOguaOoHFQNg+5mHSyzSM4x88afaWvHaU0H4uDzGqCohhBBCiPso4e7AKw1KATBp/fGHnhp/59k4Eu1u96S4ccNc4QkNFKnEAmDw4MGcP3+e1NRUduzYQf369bUO6YHqBXkA8N+ph5vFYNmeS5y+eotijjb0b1LGnKEJIYQQoggb1KwcLnbWHLmSwKqDlx9YXlEUtp2JI97BhdiGTaFdO3iEblSiYCtyiUVh1KisBzodRFxOIDoh5b5lk9MymPJ/9u48Por6/h/4a/ZKNskmIeQEEkBFIHIkcoR4cUoKiHJZbT0CWuzPiqL5VgW1INZKPWqxSqW1RbyloGJbKBIih0ogXAHkCIdAwpELSLI595j5/bHskE2yIbC72Z3J6/l48ND97Cczn09eyWbfOzOfWX8EADBrVC+YgnlhGxEREflGp1CD/CHmn9YdhsUmttr/WFk1Tl2oQ40xFLpv/gcsXw4IvHGvWrCwUIDosCAMvLjawreHSlvtu2zLCRRX1aNrpBH3D0tqh9ERERFRR/bwrT0RHRaEwvO1+Hx7Yat91x90vI+5PkJCaBBXZ1IbFhYKMbpPLAAg+0CJ2z6VtVa8u/EoACDr9usRpNO2y9iIiIio4wox6DB79HUAgL/kHEVNg/s7W6+/+D7mhk4XT3+yWID61s/GIOVgYaEQ4/o77rWx+XAZzlU3tNjnr5uOoqrehj7xJkxKbZ+b+BERERHdMyQJSVEhKK9uwNLvj7fYp/BcLXacvABBAPp3kqC9/34gOBj4/PN2Hi35CgsLhbgu1oQB3SJgEyV8nd/84qizlXVY9sMJAMAzP+sNrYbnKxIREVH7MOg0+L+x1wMA/rb5J5yvsTTr88WuUwCAm67pjMggACaT48LtwtZPnyLlYGGhINMGdQMAfLT1JOxNlnRblH0EDTYRQ3tGYWTvWH8Mj4iIiDqwiQO6IDkhHNUNNvx1w1GX5+qtdnyW5yggJqd2AQBIiYmOJ0+ebNdxku+wsFCQqTd2Q6cQPY6X1+A/ey4dtThSYsaKnUUAgDnj+kDg6gpERETUzjQaAc/8rDcA4MPckzhdUSc/968dRSg1N6BLRDDG3eC4f5hcWPCIhWqwsFCQ0CAdfnWrY0m3l1cfQKm5HhabiOe+2gdRAsYmx+HGpE5+HiURERF1VMOvj8Gwa6JgsYt47st9sIsSis7X4vVvCgAAj464FgbdxbefSRdXr2RhoRpc50thHr6lJ/6z5wwOFZtx59s/IDJEj0PFZpiCdHhufF9/D4+IiIg6MEEQMO+OGzD5rz9g0+Ey3LX4exRX1sNcb8ONSZH4xdAkSKIdQJMjFpLE+1moAI9YKEywXovF992Ibp2MKK6qx6FiM4x6Lf7yy1T0iA719/CIiIiog0vuEo43f54Cg06DH09XobzagmtjQvH2L2+ETtvorWe3bsDzzwNvvQXY7f4bMHkNj1go0LUxYVgz+1b8d89Z1FpsmDAgAQkRRn8Pi4iIiAgAMGFAAvp3jcDa/WcRaTTgjoEJCDE0edtpMAAvv+yfAZJPsLBQqPBgPX6ZxjtrExERUWBK6hyCR2671t/DoHbEU6GIiIiIiMhjLCyIiIiIiMhjLCyIiIiIiMhjLCyIiIiIiMhjLCyIiIiIiMhjLCyIiIiIiMhjLCyIiIiIiMhjLCyIiIiIiMhjLCyIiIiIiMhjLCyIiIiIiMhjOn8PQClEUQQAnD17tt32abPZUF5ejtOnT0OnY1RKxRyVjxmqA3NUB+aofP7O0PlezvnejryHv5FtVFJSAgAYOnSon0dCRERERJ4qKSlBUlKSv4ehKoIkSZK/B6EENpsNu3fvRlxcHDSa9jmDzGw2Izk5GQcOHIDJZGqXfZL3MUflY4bqwBzVgTkqn78zFEURJSUlSE1N5VEvL2NhEcCqqqoQERGByspKhIeH+3s4dJWYo/IxQ3VgjurAHJWPGaoXL94mIiIiIiKPsbAgIiIiIiKPsbAIYEFBQZg/fz6CgoL8PRTyAHNUPmaoDsxRHZij8jFD9eI1FkRERERE5DEesSAiIiIiIo+xsCAiIiIiIo+xsCAiIiIiIo+xsCAiIiIiIo+xsCAiIiIiIo+xsCAiIiIiIo+xsCAiIiIiIo+xsCAiIiIiIo+xsCAiIiIiIo+xsCAiIiIiIo+xsCAiIiIiIo/p/D0ApRBFEWfOnIHJZIIgCP4eDhERERFdBUmSYDab0aVLF2g0/Izdm1hYtNGZM2eQmJjo72EQERERkRcUFRWhW7du/h6GqrCwaCOTyQTA8UMYHh7u59EQERER0dWoqqpCYmKi/N6OvIeFRRs5T38KDw9vt8JCFEWUl5cjOjqah+oUjDkqHzNUB+aoDsxR+QIlQ57a7n38jQxgdrsdubm5sNvt/h4KeYA5Kh8zVAfmqA7MUfmYoXqxsCAiIiIiIo+xsCAiIiIiIo+xsAhggiBweVsVYI7KxwzVgTmqA3NUPmaoXoIkSZK/B6EEVVVViIiIQGVlJVeFIiIiIlIovqfzHVUesZg8eTI6deqEadOmubS/8cYbuOGGG9CvXz98/PHHfhpd24miiJMnT0IURX8PhTzAHJWPGaoDc1QH5qh8zFC9VFlYzJ49Gx9++KFL2759+/Dpp59i586d2L59O9555x1UVFT4Z4BtZLfbkZ+fz1UTFI45Kh8zVAfmqA7MUfmYoXqpsrAYMWJEs5ueHDx4EOnp6QgODobRaMTAgQOxdu1aP42QiIiIiEhdAq6w2Lx5MyZOnIguXbpAEASsWrWqWZ/FixejR48eCA4ORlpaGvLy8i673X79+mHjxo2oqKjAhQsXsHHjRpw+fdoHMyAiIiIi6ngC7s7bNTU1GDhwIB566CFMmTKl2fPLly9HVlYWlixZgrS0NCxatAgZGRkoKChAbGys2+0mJyfjiSeewKhRoxAREYFhw4ZBq9X6cioeq66uxhdffIHc3NwW70w5aNAgTJ061Q8joyshCAJiYmK4+oWCMUN1YI7qwBwDX2VlJf72t7+1eMr50KFDcccddyAmJgZ1dXWYP38+FixYAL1e3/4DJa8L6FWhBEHAV199hUmTJsltaWlpGDJkCN555x0AjguAEhMT8fjjj2POnDlyv40bN+Kdd97BypUrW9z2r371K0yePBkTJkxo8fmGhgY0NDTIj6uqqpCYmIjy8nJ5BQGNRgOtVgu73e5yAZKz3WazofG3V6vVQqPRuG23Wq0uYzh37hwSEhLcfn8yMzPx3nvvyY/1ej1EUXQ5Z1EQBOh0Orft7sbuqznpdI5a1maztamdc+KcOCfOiXPinDgnZc1p8eLFmD17Nloyc+ZMLF68GMCl9zl1dXXQ6XTtNiez2YzOnTtzVSgfCLgjFq2xWCzYuXMn5s6dK7dpNBqMGTMGubm5l/360tJSxMbGoqCgAHl5eViyZInbvgsXLsSCBQuata9btw4hISEAgKSkJKSmpmLv3r0oLCyU+/Tu3Rt9+vRBXl4eysrK5PaUlBR0794dmzdvhtlsltvT09MRGxuLdevWufxC3HjjjXjggQeaVfw9e/aEzWZDcHAw1qxZgyVLlmDLli149dVXMWXKFJfvhclkwqhRo1BUVIT8/Hy5PSYmBjfddBOOHDmCgoICud3Xcxo5ciSMRiPWrFnjMqfx48ejrq4OGzZskNt0Oh0mTJiA8vJyzolzCog5hYWFYfTo0aqakxpzam1OUVFREEURR44cUc2c1JhTa3Pas2cPioqKVDUnteV0/vx5AECPHj3Qv39/AECnTp0QFRWFzp07y+Opr6/HQw89BK1W265zauksEPIORR2xOHPmDLp27YotW7YgPT1d7vfMM89g06ZN2LZtGwBgzJgx2LNnD2pqahAVFYUVK1YgPT0d6enpqKysRGhoKJYsWYJBgwa53XcgHLGQJAn/+9//cPvtt7scImxalc+YMQOffPIJXn/9dWRlZfHTkwCbU11dHbKzs+Uc1TAnNebU2pysViuys7MxduxYGI1GVcyp6dg7wpxsNhvWrVuHjIwMl1NhlTwnNeZ0uTnV19fjm2++kV9T1TAnteVUVlaGU6dOITIyEt27d282J4vFIv9dDA4Obvc58YiF7yjqiEVbrV+/vsX2thzVcAoKCkJQUFCzducbw8a0Wm2L12s4f8jb2t50u85fppb22bi/wWAA4Phl0mg0LVbi7trdjd1Xc7qadrXMqXGOaplTYx1hTs59qWlOl2tX65xa2o7S56TGnNzNybmPlj50a0opc1JTTvHx8YiPj29xn41PeXIWhs52T8furt3dazl5n6KOBUVHR0Or1aKkpMSlvaSkxO0PcEfg/CVqWqUTEREREbUXRRUWBoMBgwYNQk5OjtwmiiJycnJcTo1SC41Gg6SkpMueC+ju8B8FhrbmSIGLGaoDc1QH5hj41q5di1deeQWbN29u8XlmqF4Bl2h1dTXy8/PlC4SOHz+O/Px8+aKmrKwsvPfee/jggw9w8OBBPProo6ipqcGMGTP8OGrf0Gq1SE1NbfHwaGMsLAJbW3OkwMUM1YE5qgNzDHz/+c9/8Pzzz7t8ENwYM1SvgCssduzYgdTUVKSmpgJwFBKpqamYN28eAOCee+7BG2+8gXnz5iElJQX5+flYu3Yt4uLi/Dlsn7Db7di9e/dlb3nPwiKwtTVHClzMUB2Yozowx8DnfD/i7joIZqheAVdYjBgxApIkNfu3bNkyuc+sWbNw8uRJNDQ0YNu2bUhLS/PfgH1IFEUUFha6rLbQkqSkJAwePBhdunRpp5HRlWhrjhS4mKE6MEd1YI6Bz1lYuLtImhmqFy+LV4HZs2e7vRENERERUXu6XGFB6hVwRyyIiIiISLlYWHRcLCwCmEajQe/evblqgsIxR+VjhurAHNWBOQa+yxUWzFC9mGgA02q16NOnz2VXTfjb3/6Gnj174re//W07jYyuRFtzpMDFDNWBOaoDcwx8zhv8uissmKF6sbAIYDabDVu2bLnsak9msxknTpxAaWlpO42MrkRbc6TAxQzVgTmqA3MMfAsXLsR3332Hu+66q8XnmaF68eS3ACZJEsrKyiBJUqv9uNxsYGtrjhS4mKE6MEd1YI6Br3fv3ujdu7fb55mhevGIhQqwsCAiIiIif+MRCxVw3oCGhQURERH527/+9S+cPXsW48ePR69evfw9HGpHLCwCmFarRUpKymUvbnIesXBeLEWBpa05UuBihurAHNWBOQa+t99+G99//z26devWYmHBDNWLhUUA02g06N69+2X78VSowNbWHClwMUN1YI7qwBwDX1uWm2WG6sRrLAKYzWbDt99+e9mCoVOnTujbty+6devWTiOjK9HWHClwMUN1YI7qwBwDnzMb56naLT3PDNWJRywCmCRJMJvNl1014c4778Sdd97ZTqOiK9XWHClwMUN1YI7qwBwD3+WOWDBD9eIRCyIiIiLymssVFqReLCyIiIiIyGtYWHRcLCwCmFarRXp6+mVXTfjuu+/Qr18/TJ06tZ1GRleirTlS4GKG6sAc1YE5Br7LFRbMUL1YSgYwjUaD2NjYy/arq6vD/v37+clAgGprjhS4mKE6MEd1YI6Bb9myZaiurkZycnKLzzND9eIRiwBmtVqxevXqy96fgsvNBra25kiBixmqA3NUB+YY+G6++WZkZGQgMjKyxeeZoXqxsAhwbSkWeOftwMdslI8ZqgNzVAfmqHzMUJ147owK8M7bREREFCiWLVsGm82GadOmuT1qQerEwkIFeCoUERERBYrZs2ejqqoKw4cPZ2HRwfBUqACm0+kwcuTIy16UzcIisLU1RwpczFAdmKM6MMfAd7lVoZihejHRAGc0GtvUJzExEfHx8e0wIroabcmRAhszVAfmqA7MMbC15T4WzFCdeMQigNlsNqxZs+ayRyL69OmDwsJC5OXltdPI6Eq0NUcKXMxQHZijOjDHwOfMxrm4TEvPM0N1YmFBRERERF4hiiJEUQTAO293RCwsiIiIiMgrGh+FYGHR8bCwUIHS0lKkpaUhLS3N30MhIiKiDoyFRccmSJIk+XsQSlBVVYWIiAhUVlYiPDy8XfYpSRJsNht0Oh0EQXDbr7i4GAkJCRAEQT78SIGjrTlS4GKG6sAc1YE5BrbG10/ceeedLRYX/s7QH+/pOgqWkgGurq4OJpOp1T7OX1pJkiCKIjQaHogKNG3JkQIbM1QH5qgOzDFw6XQ63HnnnZftxwzVie9AA5jNZsOGDRsuu2pC408DuMJC4GlrjhS4mKE6MEd1YI7KxwzVi4WFCjRezo2/pEREROQvNTU1+Oijj7B8+XJ/D4X8gKdCqUDjIxZWq9WPIyEiIqKOrLy8HA8++CCCg4Nxzz33+Hs41M54xCLAtWVFBZ4KFfi4MobyMUN1YI7qwBwDV1vuut2W50mZuCpUGwX6CgIxMTHQarXYt28fYmJi/D0cIiIi6oAKCgrQp08fdOrUCefPn/f3cFoU6O/plIxHLAKYKIooLS1t0xKyZWVlKC4uZlERgK4kRwpMzFAdmKM6MMfA5jwlu7UjEsxQvVhYBDC73Y7c3FzY7XZ/D4U8wByVjxmqA3NUB+YY2NpyKhQzVC8WFkRERETkFW29xoLUiYWFSkyaNAm33XYbTpw44e+hEBERUQflLCwaL4VPHQfLyQAmCAJMJlObbnefm5uL0tJSVFdXt8PI6EpcSY4UmJihOjBHdWCOge26667Dp59+CqPR6LYPM1QvrgrVRoG+gkDXrl1x5swZ7N69GykpKf4eDhEREVFACvT3dErGU6ECmCiKOHnyZJtWTXCey8j7WASeK8mRAhMzVAfmqA7MUfmYoXqxsAhgdrsd+fn5bVo1gYVF4LqSHCkwMUN1YI7qwBwD29mzZ/Hll19i8+bNbvswQ/XiNRYqwcKCiIiI/G3Hjh2YOnUq0tLSsHXrVn8Ph9oZj1iohLOwcN6YhoiIiKi9cbnZjo2FRQATBAExMTFtWjUhNDQUoaGh4LX4gedKcqTAxAzVgTmqA3MMbG0pLJihenFVqDbiCgJERERErfvss8/wy1/+EqNHj8b69ev9PZwW8T2d76jyiMXkyZPRqVMnTJs2TW4rKChASkqK/M9oNGLVqlX+G2Qb2O12HDp0iBc3KRxzVD5mqA7MUR2YY2BznpLd2hELZqheqiwsZs+ejQ8//NClrXfv3sjPz0d+fj6+//57hIaG4vbbb/fTCNtGFEUUFBRwOTaFY47KxwzVgTmqA3MMbG05FYoZqpcqC4sRI0bAZDK5ff7f//43Ro8ejdDQ0HYclW8999xzGDduHDZt2uTvoRAREVEH5Sws9Hq9n0dC/hBwl+xv3rwZr7/+Onbu3ImzZ8/iq6++wqRJk1z6LF68GK+//jqKi4sxcOBAvP322xg6dGib9/Gvf/0LDz74oJdH7l95eXnIyclBv379YDab5fbu3bujf//+AICGhgZkZ2e73Ua3bt3ku3bb7Xb873//c9s3ISEBgwYNkh//97//dds3JiYGaWlp8uP//e9/bg9/du7cGenp6fLjdevWwWKxtNg3IiICt956q/w4JycHdXV1LfYNCwvDiBEj5McbN25EdXV1i32NRiNGjx4tP/7+++9RUVHRYl+DwYCxY8fKj3Nzc3Hu3DmXPjabDTt27IAgCLjzzjvl9ry8PJSWlra4XQC444475P93/j6487Of/Uz+dCg/Px+nTp1y2/f2229HUFAQAGDfvn04efKk276jRo1CSEgIAODgwYM4duyY277Dhw+XC/rDhw/j8OHDbvvefPPN6NSpEwDg2LFjOHjwoNu+6enp6Ny5MwDgxIkT+PHHH932HTJkCOLi4gAARUVF2LNnj9u+N954I7p06QIAOHPmDHbt2uW2b3Jysvz/paWlyMvLc9u3X79+6NGjBwDg3LlzyM3Nddu3T58+uO666wAAFRUV+P777932vf7663H99dcDAMxmc6sfIlxzzTXymGtra/Htt9+67duRXiO+/fZbbN++HZIkNfs01Z+vEU4ajQbjx4+XH/M1ouXXCOdrqjPHQHiNGDhwIBITEwHwNeK2227De++9h6SkJLf9SMWkALNmzRrp+eefl7788ksJgPTVV1+5PP/5559LBoNBWrp0qbR//35p5syZUmRkpFRSUuLSb8OGDdLUqVObbb+yslKKiYmR6urqWh1HfX29VFlZKf8rKiqSAEjl5eWSxWKRLBaLZLPZJEmSJJvNJrc1brdarS7tdru91fbGbRaLRbJardLOnTuluro6l3ZRFCVRFF3axo0bJwFo9u/Xv/61JEmSZLfbpdOnT7fYx/nvgQcekMdeVVXVat8pU6a4jL21vj/72c9cxh4SEuK272233eYyr5iYGLd9Bw8e7NK3e/fubvv27dvXJae+ffu67du9e3eXnAYPHuy2b3R0tEset912m9u+RqNRslgsch7uMnP+c/4MSJIkTZs2rdW+Fy5ckH/2MjMzW+176tQp+fvw6KOPttr38OHDct+srKxW++7du1fu+8ILL7Tad9u2bXIeCxcubLXv+vXr5Tz+8pe/tNp31apV8s/kP/7xj1b7fvLJJ/LP5PLly1vt+/e//13asWOHVF9fL61evbrVvm+99Zb8fVi/fn2rfRcuXCj33bJlS6t958+fL/fNz89vte///d//yT+Thw8fbrVvR3qNSEpKctuXrxGX/vE1wvHvSl4j/vGPf8h58DXi8u+N6urqpB07dkh1dXVX/N6opfdArbU7x9647dy5cxIAqbKystX3gnTlAu6Ixbhx4zBu3Di3z7/55puYOXMmZsyYAQBYsmQJVq9ejaVLl2LOnDmX3f7XX3+NsWPHIjg4uNV+CxcuxIIFC5q1r1u3Tv50JikpCampqdi7dy8KCwvlPr1790afPn2Ql5eHsrIyuT0lJQXdu3fH5s2bXY4qpKenIzY2FuvWrXO5wd3IkSPRv39/rFmzxmUM48ePR11dHTZs2CC3DRs2DFVVVaitrXX5lM15/mJRURG+//579OrVC4DjEGVYWBjq6+vlT/ltNhv27t2L1NRU7N+/X+4LOD6hCw4ORnV1NaxWKwRBwJo1a+Q59enTx+UTxrCwMOj1elRUVECv18tzGDlyJAYNGoTi4mKXOUVGRkIURYSEhMh9dTodbrzxRpSWlrrMSavVIjw8HImJiS7fm6SkJMTFxbnMCQCCgoKQnJzsklPnzp0xYMAAlzk5OT9JcuYUHh6OXr16ucxJuriYWmhoKMxmM4xGI9asWYOQkBD5++acU1VVlfw9X7duHSZMmIDy8nLodDq5r3NODQ0NqK2tBQCsWbMGMTExuOmmmxAVFeWSR1BQEEJCQlBbW4uGhgasW7cOQUFB6N27t/xJVOM5hYSEICgoCFVVVdiwYYP8qWFMTAyGDh3qMicACA8Ph0ajwffff48DBw4AcKyiMWTIEJc5AY5lAyMjI1FXVyfncf78efTp06fZnJzfh9DQUBw5cgQFBQUoKSlBr169ms3JyflJcF5eHk6dOiV/HxrPyfmzd/DgQfn3qbCw0OV75pyTc3tHjx7FmjVrMH78eAQHB7v0dc7JarWiuroaJ0+eRGxsLCorKxEREYGBAwc2m5Pz9+nUqVPy96G6uhpDhw5tNifn71Ntba3ct6ioCAMHDmw2J8Dx+9S1a1f5NcL5PWs6J6euXbvCbDZjw4YNOH/+PHr16tVsTk4d6TWie/fuiI+P52sEXyO8/hpx/PhxrFmzBiaTia8RF18j2vLe6NSpU1f13sj5+9RYS++NdDqd/PvU+MiQRqPKKwECQkAvNysIgsupUBaLBSEhIVi5cqXL6VGZmZmoqKjA119/Lbdt3LgR77zzDlauXOmyzYkTJ+KRRx7BxIkTW913Q0ODyy95VVUVEhMTUV5eLi9NptFooNVqYbfbXS5AcrbbbDaXF2KtVguNRuO2venN7QRBwN69e5GcnAytViu3u7vLtl6vhyiKLi82giBAp9O5bXc3dl/Nyd3Y1TynhoYG7N+/HzfccAO0Wq0q5qTGnFqbk91ux/79+9GvXz8EBQWpYk5Nx94R5iSKIg4cOIAbbrjBZf18Jc9JjTldbk4WiwX79u2TX1PVMCc15tTanGw2m/x30WAwtPuczGYzOnfuzOVmfSDgjli0pry8HHa7XT4/0ikuLg6HDh2SH48ZMwZ79uxBTU0NunXrhhUrViA9PR2VlZXIy8vDF198cdl9BQUFyeeYNqbX65tdkKTVal3e+Du5WxHBXXvT7VqtVhQVFaF///4tXgTVUptGo2mxEnfX7m7svprT1bQrfU5arRanTp3CgAED5D5Kn5Mac7rcnJwZNm1vy9gDdU5taVfTnKxWKwoLC9GvX78Wt6PEOTmpKScnd2MXBKHZa2prY1fCnNSYU2tzkiRJztC5zfacE+8K7juq/M66uyFLREQESkpK2nk0RERERETqp6iTzKKjo6HVapsVByUlJYiPj/fTqIiIiIiISFGFhcFgwKBBg5CTkyO3iaKInJwcl+UH1UKj0aB37968yEjhmKPyMUN1YI7qwByVjxmqV8CdClVdXY2jR4/Kj48fP478/HxERUUhKSkJWVlZyMzMxODBgzF06FAsWrQINTU18ipRaqLVatGnTx9/D4M8xByVjxmqA3NUB+aofMxQvQKuVNyxYwdSU1ORmpoKAMjKykJqairmzZsHALjnnnvwxhtvYN68eUhJSUF+fj7Wrl3b7IJuNbDZbNiyZUuzFQ5IWZij8jFDdWCO6sAclY8ZqlfAHbEYMWIELrcC7qxZszBr1qx2GpH/SJKEsrKyy34/KLAxR+VjhurAHNWBOSofM1SvgDtiQUREREREysPCgoiIiIiIPMbCIoBptVqkpKS0eIMZUg7mqHzMUB2YozowR+VjhuolSDzBrU2qqqoQERHB278TERERKRjf0/kOj1gEMJvNhm+//ZarJigcc1Q+ZqgOzFEdmKPyMUP1YmERwCRJgtls5qoJCscclY8ZqgNzVAfmqHzMUL1YWBARERERkcdYWBARERERkcdYWAQwrVaL9PR0rpqgcMxR+ZihOjBHdWCOyscM1YurQrURVxAgIiIiUj6+p/MdHrEIYFarFatXr4bVavX3UMgDzFH5mKE6MEd1YI7KxwzVi4VFgONSbOrAHJWPGaoDc1QH5qh8zFCdWFgQEREREZHHWFgQEREREZHHePF2G/njQh/nDWRMJhMEQWiXfZL3MUflY4bqwBzVgTkqn78z5MXbvsMjFgHOaDT6ewjkBcxR+ZihOjBHdWCOyscM1YmFRQCz2WxYs2YNL3BSOOaofMxQHZijOjBH5WOG6sXCgoiIiIiIPMbCgoiIiIiIPMbCgoiIiIiIPMZVodrIX6tC2Ww26HQ6rnyhYMxR+ZihOjBHdWCOyufvDLkqlO/wiEWAq6ur8/cQyAuYo/IxQ3VgjurAHJWPGaoTC4sAZrPZsGHDBq6aoHDMUfmYoTowR3VgjsrHDNWLhQUREREREXmMhQUREREREXmMhUWA0+l0/h4CeQFzVD5mqA7MUR2Yo/IxQ3XiqlBtxBUEiIiIiJSP7+l8h0csApgoiigtLYUoiv4eCnmAOSofM1QH5qgOzFH5mKF6sbAIYHa7Hbm5ubDb7f4eCnmAOSofM1QH5qgOzFH5mKF68QQ3IiIiIh+y2+2wWq3+HkbAsFqt0Ol0qK+v90lxodfrodVqvb5dujwWFkREREQ+IEkSiouLUVFR4e+hBBRJkhAfH4+ioiKf3Xk7MjIS8fHxvDt7O2NhEcAEQYDJZOIvhcIxR+VjhurAHNVBSTk6i4rY2FiEhIQoYsztQZIk1NTUIDQ01OvfE0mSUFtbi9LSUgBAQkKCV7dPreOqUG3EFQSIiIiorex2Ow4fPozY2Fh07tzZ38PpcM6dO4fS0lJcf/31zU6L4ns63+HF2wFMFEWcPHmSqyYoHHNUPmaoDsxRHZSSo/OaipCQED+PJPBIkoSGhgb48rNt5/ed17a0LxYWAcxutyM/P5+rJigcc1Q+ZqgOzFEdlJYjT39qTpIk1NXV+bSw4PfdP1hYEBERERGRx1hYEBERERGRx1hYBDBBEBATE8PDeQrHHJWPGaoDc1QH5qh8giBAp9MxQxXiqlBtxBUEiIiIqK3q6+tx/Phx9OzZE8HBwf4eTofT2vef7+l8h/exCGB2ux1HjhxBr169eAdJBWOOyscM1YE5qoNSc5QkCXVW/1xwbtRr23x0YMSIERgwYACCg4Pxj3/8AwaDAf/v//0/vPjii14bjyRJqK+vR3BwMI9aqAwLiwAmiiIKCgpw7bXXKurFk1wxR+VjhurAHNVBqTnWWe1InveNX/Z94KUMhBja/pbvgw8+QFZWFrZt24bc3FxMnz4dN998M26//XavjMe53GxQUBALC5XhNRZEREREJBswYADmz5+PXr164cEHH8TgwYORk5Pj72GRAvCIBREREZGPGfVaHHgpw2/7vhIDBgxweZyQkIDS0lJvDolUioVFANNoNEhKSoJGwwNLSsYclY8ZqgNzVAel5igIwhWdjuRPer3e5bEgCF6907kgCDAYDDwNSoWU9VvZRpMnT0anTp0wbdo0l/YePXpgwIABSElJwciRI/00urbTarVITU1V1Dmk1BxzVD5mqA7MUR2Yo/IJgoCQkBAWFiqkysJi9uzZ+PDDD1t8bsuWLcjPz8eGDRvaeVRXzm63Y/fu3bDb/bOKBHkHc1Q+ZqgOzFEdmKPySZKE2tpa8I4H6qPKwmLEiBEwmUz+HobHRFFEYWGhVw8/UvtjjsrHDNWBOaoDc1Q+SZJgsVhYWKhQwBUWmzdvxsSJE9GlSxcIgoBVq1Y167N48WL06NEDwcHBSEtLQ15eXpu2LQgChg8fjiFDhuCTTz7x8siJiIiIlG3jxo1YtGiRS9uqVauwbNkyv4yHlOWKryK6cOECJElCVFQUysrK8N1336F379644YYbvDKgmpoaDBw4EA899BCmTJnS7Pnly5cjKysLS5YsQVpaGhYtWoSMjAwUFBQgNja21W1///336Nq1K86ePYsxY8agf//+zVY+cGpoaEBDQ4P8uKqqCgBgtVphtVoBOC4g02q1sNvtLp+cONttNptLNa7VaqHRaNy2O7fr5OzTtF2nc8Rms9lc2vV6PURRdDk8LAgCdDqd23Z3Y/fVnNyNXc1zcvZ3/lcNc1JjTq3Nybktm83W6lyVNKemY+8Ic3J+bdNTaJQ8JzXm1JY5AWj2tzjQ5mS1WiFJEkRRhCRJEAQBkiS5jEUQBK+2Nz2K47yGoemRAXftGo3G52Ns3O78f1/Myfl9d/5/S68F5H1XVFj84x//wCuvvAIAePrpp/HJJ59g4MCBmD9/PmbPno1f/epXHg9o3LhxGDdunNvn33zzTcycORMzZswAACxZsgSrV6/G0qVLMWfOnFa33bVrVwCOZdPGjx+PXbt2uS0sFi5ciAULFjRrX7duHUJCQgAASUlJSE1Nxd69e1FYWCj36d27N/r06YO8vDyUlZXJ7SkpKejevTs2b94Ms9kst6enpyM2Nhbr1q1z+WEfPnw4rrvuOmRnZ7uMYfz48airq3O5TkSn02HChAkoLy9Hbm6u3G4ymTBq1CgUFRUhPz9fbo+JicFNN92EI0eOoKCgQG739ZxGjhwJo9GINWvWdLg5ZWdnq25OgPpyam1OW7ZswejRo1U1JzXm1NqcevfujZ9++glHjhxRzZzUmFNrczpw4AAAyH8bA3VOP/74I+Lj41FdXQ1RFBEWFob6+nqXDy0NBgNCQkJQV1cHi8UitwcFBcFoNKKmpsZljEajEUFBQTCbzS5vuENDQ6HX6+UPQRuPRxCEZu3h4eGQJMnl+wIAkZGRsNlsqKmpkds0Gg3Cw8NhsVhQV1fn8j3wdE5ms9lnc7JYLKivrweAZjkpbUUxJRGkKzjBbcCAAdi2bRvq6uqQlJSE48ePIyYmBpWVlRg+fLjLC4NXBicI+OqrrzBp0iQAjh+SkJAQrFy5Um4DgMzMTFRUVODrr7+W2zZu3Ih33nkHK1euBOA4EiKKIkwmE6qrqzF8+HAsWbIEQ4YMaXHfLR2xSExMRHl5OcLDwwGo/xMhzolz4pw4J86Jc+Kcrm5ONTU1KCoqQo8ePWA0GnnEop3nVF9fjxMnTuCaa66BwWBwyclsNqNz586orKyU39ORd1zREQudTgej0Qij0YjrrrsOMTExAICIiIh2WTKsvLwcdrsdcXFxLu1xcXE4dOiQ/HjMmDHYs2cPampq0K1bN6xYsQJxcXGYPHkyAMdh8JkzZ7otKgBHZR0UFNSsXa/XN1vfWavVtrjsnfPFqK3tTbdrs9mQl5eHoUOHtvg1TfsDjheFlipxd+3uxu6rOV1Nu9LnJAhCsxyVPic15tTanBr/LjZub+vYA3FObW1X05xsNhu2bNmCoUOHtrgdJc7JSU05ObkbuyRJ2L59e7O/jYE2J71eD0EQoNFo5PdIzjfLTXmr3d0n8e7eo/lyLK21A44PfENDQy/7vbnaOTX+vjfNyd3PBHnuir6zWq0W9fX1CA4OxqZNm+T26upqrw/ME+vXr2+xfc+ePe08Es9IkoSysjKumqBwzFH5mKE6MEd1YI7KJ0mSfCSJ97JQlys6yWz9+vXyp/gRERFye21tLf7+9797d2QtiI6OhlarRUlJiUt7SUkJ4uPjfb5/IiIiIiJq2RUVFk1PeSouLgYAxMbGtnpakbcYDAYMGjQIOTk5cpsoisjJyUF6errP909ERERERC3z6CSzsWPHYu/evd4aCwDHaVVHjx6VHx8/fhz5+fmIiopCUlISsrKykJmZicGDB2Po0KFYtGgRampq5FWi1ESr1SIlJaXFc0xJOZij8jFDdWCO6sAclU8QBPmCdlIXjwoLX5zfuGPHDowcOVJ+nJWVBcCx8tOyZctwzz33oKysDPPmzUNxcTFSUlKwdu3aZhd0q4FGo0H37t39PQzyEHNUPmaoDsxRHZij8gmC0OICOaR8Hi3k64tKc8SIEfKSY43/Nb7j46xZs3Dy5Ek0NDRg27ZtSEtL8/o4AoHNZsO3337LG7koHHNUPmaoDsxRHZij8kmShKqqKl6Ar0K8Q0gAc97ohb94ysYclY8ZqgNzVAfmqHyN70hO6sLCgoiIiIiIPObRNRa8cIqIiIioDSQJsNb6Z9/6EKCNp6+PGDEC/fr1AwB89NFH0Ov1ePTRR/HSSy/xYmu6LI8Ki927d3trHNQCrVaL9PR0FnAKxxyVjxmqA3NUB8XmaK0FXunin30/dwYwhLa5+wcffICHH34YeXl52LFjBx555BEkJSVh5syZXhmOIAgud90m9eA9zQOYRqNBbGysv4dBHmKOyscM1YE5qgNz9L3ExET8+c9/hiAI6N27N/bt24c///nPXi0s9Hq9V7ZFgcUrhUV9fT327t2L0tJSiKLo8tydd97pjV10SFarFevWrcPYsWP5C6hgzFH5mKE6MEd1UGyO+hDHkQN/7fsKDBs2zOVoQnp6Ov70pz/Bbrd75UiRKIqoqqpCeHg4NBpe7qsmHhcWa9euxYMPPojy8vJmzwmCALvd7ukuOjQup6cOzFH5mKE6MEd1UGSOgnBFpyMRKZHHZeLjjz+Ou+++G2fPnoUoii7/WFQQERERKcu2bdtcHm/duhW9evVS3nUt1O48LixKSkqQlZWlyjtfExEREXU0hYWFyMrKQkFBAT777DO8/fbbmD17tr+HRQrg8alQ06ZNw8aNG3Httdd6YzzUiE6nw8iRI6HT8Rp7JWOOyscM1YE5qgNz9L0HH3wQdXV1GDp0KLRaLWbPno1HHnnEa9sXBAEmk4mrQqmQx7+V77zzDu6++25899136N+/f7MLqZ544glPd9GhGY1Gfw+BvIA5Kh8zVAfmqA7M0bf0ej0WLVqEd99912f7YFGhTh4XFp999hnWrVuH4OBgbNy40eUHRRAEFhYesNlsWLNmDcaPH6+slS/IBXNUPmaoDsxRHZij8kmSJK8KxQJDXTwuLJ5//nksWLAAc+bM4ZJhREREREQdlMeFhcViwT333MOigoiIiEjhNm7c6O8hkIJ5XA1kZmZi+fLl3hgLEREREREplCBJkuTJBp544gl8+OGHGDhwIAYMGNDsfMc333zTowEGiqqqKkRERKCyshLh4eHtsk9JkmCz2aDT6XgOooIxR+VjhurAHNVBKTnW19fj+PHj6NmzJ4KDg/09nIAiSRIkSYIgCD7LsLXvvz/e03UUHp8KtW/fPqSmpgIAfvzxR48HRK7q6upgMpn8PQzyEHNUPmaoDsxRHZij8jkLC1IXjwuLDRs2eGMc1AKbzYYNGzZw5QuFY47KxwzVgTmqA3NUPkmSYDabuSqUCnl8jcXChQuxdOnSZu1Lly7Fq6++6unmiYiIiIhIATwuLP72t7+hT58+zdpvuOEGLFmyxNPNExERERGRAnhcWBQXFyMhIaFZe0xMDM6ePevp5js8nc7js9UoADBH5WOG6sAc1YE5EgUmjwuLxMRE/PDDD83af/jhB3Tp0sXTzXdoer0eEyZM4DmkCscclY8ZqgNzVAfm6HsbN25Ejx49vLKtESNG4Mknn3Rp02g0iIyM9OgeaIIg4MSJE54NjrzO48Ji5syZePLJJ/H+++/j5MmTOHnyJJYuXYqnnnoKM2fO9MYYOyxRFFFaWgpRFP09FPIAc1Q+ZqgOzFEdmGP7EwQBwcHBOHnypEv7pEmTMH369CveniRJsFqt8PCOBxSAPC4snn76aTz88MP4zW9+g2uuuQbXXHMNHn/8cTzxxBOYO3euN8bYYdntduTm5sJut/t7KOQB5qh8zFAdmKM6KD3Hmpoat//q6+vb3Leurq5Nfb1FEATMmzfPK9uSJAk1NTUsLFTI48JCEAS8+uqrKCsrw9atW7Fnzx6cP3/eaz98RERERGoRFhbm9t/UqVNd+sbGxrrtO27cOJe+PXr0aLGft8yaNQsff/xxq/csq6mpwYMPPoiwsDAkJCTgT3/6U7M+Fy5cQGZmpjzecePG4ciRI/Lzy5YtQ2RkJFatWoVevXohODgYGRkZKCoq8tpcyHc8LiycwsLCMGTIEPTr1w9BQUHe2iwRERER+dnNN9+MO+64A3PmzHHb5+mnn8amTZvw9ddfY926ddi4cSN27drl0mf69OnYuXMnPv30U/zwww+QJAnjx4+H1WqV+9TW1uIPf/gDPvzwQ/zwww+oqKjAvffe67O5kfdwWYUAJggCTCYTbx6jcMxR+ZihOjBHdVB6jtXV1W6f02q1Lo9LS0vd9m164XN7XMi8cOFCDBgwAN999x1uvfVWl+eqq6vxz3/+Ex9//DFGjx4NAPjggw/QrVs3uc+RI0fw73//G99//z369+8Pk8mETz75BImJiVi1ahXuvvtuAIDVasU777yDtLQ0eTt9+/ZFXl4ehg4d6vN50tVjYRHAdDodRo0a5e9hkIeYo/IxQ3Vgjuqg9BxDQ0P93vdqJScn48EHH8ScOXOarQh67NgxWCwWuRgAgKioKPTu3Vt+fPDgQeh0OgwbNkwuojp37ozevXvj4MGDcj+dTochQ4bIj/v06YPIyEgcPHiQhUWA89qpUOR9oiji5MmTXPlC4Zij8jFDdWCO6sAc/WvBggXYtWsXVq1addXbkCQJDQ0NvHhbhVhYBDC73Y78/HzFrnxBDsxR+ZihOjBHdWCO/pWYmIhZs2bhueeec8ng2muvhV6vx7Zt2+S2Cxcu4PDhw/Ljvn37wmazYevWrairq4MkSTh37hwKCgqQnJws97PZbNixY4f8uKCgABUVFejbt6+PZ0eeYmFBRERERG02d+5cnDlzBuvXr5fbwsLC8PDDD+Ppp5/Gt99+ix9//BHTp093uRakV69euOuuu/DrX/8aubm52LNnD+6//3507doVd911l9xPr9fj8ccfx7Zt27Bz505Mnz4dw4YN42lQCsDCgoiIiIjaLCoqCs8++2yz+268/vrruPXWWzFx4kSMGTMGt9xyCwYNGuTS5/3338eNN96Ie++9FzfffDMkScKaNWtc7qQeEhKCZ599Fr/85S9x8803IywsDMuXL2+XuZFnePF2ABMEATExMYpd+YIcmKPyMUN1YI7qwBzbX0vXQsydO7fZjZDDwsLw0Ucf4aOPPpLbnn76aZc+nTp1wocffoiamhqEhoa6zXHKlCmYMmWKF0ZP7YmFRQDT6XS46aab/D0M8hBzVD5mqA7MUR2Yo/IJguDVm/dR4OCpUAHMbrfj0KFDvEBN4Zij8jFDdWCO6sAclU+SJPnibVIXFhYBTBRFFBQUcEk9hWOOyscM1YE5qgNz9L0ePXrgySef9Nn2W1tudvr06aioqLjsNubPn4/IyEjvD448wlOhiIiIiEjm68LCG1588UV/D4FawCMWRERERD7CIyv+we+7f/CIRQDTaDRISkpyWQOalIc5Kh8zVAfmqA5KydFgMECj0eDMmTOIiYmBwWDgSlYXSZIknw7l7e+JJEmwWCwoKyuDRqOBwWDw6vapdYLEK2fapKqqChEREaisrER4eLi/h0NEREQBzmKx4OzZs6itrfX3UDqckJAQJCQktFhY8D2d7/CIRQCz2+3Yu3cvBgwYAK1W6+/h0FVijsrHDNWBOaqDknI0GAxISkqCzWbjKlaN2O12FBQUoHfv3j7JUKvVQqfT8QiRH7CwCGCiKKKwsBD9+vUL+BdPco85Kh8zVAfmqA5Ky1EQBOj1epc7S3d0VqsVRUVF6N+/P78vKhPYJygSEREREZEisLAgIiIiIiKPqbKwmDx5Mjp16oRp06bJbRUVFRg8eDBSUlLQr18/vPfee34cYdtoNBr07t074Fe+oNYxR+VjhurAHNWBOSofM1QvVa4KtXHjRpjNZnzwwQdYuXIlAMeFQg0NDQgJCUFNTQ369euHHTt2oHPnzm3aJlcQICIiIlI+vqfzHVWWiiNGjIDJZHJp02q1CAkJAQD5NvKBXlPZbDZs2bIFNpvN30MhDzBH5WOG6sAc1YE5Kh8zVK+AKyw2b96MiRMnokuXLhAEAatWrWrWZ/HixejRoweCg4ORlpaGvLy8Nm27oqICAwcORLdu3fD0008jOjray6P3LkmSUFZWFvAFELWOOSofM1QH5qgOzFH5mKF6BdxyszU1NRg4cCAeeughTJkypdnzy5cvR1ZWFpYsWYK0tDQsWrQIGRkZKCgoQGxsbKvbjoyMxJ49e1BSUoIpU6Zg2rRpiIuLa7FvQ0MDGhoa5MdVVVUAHEukWa1WAI5zBLVaLex2u8ut453tNpvN5ZdGq9VCo9G4bXdu18nZp2m7TueIrWmlr9frIYqiy1rZgiBAp9O5bXc3dl/Nyd3Y1TwnZ3/nf9UwJzXm1NqcnNuy2WytzlVJc2o69o4wJ+fXNr2fgJLnpMac2jInAM3+Fit9TmrMyd2cGv9d9MeceKTEdwKusBg3bhzGjRvn9vk333wTM2fOxIwZMwAAS5YswerVq7F06VLMmTOnTfuIi4vDwIED8d1337lc4N3YwoULsWDBgmbt69atk0+pSkpKQmpqKvbu3YvCwkK5T+/evdGnTx/k5eWhrKxMbk9JSUH37t2xefNmmM1muT09PR2xsbFYt26dyw/7rbfeCgDIzs52GcP48eNRV1eHDRs2yG06nQ4TJkxAeXk5cnNz5XaTyYRRo0ahqKgI+fn5cntMTAxuuukmHDlyBAUFBXK7r+c0cuRIGI1GrFmzpsPNKTs7W3VzAtSXU2tz2rJlC0aPHq2qOakxJ3dzch6lPnbsGI4ePaqKOakxp8vNaf/+/QAu/W1Uw5zUmFNb5pSdne2XOfGicd8J6Iu3BUHAV199hUmTJgEALBYLQkJCsHLlSrkNADIzM1FRUYGvv/5abtu4cSPeeecd+eLtkpIShISEwGQyobKyEjfffDM+++wz9O/fv8V9t3TEIjExEeXl5fKFPr7+pEGj0aCoqAgJCQkuvwT+/qRBjZ+e+HJOFosFp0+fRteuXaHRaFQxJzXm1NqcRFHE6dOn0a1bNxgMBlXMqenYO8KcJEnC2bNn0aVLF5dtKHlOaszpcnNy3lzN+ZqqhjmpMafW5mS32+W/i3q9vt3nZDab0blzZ1687QOKKizOnDmDrl27YsuWLUhPT5f7PfPMM9i0aRO2bdsGABgzZgz27NmDmpoaREVFYcWKFdBqtXjkkUfki7Yfe+wx/PrXv27zWLiCABEREZHy8T2d7wTcqVDesH79+hbbGx/CUwKbzYbNmzfjtttukytxUh7mqHzMUB2YozowR+VjhuqlqJPMoqOjodVqUVJS4tJeUlKC+Ph4P43KdyRJgtls5qoJCscclY8ZqgNzVAfmqHzMUL0UVVgYDAYMGjQIOTk5cpsoisjJyXE5NYqIiIiIiNpXwB1/qq6udlmt4/jx48jPz0dUVBSSkpKQlZWFzMxMDB48GEOHDsWiRYtQU1MjrxJFRERERETtL+Au3t64cSNGjhzZrD0zMxPLli0DALzzzjt4/fXXUVxcjJSUFPzlL39BWlqaT8fljwt9RFFEeXk5oqOjuTSagjFH5WOG6sAc1YE5Kp+/M+TF274TcIVFoOIPIREREZHy8T2d77DUD2BWqxWrV69utoYzKQtzVD5mqA7MUR2Yo/IxQ/ViYRHgeNt5dWCOyscM1YE5qgNzVD5mqE4sLIiIiIiIyGMsLIiIiIiIyGO8eLuN/HGhj/MGMiaTCYIgtMs+yfuYo/IxQ3VgjurAHJXP3xny4m3f4RGLAGc0Gv09BPIC5qh8zFAdmKM6MEflY4bqxMIigNlsNqxZs4YXOCkcc1Q+ZqgOzFEdmKPyMUP1YmFBREREREQeY2FBREREREQeY2FBREREREQe46pQbeSvVaFsNht0Oh1XvlAw5qh8zFAdmKM6MEfl83eGXBXKd3jEIsDV1dX5ewjkBcxR+ZihOjBHdWCOyscM1YmFRQCz2WzYsGEDV01QOOaofMxQHZijOjBH5WOG6sXCgoiIiIiIPMbCgoiIiIiIPMbCIsDpdDp/D4G8gDkqHzNUB+aoDsxR+ZihOnFVqDbiCgJEREREysf3dL7DIxYBTBRFlJaWQhRFfw+FPMAclY8ZqgNzVAfmqHzMUL1YWAQwu92O3Nxc2O12fw+FPMAclY8ZqgNzVAfmqHzMUL1YWBARERERkcdYWBARERERkcdYWAQwQRBgMpn8crt78h7mqHzMUB2YozowR+VjhurFVaHaiCsIEBERESkf39P5Do9YBDBRFHHy5EmumqBwzFH5mKE6MEd1YI7KxwzVi4VFALPb7cjPz+eqCQrHHJWPGaoDc1QH5qh8zFC9WFgQEREREZHHWFgQEREREZHHWFgEMEEQEBMTw1UTFI45Kh8zVAfmqA7MUfmYoXpxVag24goCRERERMrH93S+wyMWAcxut+PQoUO8uEnhmKPyMUN1YI7qwByVjxmqFwuLACaKIgoKCrgcm8IxR+VjhurAHNWBOSofM1QvFhZEREREROQxFhZEREREROQxFhYBTKPRICkpCRoNY1Iy5qh8zFAdmKM6MEflY4bqxVWh2ogrCBAREREpH9/T+Q5LxQBmt9uxe/durpqgcMxR+ZihOjBHdWCOyscM1YuFRQATRRGFhYVcNUHhmKPyMUN1YI7qwByVjxmqFwsLIiIiIiLyGAsLIiIiIiLyGAuLAKbRaNC7d2+umqBwzFH5mKE6MEd1YI7KxwzVi6tCtRFXECAiIiJSPr6n8x2WigHMZrNhy5YtsNls/h4KeYA5Kh8zVAfmqA7MUfmYoXqxsAhgkiShrKwMPKikbMxR+ZihOjBHdWCOyscM1YuFBREREREReUyVhcXkyZPRqVMnTJs2rU3tRERERETkGVUWFrNnz8aHH37Y5vZApdVqkZKSAq1W6++hkAeYo/IxQ3VgjurAHJWPGaqXKguLESNGwGQytbk9UGk0GnTv3p3LsSkcc1Q+ZqgOzFEdmKPyMUP1CrhEN2/ejIkTJ6JLly4QBAGrVq1q1mfx4sXo0aMHgoODkZaWhry8vPYfaDuw2Wz49ttvuWqCwjFH5WOG6sAc1YE5Kh8zVC+dvwfQVE1NDQYOHIiHHnoIU6ZMafb88uXLkZWVhSVLliAtLQ2LFi1CRkYGCgoKEBsb67VxNDQ0oKGhQX5cVVUFALBarbBarQAcFbdWq4XdbocoinJfZ7vNZnNZ8UCr1UKj0bhtd27XSZIkmM1mWCwWl/46nSO2pr+Qer0eoijCbrfLbYIgQKfTuW13N3Zfzcnd2NU8J4vF4pKjGuakxpxam5PVaoXZbIbValXNnJqOvSPMyWazwWw2NxuLkuekxpwuNydnjs7XVDXMSY05tTanxn8XNRpNu8+JBY3vBFxhMW7cOIwbN87t82+++SZmzpyJGTNmAACWLFmC1atXY+nSpZgzZ47XxrFw4UIsWLCgWfu6desQEhICAEhKSkJqair27t2LwsJCuU/v3r3Rp08f5OXloaysTG5PSUlB9+7dsXnzZpjNZrk9PT0dsbGxWLduncsP+6233goAyM7OdhnD+PHjUVdXhw0bNshtOp0OEyZMQHl5OXJzc+V2k8mEUaNGoaioCPn5+XJ7TEwMbrrpJhw5cgQFBQVyu6/nNHLkSBiNRqxZs6bDzSk7O1t1cwLUl1Nrc9qyZQtGjx6tqjmpMSd3c4qOjgYAHDt2DEePHlXFnNSY0+XmtH//fgCX/jaqYU5qzKktc8rOzvbLnHgKlu8E9J23BUHAV199hUmTJgFwfPIbEhKClStXym0AkJmZiYqKCnz99ddy28aNG/HOO+9g5cqVLtt0195US0csEhMTUV5eLt+lsT2OWPzvf//D7bffDr1eL7f7+5MGNX564ss51dXVITs7W85RDXNSY06XO2KRnZ2NsWPHwmg0qmJOTcfeEeZks9mwbt06ZGRkuFw0quQ5qTGny82pvr4e33zzjfyaqoY5qTGnyx2xcP5dDA4Obvc5mc1mdO7cmXfe9gFFFRZnzpxB165dsWXLFqSnp8v9nnnmGWzatAnbtm0DAIwZMwZ79uxBTU0NoqKisGLFCqSnp7ttbwt/3P5dFEWUl5cjOjqa1bWCMUflY4bqwBzVgTkqn78z9Md7uo4i4E6F8ob169dfUXug0mg0Xr1uhPyDOSofM1QH5qgOzFH5mKF6KarUj46OhlarRUlJiUt7SUkJ4uPj/TQq37FarVi9enWzw4CkLMxR+ZihOjBHdWCOyscM1UtRhYXBYMCgQYOQk5Mjt4miiJycnDaf0qQ0XLlAHZij8jFDdWCO6sAclY8ZqlPAnQpVXV3tslrH8ePHkZ+fj6ioKCQlJSErKwuZmZkYPHgwhg4dikWLFqGmpkZeJYqIiIiIiNpfwBUWO3bswMiRI+XHWVlZABwrPy1btgz33HMPysrKMG/ePBQXFyMlJQVr165FXFycv4ZMRERERNThBfSqUIHEHysIOG+QZzKZIAhCu+yTvI85Kh8zVAfmqA7MUfn8nSFXhfIdRV1j0REZjUZ/D4G8gDkqHzNUB+aoDsxR+ZihOrGwCGA2mw1r1qzhBU4KxxyVjxmqA3NUB+aofMxQvVhYEBERERGRx1hYEBERERGRx1hYEBERERGRx7gqVBv5a1Uom80GnU7HlS8UjDkqHzNUB+aoDsxR+fydIVeF8h0esQhwdXV1/h4CeQFzVD5mqA7MUR2Yo/IxQ3ViYRHAbDYbNmzYwFUTFI45Kh8zVAfmqA7MUfmYoXqxsCAiIiIiIo+xsCAiIiIiIo+xsAhwOp3O30MgL2COyscM1YE5qgNzVD5mqE5cFaqNuIIAERERkfLxPZ3v8IhFABNFEaWlpRBF0d9DIQ8wR+VjhurAHNWBOSofM1QvFhYBzG63Izc3F3a73d9DIQ8wR+VjhurAHNWBOSofM1QvFhZEREREROQxFhZEREREROQxFhYBTBAEmEwmv9zunryHOSofM1QH5qgOzFH5mKF6cVWoNuIKAkRERETKx/d0vsMjFgFMFEWcPHmSqyYoHHNUPmaoDsxRHZij8jFD9eLdSQKUJIowV57Hju3bEBkeCr1e7+8h0VWyWq3MUeGYoTowR3VgjsrXUobGEBMEDT/vVjqeCtVG7X3YrLa6EiFvJPl8P0RERET+VvvbQoSERbTLvngqlO+wNCQiIiIiIo/xVKgAZQwxoerJn7Brdz5uTE2BTseolMpmszFHhWOG6sAc1YE5Kl9LGRpDTH4eFXkDT4VqIx42IyIiIlI+vqfzHZ4KFcDsdjsOHTrEW94rHHNUPmaoDsxRHZij8jFD9WJhEcBEUURBQQGXY1M45qh8zFAdmKM6MEflY4bqxcKCiIiIiIg8xsKCiIiIiIg8xsIigGk0GiQlJUHDG8YoGnNUPmaoDsxRHZij8jFD9eKqUG3EFQSIiIiIlI/v6XyHpWIAs9vt2L17N1dNUDjmqHzMUB2YozowR+VjhurFwiKAiaKIwsJCrpqgcMxR+ZihOjBHdWCOyscM1YuFBREREREReUzn7wEohfNSlKqqqnbbp9VqRW1tLaqqqqDX69ttv+RdzFH5mKE6MEd1YI7K5+8Mne/leJmx97GwaCOz2QwASExM9PNIiIiIiMhTZrMZERER/h6GqnBVqDYSRRFnzpyByWSCIAjtss+qqiokJiaiqKiIqxYoGHNUPmaoDsxRHZij8vk7Q0mSYDab0aVLFy5562U8YtFGGo0G3bp188u+w8PD+eKpAsxR+ZihOjBHdWCOyufPDHmkwjdYphERERERkcdYWBARERERkcdYWASwoKAgzJ8/H0FBQf4eCnmAOSofM1QH5qgOzFH5mKF68eJtIiIiIiLyGI9YEBERERGRx1hYEBERERGRx1hYEBERERGRx1hYEBERERGRx1hYEBERERGRx1hYEBERERGRx1hYEBERERGRx1hYEBERERGRx1hYEBERERGRx1hYEBERERGRx1hYEBERERGRx1hYEBERERGRx3T+HoBS2Gw27N69G3FxcdBoWI8RERERKZEoiigpKUFqaip0Or4V9iZ+N9to9+7dGDp0qL+HQURERERekJeXhyFDhvh7GKrCwqKN4uLiADh+CBMSEtplnzabDTk5ORg9ejQragVjjsrHDNWBOaoDc1Q+f2d49uxZDB06VH5vR97D38g2cp7+lJCQgG7durXLPq1WK6Kjo9G1a1fo9fp22Sd5H3NUPmaoDsxRHZij8gVKhjy13fv4HSUiIiIiIo+xsCAiIiIiIo/xVCgvs9vtsFqtXtmW1WqFTqdDfX097Ha7V7bpa3q9Hlqt1t/DICIiIqJ2xsLCSyRJQnFxMSoqKry6zfj4eBQVFUEQBK9t19ciIyMRHx+vqDETERERkWdYWHiJs6iIjY1FSEiIV95Ui6KI6upqhIWFKeICI0mSUFtbi9LSUgBot9WziIiIiMj/WFh4gd1ul4uKzp07e227oijCYrEgODhYEYUFABiNRgBAaWkpYmNjeVoUERERdWhFRUV44IEHUFpaCp1Oh9/97ne4++67UVFRgTFjxsBms8Fms2H27NmYOXOmv4frEUW8W+3RowcEQWj277HHHgMA1NfX47HHHkPnzp0RFhaGqVOnoqSkxGUbhYWFmDBhAkJCQhAbG4unn34aNpvNK+NzXlMREhLile0pnfP74K1rTYiIiIiUSqfTYdGiRThw4ADWrVuHJ598EjU1NTCZTNi8eTPy8/Oxbds2vPLKKzh37py/h+sRRRQW27dvx9mzZ+V/2dnZAIC7774bAPDUU0/hP//5D1asWIFNmzbhzJkzmDJlivz1drsdEyZMgMViwZYtW/DBBx9g2bJlmDdvnlfHyWsKHPh9ICIiInJISEhASkoKACA+Ph7R0dE4f/48tFqt/GFsQ0MDJEmCJEl+HKnnFHEqVExMjMvjP/7xj7j22msxfPhwVFZW4p///Cc+/fRTjBo1CgDw/vvvo2/fvti6dSuGDRuGdevW4cCBA1i/fj3i4uKQkpKC3//+93j22Wfx4osvwmAwNNtnQ0MDGhoa5MdmsxmA426RTT+Jt1qtkCQJoihCFEWvzdtWa0PZ38pQbaqGJkgDwSBAE6xBUJcgGHsZoY923FRGrBdh3m5G7eFaoPHP48X396HJoQhPDwcA2GvtKFte1qyP8/+N1xkRcXOEY7tWEWWfN+rbpH9w92BE3OroK0kSyj5z9LVYLagrr0NJ5xLHjW8EwNDFIPcFgPIvygGx5e3qY/WIuO1S3/P/PQ/JKrXYVxelc+l7IfsCxDqxWT9BEKAN17r0rdxUCXtNk9W2Ln6NNkSLiOGX+lblVsFeZW+2XQiAJkjjsl3zTjPsFZe2a7PZoN2jRbmuHPpg17nV7KmB9YJVHqPLOAS4fM9qD9TCet71Z6/x15jSTRA0jsd1R+pgLbe2+H0AgNAbQ6HROz5XqD9ef6lvk+8DAIT2D4UmyNG3oagB1jKraz/h4nYFwHi9EZpgR19ruRXWc1bHmJz9Gv2/IcEAjcHR115th91sd3zU4dxeo//XmrQQdI5BiVYRkkUCNJf22+L/e5Hzd17tR+HM9VZsPnIOI3tHI8SgiD8PV8SXOUqi4zXK+Tso2SXYa+2O1znJ8U+SJPn/NSEaaEMcp4qKVhG2cscR9MZ9nP+0Ji10nXRy34bCi3+bpObb1nXSwRDn+Jsm2STUHqptsR/geP0M7h4sj7d6V3WLY4UE6DrrENInRB5j1fdVl8YgfxMubTe0f6jcXLmpUv7+uPSHY7xhqWGufa1N3lw5txuhgynNJOd3LuccNFbNpe9bI9owrcvrZ+WmStir7S77d36NNkSLyNGRLn1tFY3OaGj85ydIQNS4qEt9N1e6vn427qsV0HnSpdOjK7+rhLXY2uLcACDmnkvvdSq/r4SlyNJsrHLfn8fIr4lVW6pQ/1N9i1kAQPTPo+XX5aqtVagrqIM70VOjoQ1z/Fyat5tRu7+2xW0CQOfJnaGLdPxcVu+qRnV+9aW5awQYexsRmhIKrfHSKdG1+2tRe6gW1hor9Lv1OPXTKWhEDRIeS4Cgbb8PJa/0jJXNmzfj9ddfx86dO3H27Fl89dVXmDRpkkufxYsX4/XXX0dxcTEGDhyIt99+G0OHDm22rZ07d8JutyMxMREAUFFRgeHDh+PIkSN4/fXXER0dfdXzCgSK+8thsVjw8ccfIysrC4IgYOfOnbBarRgzZozcp0+fPkhKSkJubi6GDRuG3Nxc9O/f3+XW7RkZGXj00Uexf/9+pKamNtvPwoULsWDBgmbtOTk5zULX6XSIj49HdXU1LBZLs6+5WtZSK07POe32+aj7opD4diLq9tTh8MjDbvtFPxKNbjc47hZuLbHi8K/c9426PwpCf8cvt73KjoLpBW77Rk6ORI+BPQA4/igdeuCQy/NVqLo0lyFW1D5/6QUq/MFwCNaWX0Rs/W2o+X2N/Nj0oAma6pYPrtmut6HmtUZ9HzZBc67lvvbudlS/demFL+yxMGhPt3wNiD3Ojuq/NeqbFQbtTy33FSNFmJeZ5cehc0OhO+j6qxWGMBSgAJJRQtVnl74vIQtCoN/d8l1HJY2Eqi8b9f1jCPRb3d+htPJflcDFGtn4ZyMMm5oXzE5VH1VBMjn+SgS/G4ygb4Lc932vClLMxb5LgxH0b/d9ze+YIXZzFHZBnwQheEWw+75vmCFed7HvyiAEf+y+b/UfqmG/wVGsGf5rgPEfRrd9a+bVwHaj44+GPkcP42KjXMzI/+D4b21WLWxpjr66bToY3zU6ChotAI0jA+f/6+7XIRuOo6XaQ1oEfxjs6KN1FDmNv86SYYEt1bFdzWkNDF8bAD0APSDpJcd/DRKgA2zJNojXXCyGqwHdYR2kIAmSUQKMgGS8+P8GuBR8vvDuAQ0OVWowOFrEA7289yGJWxZAMAsQagUI9YLjsfXify0CbMk2SFGOnz3NMQ30eXoIFgGwQ/4n2AXABlgmWGC/zvEzot2vRdAXQY7nbYLjzb3N0TfMHoYN922AbagjH+0eLYx/NUKQBMcbJxEuxUD9g/Wwjna8cdTu0yL05dBL/S72EcSLBf30OlgmOf4GaAu0CHv20hvmpurvrUfDvY4CQXNCA9OTJrd9GyY1oH56PQBAKBYQ/v/C3fcd34D6Ry72rRAQPt19X8soC+qeuPgmsw6I+EWE+743WVD3zMW+EhAx2X1f62Aral9o9Hr/83BHbi2w9bOh5uVGr+EPmKAxu3m972VDzeuX+h548AA0ZW5e75PsqP5Lo9fwWWHQnnLzGh4rwvz3Rq/h/xcK3bGW3x6JESLMHzTq+3wodPtb7isFS6j6vNFr+Esh0O9y/xq+3bT9Ut9XQ6DPdd93h3EHcPGl2PiWEYYN7l/vdxp2Qgq/+Bq+JBhBa92/hu+SdkGKvdj3/WAEfe2+727LboiJF1/DPwtC8PLmr+GSXkLdb+pgHWlttv8QhOAkTgIA8rvnO14j20l5eTkAx4fGVVWXMgoKCkJQUPM519TUYODAgXjooYdczohxWr58ObKysrBkyRKkpaVh0aJFyMjIQEFBAWJjY+V+58+fx4MPPoj33ntPbouMjMSePXtQUlKCKVOmYNq0aS7vV5VGcYXFqlWrUFFRgenTpwNwrMZkMBgQGRnp0i8uLg7FxcVyn6YhOR87+zQ1d+5cZGVlyY9Pnz6N5ORkjB49Gl27dnXpW19fj6KiIoSFhSE42P2boytlsVoQOTkSWkkLqUGCaBEh1omoL6yH5ZQFEQMiEBERAdMwEwqvKYTxOiMEw8UX70afLESmRCI83PHHxWq3unza0vRTkMgbL/W1a+3oNLZTs+05v6ZxX8kuyZ/4iHYRdXV1Lhedm9JM6D6+u7yN/cP3Q7SKLX7CEpoaimvGXyM3H7jlgOPT7BbGG9I3BNeNv05+fPCmg45P1FsYb/A1wbht/G1y+6G0Q5c++WsyR0MXg0vfgs8LUBdR5/bTuVvH3yo3H/niCKp11fLzkiSh2uxY3UsbpsUt42+R+x79z1FU1Vc12ybg+MSncd+f1v2EivMVbj/tSh+XLh9ZOL7xOM6fOt9iPwBIy0iTP2k6mXsSZQVlbj/tGnX7KAR1cbzQFu4qRMmukkt9nJ9sXnyTNXzUcBivc7zpL9pThNPZp+U3YfInoBf73nLbLQhLcbzxOvXjKZzUnLz0CWkTw9KHIeIWxxuZM8fO4DiON+900ZAhQ9Apw/FzW1xcjGPiMbd9B6UMQufxjk8UyyrLcLjCfdEt1Aq4/fbbodfrcc52DocOHHLbt88DfRA/Ph4AULG+AvvX7Xfbt8drPdB1vOM1pWprFfbdv6/ljlogaX4SEuc4PuWynLXg5O9OQh+rhz5OD0O8AcHXBcN4nRG6iKt7aZ+duw4AsKNcg89m/+yqtmGrsqGuoA71R+thKbbAUmKBtdgKS4kFtjIbrvv7dQi70ZH76bdO48TTJ9xuq+/XfeXXq5IPSnB0+VG3ffvP7I/o8Y4Pfcpry1Gwy/2HIv2S+qHL+C4AgPM4j4MlB9337dUPCeMdK9xVhFRgf4P7LPv07oNu4x0f4phjzNiLvW779urVC0njkwAANT/WIF/Idyl65SNwAnBNr2vQY3wPAED9iXrsDt0t923cDwLQs09P9BzfE4DjqOHumN3yNhv/EwQBCf0S5Ndae40du3vsbnH/AJBw46W+kiRhd+/dlybT5Chu/I3xuHb8tXJTfr98SA0tH3UOGxyGXuN7yY/3pe5zOeLbuG/IDSG4fvz1sFqtyM7ORqcbO8FWamvWTxAEBPUMcn29H3YIDScbvd43+hpDvMH1NfyrI6iLqWtxbrpI19f7n9b9hJpONXBx8Ws0wRqX1/AT352A2WSWx9i0/83jb5abCncVoiqk0d+GJl+TPv7S6/2pg6dQqa9scQwAkDYuTX5NOHvyLC4IF9z2HTJ+CAyxjiKlpKQE56zuz/cfPG4wgpIcfxvKKstQVn3pDAfJIqFmbw2sJVb0rO6JHrf2gM6kQ0lJCUrNpUAwcK7qHOIS46DRaxx/vwztd3b+6dOOD22Tk5Nd2ufPn48XX3yxWf9x48Zh3Lhxbrf35ptvYubMmZgxYwYAYMmSJVi9ejWWLl2KOXPmAHCcCTNp0iTMmTMHN910U7NtxMXFYeDAgfjuu+8wbdq0q52a3wmSwk7mysjIgMFgwH/+8x8AwKeffooZM2a4nLYEAEOHDsXIkSPx6quv4pFHHsHJkyfxzTffyM/X1tYiNDQUa9asafWHxenUqVNITExEUVERunXr5vJcfX09jh8/jp49e3q1sBBFEVVVVQgPD2+2KlT13mqE3hDarocO28pX3w+lslqtWLNmDcaPH+84NYwuy1mESKLjv4JWkE8xEa0ixAaxxYJFkiTownWXTrGqtTtOaWi0rcbFkCHOAG2o41NMa4UVDYUNkOyS459NAuyO00msDVbknsnFuPvGQa/Xo+FMAyq3VMrPO/s7/xt5WyRCb3CcClJ3rA4ln5ZAbBAdHxDUO8bv/G98Zrxc3Jh3mVHwqwLYaxynhtnNdsfpGxdd8/o1SPqt481o5dZK7E5v9OauEX2cHt2e7Ibuc7q3+Lw7Peaslv//xB8nXLa/9YIVld9XIuLWCOgjHT/bJxeexPHn3Bd+/f/XH51/5pjv2aVnUfBIAXThOmjDtNAYNdAEa+T/XvOHa+RTM6u2VaH4w2JogjUQ9AI0eg0EnQBBL0DQCeh8Z2eE9rn4PT9Rh8pNlS7PC3oBIkRs37Udw6cPR1j3MHkOtYdqHT9f2ounMmku/TeoSxD0UY652evssBRbLvXRuvbVhmrl0z4ku+PDoMan/8lv2AGfnLLXUfA1VRkkScKPk3+EZJHQf3V/l593f2fofE934MABlw+L3R2xaEwQBJdToSwWC0JCQrBy5UqX06MyMzNRUVGBr7/+GpIk4Ze//CV69+7tUriUlJQgJCQEJpMJlZWVuPnmm/HZZ5+hf//+3pxuu1LUEYuTJ09i/fr1+PLLL+W2+Ph4WCwWVFRUuBy1KCkpQXx8vNwnLy/PZVvOVaOcfZQmbID7Q+xESuf8tNRZTDSm0Wvk60MuRxuilc9jvxx9pF5+c9yU1WqFtObSZzBBXYIQOy22xb5NGa81osfverSpr+lGEwbvGuzSJomSo9CoskMTemneQV2C0POVno4jAiVWNJxqQO2RWlhLrLCWWOU3w4DjjfbR2UcRPz0e0XdFt/h9bSvJLqFsZRmKlxXjfPZ5wA70+7ofou90HC0IuT4Ehi4GGK8zIqhbEAzxhkv/Yg0wDb50yk98ZjziZ7TtZprhaeEIT3N/Wk9jxh5GGHs0P13OarXCJtrkI3AAoO+kR0S6+9N6GtMatTD2dH8aXmOCVnA5t5yooxEEATesuAFVuVWQ7JJ8TUggMZlM8pkXV6u8vBx2u73FM2MOHXIc2f7hhx+wfPlyDBgwAKtWrQIAfPTRR6irq8MjjzwiX7T9+OOPK7qoABRWWLz//vuIjY3FhAmXPkkbNGgQ9Ho9cnJyMHXqVABAQUEBCgsLkZ6eDgBIT0/HH/7wB/neCgCQnZ2N8PDwZofBvEWSJNRZ7Zfv2ApRFFFnsUNnsV3RfSyMem2bPwnr0aMHnnzySTz55JNyW0pKCiZNmoQXX3wRgiDgvffew+rVq/HNN9+ga9eu+NOf/oQ777zzSqdDRFdB0AjQmXTQmVxfroOTgtF9bvMjErZKG2qP1CK4x6WjhWX/KsO5f5/DuX+fQ+jAUFz72rWIGhvV7Gsvp/zrcvw05yfHBcEXGXsbIVouXY8RPSUaMVNjWvryZgLxiCsReY9Gr0HkbZH+Hobf3XLLLW4X98nPz2/fwfiYYgoLURTx/vvvIzMzEzrdpWFHRETg4YcfRlZWFqKiohAeHo7HH38c6enpGDZsGABg7NixSE5OxgMPPIDXXnsNxcXFeOGFF/DYY49d9pDX1aqz2pE875vLd/SBAy9leHVFlwULFuC1117D66+/jrfffhv33XcfTp48iaioK39jQkS+pYvQIXyw6ydw0XdFw3reijN/PYOaPTXYm7EXic8m4pqF17TpQwjJLuHI40dw5t0zjn100qHr410Rd18cQq53vX8PT+8hoo4kOjoaWq222f3TGp8505Eo4j4WALB+/XoUFhbioYceavbcn//8Z9xxxx2YOnUqbrvtNsTHx7ucLqXVavHf//4XWq0W6enpuP/++/Hggw/ipZdeas8pKNb06dPxi1/8Atdddx1eeeUVVFdXNzu1jIgCV0jvEFz7x2sx7MQwdJ3lOJ+46NUiHH3S/cXQjdlr7KjKrQIEIPGZRAw7MQw9F/RsVlQQEXU0BoMBgwYNQk5OjtwmiiJycnLkM2c6EsUcsRg7dqzbm4YEBwdj8eLFWLx4sduv7969O9asWeOr4TVj1Gtx4KUMj7YhiiLMVWaYwk1XfCqUNw0YMED+/9DQUISHh6O0tNSr+yAi39NH6dHr7V4IGxSGgocKcPovpxE+LBxxv2h9aUNduA4D1g2AebtZvtCciKijqK6uxtGjlz6IOX78OPLz8xEVFYWkpCRkZWUhMzMTgwcPxtChQ7Fo0SLU1NTIq0R1JIopLJRGEASPT0cSRRE2gxYhBt0VFRaesttdrw1pumKDIAhevREgEbWvhOkJqD9ej9oDtQgb2LaFIAwxBhYVRNQh7dixAyNHjpQfO29HkJmZiWXLluGee+5BWVkZ5s2bh+LiYqSkpGDt2rWKvh/F1WJhQS7nBVqtVhQVFflxNETUHnou6HnZPoVvFEKySej2eDd5WV4ioo5mxIgRbs+acZo1axZmzZrVTiMKXCwsCEuXLsXo0aPRvXt3vPXWW6isrMSxY8eaXYhERB2HJEo49edTsJyxIKRXSJtXeiIioo5LMRdvk+9MnDgRTzzxBPr374/z58/j5Zdfxpdffon169f7e2hE5GMV31fgaNZR1B2rc2k37zTDcsYCbZgWURO4AhwREV0ej1gQ+vXrh3/84x8ubc8//zwA4L777mvWv6Kioj2GRUTt4OSCk7iw/gIMCQaX9vJV5QCAqHFR0AbzNCgiIro8HrEgIurAOt/huCC7YlOFS3vl5krH8xN4wTYREbUNCwsiog4sdEAoALjcTRsAag7WuDxPRER0OTwVqoM7ceKEv4dARH4U0tdxk7v64/XQ2wCrDgirBWznbIDguLkeERFRW/CIBRFRB2aIM0AXqQNEIO6CAACIrtRA0AsI7h4MbQivryAiorZhYUFE1IEJgoCQPo6jEgnnHH8STiSIuLXmVqR+n+rPoRERkcKwsCAi6uCcp0M5CwsA0Og1COoa5K8hERGRArGwICLq4Lo/3x1DjwzFf9Kt/h4KEREpGAsLIqIOznitESHXhUC6+Bdh2iY99t+zH1Xbqvw7MCIiUhQWFkRE5CL5hBZl/yqDpczi76EQEZGCsLAgIurgao/U4ticYxi3TQ8AMFocq0PpwrkiORERtR0LCyKiDq7hdAOKXi3CLfschUTwxQMV2nAuNUtERG3HwoKIqINzHpkwNuDif3nEgoiIrhwLC1+RJMBS4/k/a+2Vf40ktXmYPXr0wKJFi1zaUlJS8OKLLwJwrHH/7rvvYty4cTAajbjmmmuwcuVKL36jiMjftCbHkQmjRYAgAsFWwaWdiIioLfhxlK9Ya4FXuni0CQ2AyKv5wufOAIZQj/bd2O9+9zv88Y9/xFtvvYWPPvoI9957L/bt24e+fft6bR9E5D/OIxNBFiCkoXk7ERFRW/CIBV3W3XffjV/96le4/vrr8fvf/x6DBw/G22+/7e9hEZGXOK+l0EBARI3jaIVgEKAJ4p8IIiJqO34c5Sv6EMeRAw+IoogqsxnhJhM0miv4A68P8Wi/TaWnpzd7nJ+f79V9EJH/aII1EHQCJJuE2iBgxtM1OPJ8hr+HRURECsPCwlcEwfPTkUQR0Nsd27mSwsJDdru93fZFRP4nCAK04VrYzttgbAAqTIAugn8eiIjoyvA4N6GkpET+f6vViqKiIpfnt27d2uwxr68gUpfUzal4+pFalHZq++IPREREjbGwICxduhTr16/HkSNH8NRTT6GyshLHjh2TC44VK1Zg6dKlOHz4MObPn4+8vDzMmjXLz6MmIm8KvSEUZZ0kXHtGg0e/DkLhG4X+HhIRkWpMnjwZnTp1wrRp01zajx8/jpEjRyI5ORn9+/dHTU2Nn0boHSwsCBMnTsQTTzyB/v374/z583j55Zfx5ZdfYv369QCABQsW4PPPP8eAAQPw4Ycf4rPPPkNycrKfR01EvhB/XoO0QzpUbqr091CIiFRj9uzZ+PDDD5u1T58+HS+99BIOHDiATZs2ISgoyA+j8x6eREvo168f/vGPf7i0Pf/88wCA+++/H126dMG6dev8MTQiaielK0oxdZMesRWOz5t4DwsiIu8ZMWIENm7c6NK2f/9+6PV63HrrrQCAqKgoP4zMuxRxxOL06dO4//770blzZxiNRvTv3x87duyQn5ckCfPmzUNCQgKMRiPGjBmDI0eOuGzj/PnzuO+++xAeHo7IyEg8/PDDqK6ubu+pEBEFpPIvyzFxqwE3nHAUFM4laImIOrrNmzdj4sSJ6NKlCwRBwKpVq5r1Wbx4MXr06IHg4GCkpaUhLy/vsts9cuQIwsLCMHHiRNx444145ZVXfDD69hXwhcWFCxdw8803Q6/X43//+x8OHDiAP/3pT+jUqZPc57XXXsNf/vIXLFmyBNu2bUNoaCgyMjJQX18v97nvvvuwf/9+ZGdn47///S82b96MRx55xB9TIiIKOM4jFGH1jvtY8OZ4RKR2ZrMZVVVV8r+GhoYW+9XU1GDgwIFYvHhxi88vX74cWVlZmD9/Pnbt2oWBAwciIyMDpaWlre7fZrPhu+++w1//+lfk5uYiOzsb2dnZHs/LnwL+L8err76KxMREvP/++3Jbz5495f+XJAmLFi3CCy+8gLvuugsA8OGHHyIuLg6rVq3Cvffei4MHD2Lt2rXYvn07Bg8eDAB4++23MX78eLzxxhvo0sWzO2Qr2YkTJ1p9XpK4QgxRR9D0CAVPhSIitWt6vej8+fPx4osvNus3btw4jBs3zu123nzzTcycORMzZswAACxZsgSrV6/G0qVLMWfOHLdf17VrVwwePBiJiYkAgPHjxyM/Px+33377VcwmMAR8YfHvf/8bGRkZuPvuu7Fp0yZ07doVv/nNbzBz5kwAjqvpi4uLMWbMGPlrIiIikJaWhtzcXNx7773Izc1FZGSkXFQAwJgxY6DRaLBt2zZMnjy52X4bGhpcKlez2QzAUV1arVaXvlarFZIkQRRFiKLotbk739Q7t60UoihCkiRYrVZotXxz4vx5afpzQ8rRETKUtK4fIkg6SXXz7Qg5dgTMUfn8naHNZgMAHDhwAF27dpXbr+bCaYvFgp07d2Lu3Llym0ajwZgxY5Cbm9vq1w4ZMgSlpaW4cOECIiIisHnzZvz617++4jEEkoAvLH766Se8++67yMrKwnPPPYft27fjiSeegMFgQGZmJoqLiwEAcXFxLl8XFxcnP1dcXIzY2FiX53U6HaKiouQ+TS1cuBALFixo1p6Tk4Po6Ohm24qPj4fZbIbFYrnqubrjLGqUoqGhAXV1ddi8ebP8y0tQ/OFNUneGhmNBMCJYfnyo4BD2rtnrxxH5jppz7EiYo/L5K8Py8nIAgMlkQnh4uMfbstvtLb4PPXTokPx4zJgx2LNnD2pqatCtWzesWLEC6enpeOWVV3DbbbdBkiSMHTsWd9xxh0fj8beALyxEUcTgwYPlC1pSU1Px448/YsmSJcjMzPTZfufOnYusrCz58enTp5GcnIzRo0e7VLeA407VP/30EzQajcc/oI1JkgSz2QyTyQRBELy2XV87d+4cjEYjRo8ezSMWcHwik52djdtvvx16vd7fw6Gr0BEy/GnLCZzFaWwaYMXnoyzIf2kMNMEBfxneFekIOXYEzFH5/J3h6dOn232fziX8m7rcaVZKE/CFRUJCQrNz4Pr27YsvvvgCABAfHw/AcffohIQEuU9JSQlSUlLkPk0voLHZbDh//rz89U0FBQW5HBKrqqoC4Dg60fSXQK/Xo1OnTigvL4dGo0FISIhXCgFRFGGxWNDQ0ACNJvD/wEuShNraWpSXl6NTp04IDg6+/Bd1IHq9nn8EFU7NGQpax2uMVQfUBQFBJmWvpd4aNefYkTBH5fNXhjqd997+RkdHQ6vVyjcVdiopKXH7HlPNAr6wuPnmm1FQUODSdvjwYXTv3h2A40Lu+Ph45OTkyIVEVVUVtm3bhkcffRQAkJ6ejoqKCuzcuRODBg0CAHz77bcQRRFpaWleGafzh+dyKwBcCUmSUFdXB6PRqKgjFpGRkR3yl4lIyaIfScCvzh6G2cgFG4iI2spgMGDQoEHIycnBpEmTADg+GM7JycGsWbP8Ozg/CPjC4qmnnsJNN92EV155BT//+c+Rl5eHv//97/j73/8OABAEAU8++SRefvll9OrVCz179sTvfvc7dOnSRQ64b9+++NnPfoaZM2diyZIlsFqtmDVrFu69916vrQglCAISEhIQGxvrtYuRrFYrNm/ejNtuu00xn8ro9Xqe/kSkQNo4PQrjRAzP1+HaMxqcG3UOncd29vewiIj8rrq6GkePHpUfHz9+HPn5+YiKikJSUhKysrKQmZmJwYMHY+jQoVi0aBFqamrkVaI6koAvLIYMGYKvvvoKc+fOxUsvvYSePXti0aJFuO++++Q+zzzzDGpqavDII4+goqICt9xyC9auXetyKs4nn3yCWbNmYfTo0dBoNJg6dSr+8pe/eH28Wq3Wa2+stVotbDYbgoODFVNYEJEyiaLjSEXfQi2GHdShZn8tCwsiIgA7duzAyJEj5cfOa3AzMzOxbNky3HPPPSgrK8O8efNQXFyMlJQUrF27ttkF3R1BwBcWAHDHHXe0epW8IAh46aWX8NJLL7ntExUVhU8//dQXwyMiUryqHyoxcYseA485PhjhCVFERA4jRoy47H29Zs2a1SFPfWpKEYUFERH5VvWmSkz9ziA/lgSWFkREdGUCf6khIiLyuaa34FTOLTmJiChQsLAgIiJITRae4/EKIiK6UiwsiIioWSEhsbQgIqIrxMKCiIiaFRI8FYqIiK4UL94mIiK5kNhxvQ0f3W7BN/dG+3U8RESkPDxiQURE8vGKOoOEyjAJMPJGl0REdGV4xIKIiBA0uROePXEU5hBHiWG/zJrtRERETfGIBRERAfF6HO0mok+hFvetN6B2W5W/R0RERArDwoKIiCBePEKRelSL23fqUX+gzs8jIiIipWFhQUREsOypwdjtOvT/yXFthcg7bxMR0RXiNRZERATr1mr88tsg+THLCiIiulI8YkFERBCbVBKi0HI/IiIid1hYEBFRs0JC4qpQRER0hVhYEBFRs1OfWFYQEdGVYmFBRESQmpQSopt+RERE7rCwICIiuZAo6GbHM4/UQjMm3K/jISIi5WFhQURE8hGLqlAJpZ0kSGH880BERFeGy80SERFsw8Pw1uETqAx1FBj2pstEERERXQY/kiIiIojxOuzvKeKas1pM26SHbX+tv4dEREQKw8KCiIhgv3iRxbADOtyx1QD70Qb/DoiISEXeeOMN3HDDDejXrx8+/vhjfw/HZ3gqFBERQTpWj+H5OiQXah2PueAsEZFX7Nu3D59++il27twJSZIwcuRI3HHHHYiMjPT30LyORyyIiAianXWY8U2Q/JjLzRIRecfBgweRnp6O4OBgGI1GDBw4EGvXrvX3sHyChQUREUHkfSyIiFq0efNmTJw4EV26dIEgCFi1alWzPosXL0aPHj0QHByMtLQ05OXlyc/169cPGzduREVFBS5cuICNGzfi9OnT7TiD9sPCgoiImhUSosRToYhI3cxmM6qqquR/DQ0tX1tWU1ODgQMHYvHixS0+v3z5cmRlZWH+/PnYtWsXBg4ciIyMDJSWlgIAkpOT8cQTT2DUqFGYMmUKhg0bBq1W67N5uSNaRdQX1aO2oBbW81af7IOFBRERNbumgmUFEaldcnIyIiIi5H8LFy5ssd+4cePw8ssvY/LkyS0+/+abb2LmzJmYMWMGkpOTsWTJEoSEhGDp0qVyn1//+tfYtWsXNmzYAL1ej169evlkTk3ZzDacfvc0dg/fje/Dv8fWHluR1zcPP8T8gNzuuSiYWYCq7VVe2x8v3iYiouZHLFhaEJHKHThwAF27dpUfBwUFtdK7ZRaLBTt37sTcuXPlNo1GgzFjxiA3N1duKy0tRWxsLAoKCpCXl4clS5Z4Nvg2KHqzCCf/cBLGa43oPLEzuj/XHYYuBmiMGtjO21DzYw0qv6vE3rF7YUozodfbvRDSK8SjfQb8EYsXX3wRgiC4/OvTp4/8fH19PR577DF07twZYWFhmDp1KkpKSly2UVhYiAkTJiAkJASxsbF4+umnYbPZ2nsqREQBy1lGnI0S8bsZdbAMMfp1PEREvmYymRAeHi7/u5rCory8HHa7HXFxcS7tcXFxKC4ulh/fddddSE5Oxv3334/3338fOp3vP9s3bzcjdXMqBuUNQo/f9UBURhTC+och5LoQhA8NR8JDCejzfh/cVHwToidFo/K7So/3qYgjFjfccAPWr18vP24cxlNPPYXVq1djxYoViIiIwKxZszBlyhT88MMPAAC73Y4JEyYgPj4eW7ZswdmzZ/Hggw9Cr9fjlVdeafe5EBEFIuc1FWURIopiRYhhAf+5ExGRYjQ+etFekj9LblM/TZAGXf9f18t3bANFFBY6nQ7x8fHN2isrK/HPf/4Tn376KUaNGgUAeP/999G3b19s3boVw4YNw7p163DgwAGsX78ecXFxSElJwe9//3s8++yzePHFF2EwGFrcZ0NDg8tFPGazGQBgs9lgtfrmgpemnPtpr/2RbzBH5esIGZpT9Ph0cj0qQx0FhsXafq917aUj5NgRMEfl83eG3jxrJTo6GlqtttnZMiUlJS2+d/W3qm1VCE8L99n2FVFYHDlyBF26dEFwcDDS09OxcOFCJCUlYefOnbBarRgzZozct0+fPkhKSkJubi6GDRuG3Nxc9O/f3+UQVUZGBh599FHs378fqampLe5z4cKFWLBgQbP2nJwcREdHe3+SrcjOzm7X/ZFvMEflU3OGe8oF7Lpei1v36nDDCS0Oh/2INWf3+HtYPqHmHDsS5qh8/sqwvLzca9syGAwYNGgQcnJyMGnSJACAKIrIycnBrFmzvLYfb9l/936kF6b7bPsBX1ikpaVh2bJl6N27N86ePYsFCxbg1ltvxY8//oji4mIYDIZmdy5sfF5bcXFxi+e9OZ9zZ+7cucjKypIfnz59GsnJyRg9erTLhT6+ZLVakZ2djdtvvx16vb5d9knexxyVryNkePr748DJIxiZr8M1Z7Uov6srxo+/3t/D8qqOkGNHwByVz98ZXuk9JKqrq3H06FH58fHjx5Gfn4+oqCgkJSUhKysLmZmZGDx4MIYOHYpFixahpqYGM2bM8PbQ22T/z/e3/IQEny0z6xTwhcW4cePk/x8wYADS0tLQvXt3/Otf/4LR6LuLC4OCglwu4qmqcizFpdPp2v2XQK/X88VTBZij8qk5Q32JiPT9Wlxz9uLa6oJGvXNVcY4dCXNUPn9leKUXTu/YsQMjR46UHzs/eM7MzMSyZctwzz33oKysDPPmzUNxcTFSUlKwdu3aZh9st5cL6y+g70d9oQ1zvVeGJEmo2Fzh030HfGHRVGRkJK6//nocPXoUt99+OywWCyoqKlyOWjQ+ry0+Pt7l7ofO553PERERELyvAb/+b7D8mMvNEhE5jBgxAtJlbho6a9asgDn1KXJEJLQmLSJvi2z2XNiAMJ/uW3HLflRXV+PYsWNISEjAoEGDoNfrkZOTIz9fUFCAwsJCpKc7zh9LT0/Hvn375LsfAo5z+sLDw5Gc3Lar5YmI1E6UWn9MRETK0O/Lfi0WFQAwMHugT/cd8Ecsfvvb32LixIno3r07zpw5g/nz50Or1eIXv/gFIiIi8PDDDyMrKwtRUVEIDw/H448/jvT0dAwbNgwAMHbsWCQnJ+OBBx7Aa6+9huLiYrzwwgt47LHHrmq9YiIiNeIN8oiI1KmhuAFB8e3znjfgC4tTp07hF7/4Bc6dO4eYmBjccsst2Lp1K2JiYgAAf/7zn6HRaDB16lQ0NDQgIyMDf/3rX+Wv12q1+O9//4tHH30U6enpCA0NRWZmJl566SV/TYmIKOA0LSRYWBARqcPesXsxZO+QdtlXwBcWn3/+eavPBwcHY/HixVi8eLHbPt27d8eaNWu8PTQiItWwNzl/2M66gohIHdrx9Vxx11gQEZH3OQuL2iAJL99XB/P1XG2HiEgVhPbbFQsLIiKSC4uiGBFHu4lo8N1q3kREpFI+OxXq+PHj+O6773Dy5EnU1tYiJiYGqampSE9PR3Bw8OU3QERE7eb8tVr87Y56VIU4Cgwrz4UiIqIr5PXC4pNPPsFbb72FHTt2IMcj7gMAAF9WSURBVC4uDl26dIHRaMT58+dx7NgxBAcH47777sOzzz6L7t27e3v3RER0FcydBOTeYMfN+3TIyNNA6O3bu7MSEVH7ELTtdy6UVwuL1NRUGAwGTJ8+HV988QUSExNdnm9oaEBubi4+//xzDB48GH/9619x9913e3MIRER0Fax2x4Kzd+TpkVCuwa5RLCyIiNRg8O7B7bYvrxYWf/zjH5GRkeH2+aCgIIwYMQIjRozAH/7wB5w4ccKbuycioqukPWfHjYe1SCh3XHpn45lQRER0hbxaWLRWVDTVuXNndO7c2Zu7JyKiqxR+xIYnvrp0/ZtNbHrLPCIiUip7nR2QAG2IFgBQf7IeZV+VITQ5FFFjo7y2H5+vCrVw4UJf74KIiDxkk8Qmj3nIgohILX6860cUf1gMALBWWLEzbSdO/ekUfrzrR5x+97TX9uP1wmLz5s0u/1asWOHtXRARkZc1XQTKJrKwICJSC/MuMyJvjQQAlK0sgyHOgGEnh6HPh31w+i/eKyy8virU3XffjRtuuAHSxU+7eB0FEVHgszY59YmFBRGReoi1IrQmx2lQF9ZdQMyUGAgaAeHDwlF/st5r+/F6YTF8+HD861//kh+PHDnS27sgIiIva1pIWCVeY0FEpBbG64woX1WO6MnROP/NeXR7qhsAwFpqhTZc67X9eP1UqHnz5rk8/vzzz729CyIi8jJ7o2sqXrunDufi2m/dcyIi8q3u87rj2G+PYWuPrQhPC0dEegQA4Py68zClmry2H68fsejXr5/L47i4OG/vgoiIvMx68YhFVU8tDvQQERbEU6GIiNQidlosIm6JgOWsBWEDw+T2TqM7IXpytNf247NVoV566SVfbZqIiLzsbKyE9zMaUHRPKIBLN8wjIiJ1CIoPginVBEFz6Yh0+NBwhPYJ9do+fFZYHDp0yFebJiIiLztvkrApxYYQSYMR+TroK1hYEBHRlfH5fSyIiCjw2S4eoej2vhnTvwlCSDkLCyIiujIsLIiICFqzhBuOa6EvtQMArLxBHhGRYlkvWGE9bwUAWMosKPuyDDX7a3y+X58VFhL/KBERKUbcaQlP/ytYfsz7WBAReUdRURFGjBiB5ORkDBgwwOc3jz7zjzPYOWgndg7eidPvnsaPk3/EhZwLOHDvAZz5xxmf7tvrq0I53Xjjjb7aNBEReZmtyYdBTW+YR0REV0en02HRokVISUlBcXExBg0ahPHjxyM01HsXTTd2+i+nMWT/EIh1InKTcjHs+DAYYgywVdqwe/hudPlVF5/sF/BhYfH000/7atNERORlTY9Q8IgFEZF3JCQkICEhAQAQHx+P6OhonD9/3meFhaAToDVqoTVqYbzOCEOMAQCgi9BBEHx7jyKfnQq1a9cu7Nu3T3789ddfY9KkSXjuuedgsVh8tVsiIrpCkiQ1O0JhZWFBRAQA2Lx5MyZOnIguXbpAEASsWrWqWZ/FixejR48eCA4ORlpaGvLy8lrc1s6dO2G325GYmOiz8QpaAfZ6x/VyqZtS5XZbtc1n+3TyWWHx61//GocPHwYA/PTTT7j33nsREhKCFStW4JlnnvHVbomI6ArZRQlSkw+xbDwViohUzmw2o6qqSv7X0NDQYr+amhoMHDgQixcvbvH55cuXIysrC/Pnz8euXbswcOBAZGRkoLS01KXf+fPn8eCDD+Lvf/+71+fS2MD1A6EJcrzF10VcOjlJrBVx/d+v9+m+fVZYHD58GCkpKQCAFStW4LbbbsOnn36KZcuW4YsvvvDVbomI6ApZ7a5HJ96aUo8SEwsLIlK35ORkREREyP8WLlzYYr9x48bh5ZdfxuTJk1t8/s0338TMmTMxY8YMJCcnY8mSJQgJCcHSpUvlPg0NDZg0aRLmzJmDm266ySfzcWp6ylNDsaNgMsQaED4k3Lf79tWGJUmCePETr/Xr1+OOO+4AACQmJqK8vNxXuyUioitksYvyEQv9NUHY3cuxJKEkST4/H5eIyF8OHDiArl27yo+DgoKueBsWiwU7d+7E3Llz5TaNRoMxY8YgNzcXgOO1dPr06Rg1ahQeeOABzwd+hfaO3Yshe4e0y758dsRi8ODBePnll/HRRx9h06ZNmDBhAgDg+PHjiIuL89VuiYjoCtnsIsoiJHw6qgHxz1w675cXcBORmplMJoSHh8v/rqawKC8vh91ub/beNi4uDsXFxQCAH374AcuXL8eqVauQkpKClJQUl+uQfa4dX8p9dsRi0aJFuO+++7Bq1So8//zzuO666wAAK1eu9PkhICIiajurXUKFScK3aXb8LkyLm37UYXcvG2x2CXqtv0dHRKRst9xyi3wWj1+044Fnnx2xGDBgAPbt24fKykrMnz9fbn/99dfxwQcfXPV2//jHP0IQBDz55JNyW319PR577DF07twZYWFhmDp1KkpKSly+rrCwEBMmTEBISAhiY2Px9NNPw2bz/dXxRESBzmp3/MHTaQWcfPwYHlkdhMhqARY7r7MgImpNdHQ0tFpts/edJSUliI+P99Oo/MdnhYU7wcHB0Ov1V/W127dvx9/+9jcMGDDApf2pp57Cf/7zH6xYsQKbNm3CmTNnMGXKFPl5u92OCRMmwGKxYMuWLfjggw+wbNkyzJs3z6O5EBGpgdUuIrgB6H1aC9sFxwcuEi4VHERE1DKDwYBBgwYhJydHbhNFETk5OUhPT/fjyPyj3QuLq1VdXY377rsP7733Hjp16iS3V1ZW4p///CfefPNNjBo1CoMGDcL777+PLVu2YOvWrQCAdevW4cCBA/j444+RkpKCcePG4fe//z0WL17Me2oQUYdntUtIOKfBU+8b5DZJAGx2XmNBRFRdXY38/Hzk5+cDcFwvnJ+fj8LCQgBAVlYW3nvvPXzwwQc4ePAgHn30UdTU1GDGjBl+HPUlgrb9zoXy2TUW3vbYY49hwoQJGDNmDF5++WW5fefOnbBarRgzZozc1qdPHyQlJSE3NxfDhg1Dbm4u+vfv73JhTUZGBh599FHs378fqampaKqhocFlPWOz2QwAsNlssFqtvphiM879tNf+yDeYo/KpPcO6BkuL5+DWNjTAalXPRRZqz7GjYI7K5+8Mr/RU+B07dmDkyJHy46ysLABAZmYmli1bhnvuuQdlZWWYN28eiouLkZKSgrVr1wbMYkWDdw9ut335vLCYPXs23nrrLY+28fnnn2PXrl3Yvn17s+eKi4thMBgQGRnp0t74avzi4uIWr9Z3PteShQsXYsGCBc3ac3JyEB0dfTXTuGrZ2dntuj/yDeaofGrN8IQZkGBwaZMEYP23GxFn9NOgfEitOXY0zFH5/JXhld72YMSIEZCk1o/gzpo1C7NmzfJkWKrg9cLiww8/dHns6Q9NUVERZs+ejezsbAQHB3u0rSsxd+5cuSIFgNOnTyM5ORmjR492WfPYl6xWK7Kzs3H77bdf9XUp5H/MUfnUnuH2Exfw5fqdLm0SgJtvuRXXx5n8MygfUHuOHQVzVD5/Z3j69Ol232cgsNfbUbO3BpZSC9DkErroO73zobnXC4sXX3wRw4cPlx9XVFR4tL2dO3eitLQUN954o9xmt9uxefNmvPPOO/jmm29gsVhQUVHhctSi8dX48fHxyMvLc9mu8+p9d1fsBwUFuaxnXFVVBQDQ6XTt/kug1+v54qkCzFH51JqhJLRwuZ0ASIJWlfNVa44dDXNUPn9lqNMp5koArzm39hwOPXgI1vIWTj8TgBH2EV7Zj9e/s4MHD8b7778vP258TtrVGD16dLObiMyYMQN9+vTBs88+i8TEROj1euTk5GDq1KkAgIKCAhQWFspX46enp+MPf/gDSktLERsbC8BxJCU8PBzJyckejY+ISOmsje68DQAr7hVRFSJxuVkiIpU4+vhRxNwdgx7zesAQZ7j8F1wlrxcWb7/9tsvjDRs2eLQ9k8mEfv36ubSFhoaic+fOcvvDDz+MrKwsREVFITw8HI8//jjS09MxbNgwAMDYsWORnJyMBx54AK+99hqKi4vxwgsv4LHHHruquywSEamJtdHqT4YEAw4OtqChjKtCERGphaXEgsSsRJ8WFYAPCgt/XAH/5z//GRqNBlOnTkVDQwMyMjLw17/+VX5eq9Xiv//9Lx599FGkp6cjNDQUmZmZeOmll9p9rEREgcZqF1ERJmLrnVrcPzoJevtPcjsRESlfzLQYVGysgPFa367I4bOTzB5//PFmRy+8ZePGjS6Pg4ODsXjxYixevNjt13Tv3h1r1qzxyXiIiJTMahdRFQrsvUOPoJggJP8X+CkCPBWKiEgler3TC/vv3o+K7yoQ1j8Mgt51jfFuT3Tzyn58Vlhc6VJeRETkH85TofRaDQ78/ADuskrY+KjAU6GIiFSi9LNSXFh3AZpgDSo2VkAQGhUWggIKC5cBExFRwLLaRehtQOwpEZLVUUxIAk+FIiJSi5+e/wk9FvRA0pwkCBrfvUfveOttERGRC6tdREyFgAl/qm/WTkREyidZJMTeE+vTogIAWli83Dsud4dCIiIKDFa7hKav2I4jFnwdJyJSg/jMeJQuL/X5fnx2xCIjI8NXmyYiIi+y2kWghQ+xeMSCiEgdJLuEwtcKcf6b8wgb0Pzi7evevM4r+/F6YfHjjz+iX79+mD59urc3TUREPmCxiS0csZBgsbGwICJSg5p9NTClmhz//2ONz/bj9cJiwIABGDJkCH71q1/h3nvvhclk8vYuiIjIi+qtdpc7bwOAdLGdiIiUL2VDSrvsx+vXWGzatAk33HAD/u///g8JCQnIzMzEd9995+3dEBGRl9RbXY9M7H80FPWG5u1ERKRMJxeexNmlZ5u1n116FoWvFnptP14vLG699VYsXboUZ8+exdtvv40TJ05g+PDhuP766/Hqq6+iuLjY27skIiIP1NsuHbHQmrQ4Ny4UVr2jnYiIlO/M384gpE9Is/bQG0JxZskZr+3HZ6tChYaGYsaMGdi0aRMOHz6Mu+++G4sXL0ZSUhLuvPNOX+2WiIiuUL3VjppgCeX3m5D420QE6zVyOxERKZ+l2AJDgqFZuz5Gj4azDV7bj88Ki8auu+46PPfcc3jhhRdgMpmwevXq9tgtERG1QYNVRI0RqH6kE0xDTYjOt0JrZ2FBRKQWwYnBqPyhsll75Q+VCOoS5LX9+PwGeZs3b8bSpUvxxRdfQKPR4Oc//zkefvhhX++WiIjaqO5iARGs0WLfuH24BkDQbF5jQUSkFgkzE3D0yaOQrBI6jeoEALiQcwHHnjmGxP9L9Np+fFJYnDlzBsuWLcOyZctw9OhR3HTTTfjLX/6Cn//85wgNDfXFLomI6CrVW+3Q2oHQs5eOUEgCj1gQEalF4tOJsJ6z4shvjkC0OD400gRrkPRsErrP7e61/Xi9sBg3bhzWr1+P6OhoPPjgg3jooYfQu3dvb++GiIi8pN5qR0SNANPdl1YG4XKzRETqIQgCrn31WnT/XXfUHqyFxqhBSK8QaIK8e1WE1wsLvV6PlStX4o477oBWq/X25omIyMvcnfLEU6GIiNpHjx49EB4eDo1Gg06dOmHDhg0+2Y8uTIfwIeE+2Tbgg8Li3//+t7c3SUREPlRvs7dw5+1L114QEZHvbdmyBWFhYV7bXn1hPYKTgtvcv+F0A4K6enYhd7usCkVERIGrwSryzttERCqzc8hOFPy6AFXbq9z2sVXacOa9M8jrl4eyL8o83icLCyKiDq7FIxMC0GDjqVBERJs3b8bEiRPRpUsXCIKAVatWNeuzePFi9OjRA8HBwUhLS0NeXt4V7UMQBAwfPhxDhgzBJ5984pVxDz0wFNpQLfbcvgc/xP+AvRP2omBmAY48fgQH7j+AHTfuwA+xP6B4aTGufe1adHuim8f79PqpUBUVFdi2bRsyMjIAAF9++SWmTJni7d0QEZGX1Fvt0Dc6YhHyYlfYag7ziAURqZrZbEZV1aVP84OCghAU1PxUoJqaGgwcOBAPPfRQi+9ply9fjqysLCxZsgRpaWlYtGgRMjIyUFBQgNjYWABASkoKbDZbs69dt24dunTpgu+//x5du3bF2bNnMWbMGPTv3x8DBgzwaH76znpc9+Z16PmHnji3+hwqv69Ew8kG2Ovs0EfrEXdfHDpldEJYP++dfuX1wuIXv/gFbDYbPvroI3z88cd44403WFgQEQUoSZIchQUuVhYC0On/xUP882FeY0FEqpacnOzyeP78+XjxxReb9Rs3bhzGjRvndjtvvvkmZs6ciRkzZgAAlixZgtWrV2Pp0qWYM2cOACA/P7/VsXTt2hUAkJCQgPHjx2PXrl0eFxZOWqMWsdNiETst1ivba43XC4vy8nJs374d//znP/HCCy94e/NERORFVrsEUQIa9BJifpOAIIMWQXrHin48YkFEanbgwAH5DT2AFo9WXI7FYsHOnTsxd+5cuU2j0WDMmDHIzc1t0zZqamogiiJMJhOqq6vx7bff4uc///kVjyUQeL2w6NTJcTe/hx9+GE888QQOHTrk7V0QEZGX1NscxUN9EHDNK9eiYUc1KnZUQ5Acy81KkgRBEC6zFSIi5TGZTAgP92zp1fLyctjtdsTFxbm0x8XFtfk9cElJCSZPngwAsNvtmDlzJoYMGeLRuPzF64XFtGnTYLPZoNPp8Kc//QkaDa8PJyIKVPUWR2EhCIC2VkT+bfmOx087lpxtsIkI1vOeREREvnLNNddgz549/h6GV3j9Xf8jjzwCnc5Rr+j1eixatMjbuyAiIi9x3gTPqNXCctoitzvva9HAm+QREbkVHR0NrVaLkpISl/aSkhLEx8f7aVT+4/UjFo1t374dGzZsQGlpKUTR9Y/Tm2++6ctdExFRGzhPhepk02DHwB1yu1YrwCZJqLPaEQG9v4ZHRBTQDAYDBg0ahJycHEyaNAkAIIoicnJyMGvWLP8Ozg98Vli88soreOGFF9C7d2/ExcW5nKPL83WJiAKD8wJtg8H1dKcgnQY2q50XcBNRh1ddXY2jR4/Kj48fP478/HxERUUhKSkJWVlZyMzMxODBgzF06FAsWrQINTU18ipRHYnPCou33noLS5cuxfTp0321CyIi8pDzVKim11EYg7SosdrlIxpERB3Vjh07MHLkSPlxVlYWACAzMxPLli3DPffcg7KyMsybNw/FxcVISUnB2rVrm13Q3RH47MpqjUaDm2++2ePtvPvuuxgwYADCw8MRHh6O9PR0/O9//5Ofr6+vx2OPPYbOnTsjLCwMU6dObXaeW2FhISZMmICQkBDExsbi6aefbvEmJUREHY3zXhUGveufgyCdc8lZXmNBRB3biBEjIElSs3/Lli2T+8yaNQsnT55EQ0MDtm3bhrS0NP8N2I98Vlg89dRTWLx4scfb6datG/74xz9i586d2LFjB0aNGoW77roL+/fvl/fzn//8BytWrMCmTZtw5swZlxvy2e12TJgwARaLBVu2bMEHH3yAZcuWYd68eR6PjYhI6ZynOgU3KSycj+ssPGJBRERt47NToX77299iwoQJuPbaa5GcnAy93vXivy+//LJN25k4caLL4z/84Q949913sXXrVnTr1g3//Oc/8emnn2LUqFEAgPfffx99+/bF1q1bMWzYMKxbtw4HDhzA+vXrERcXh5SUFPz+97/Hs88+ixdffBEGg6HF/TY0NKChoUF+bDabAQA2mw1Wq7XN3wdPOPfTXvsj32COyqfmDGvqHStBGXSXrn1LfD4RQbrTF59vUM281ZxjR8Iclc/fGfKsFd/xWWHxxBNPYMOGDRg5ciQ6d+7slQu27XY7VqxYgZqaGqSnp2Pnzp2wWq0YM2aM3KdPnz5ISkpCbm4uhg0bhtzcXPTv39/lPLeMjAw8+uij2L9/P1JTU1vc18KFC7FgwYJm7Tk5OYiOjvZ4LlciOzu7XfdHvsEclU+NGW4vFQBoUVVxHoAJAPDjgB9Rd0QLQMCWbTtQc1RqbROKo8YcOyLmqHz+yrC8vNwv+21vW3tuBa7i7Xe3J7uh2xPdrmqfPissPvjgA3zxxReYMGGCx9vat28f0tPTUV9fj7CwMHz11VdITk5Gfn4+DAYDIiMjXfrHxcWhuLgYAFBcXNzi3RCdz7kzd+5c+eIcADh9+jSSk5MxevRol9u/+5LVakV2djZuv/32Zkd8SDmYo/KpOcPz2wqBY4fQpVsc4h4yAQKQPj4dyz/bhePm80juPxDjU7r4e5heoeYcOxLmqHz+zvD06dPtvk9/6LOsz1V9XXCP4Kvep88Ki6ioKFx77bVe2Vbv3r2Rn5+PyspKrFy5EpmZmdi0aZNXtu1OUFAQgoKC5MdVVVUAAJ1O1+6/BHq9ni+eKsAclU+NGdZfPCMgNDwIvd/tjZofa2A5akHY/2/vzuOjqO/Hj79m9swdQiAHtyBHOBJugxcKEsHyE7R+1SogKloLKs23rdJa8Kq01q/ytV+U2opY1JaiVVsPNEYRUQ4JBIEAKjeBXJD72GNmfn/MZmEJIJBjs8n7+XjMY3c/85mZz/Bhd/KezzEO8zxdOm3unNtiPbZHUo+hL1h1WP8g57Yu9srYFj9msw3efvTRR1mwYAE1NTWN3pfdbqdPnz4MHz6chQsXkpqayv/+7/+SmJiI2+2mrKwsIP/JTztMTEw87dMQ69cJIUR7VuUy+zhHOqy4C9zkDM9h8+jNRDrMC29VnfRFFkKIUFd3sA7DaNit1TAM6g7WNdlxmi2weP755/nwww9JSEhg8ODBDBs2LGBpDF3XcblcDB8+HJvNRnZ2tn/d7t27OXjwIOnp6QCkp6ezbds2ioqK/HmysrKIjo4mJSWlUeUQQohQVx84RNoteEtPBBGRTjOwqHZJYCGEEKFufa/1eIobDpb3HveaYzGaSLO1BdU/1ryx5s2bx8SJE+nevTuVlZW88cYbrF69mo8++oiYmBjuuusuMjMziYuLIzo6mvvvv5/09HQuueQSACZMmEBKSgrTpk3j6aefpqCggEceeYTZs2cHdHUSQoj2qMplTicbqVrZlLYJAMNtEOFrsaiUwEIIIUKfwWkHcmtVGqqz6doZmi2wWLBgQZPsp6ioiOnTp3P06FFiYmIYMmQIH330Eddccw0Azz33HKqqcuONN+JyucjIyOCFF17wb2+xWHjvvfe47777SE9PJyIighkzZvD44483SfmEECKU1XeFiggLvBxIVyghhAh932d+b75RYN9v92EJt/jXGZpBxYYKItMim+x4zRZYfP311+i63uDJgxs2bMBisTBixIhz2s/LL7981vVOp5PFixef9WF8PXr04IMPPjin4wkhRHtS7WuxiHIEXg6i6rtCuSWwEEKIUFW1pcp8Y0D1tmpU+4nWCcWuEJkaSbdfdGuy4zVbYDF79mx+9atfNQgs8vPz+cMf/sCGDRua69BCCCHOUX1Xpwhn4OUgwu7rCiUtFkIIEbLSPksDYNfMXfR5vg/WqOadEavZBm/n5eWddpD20KFDycvLa67DCiGEOA9Vdb6uUKcEFjJ4Wwgh2o7+r/SnKreKvNvz2DxmM658FwAFywsoW1vWZMdptsDC4XA0mOYV4OjRo+1m/mAhhGjt6rtCRZ40xqLL/V1OjLGQwEIIIUJe8VvFfJPxDZYwC5WbK9FdOgDeci8HnzrYZMdptsBiwoQJzJs3j/Lycn9aWVkZv/71r/0Dr4UQQgRXfeAQFXbiIVU9HunhDyzqAw8hhBCh68CTB+i7pC/9/tIP1Xbiz/+YS2Oo3FzZZMdptqaDZ555hiuuuIIePXowdOhQAHJzc0lISGD58uXNdVghhBDnSNcN/+DsSIeVzj/pDIDqUIlU6sdYNJz3XAghRGip2V1DzBUxDdKtMVa8ZU3XMt1sgUWXLl345ptveP3119m6dSthYWHMnDmTW2+9NSiPbxdCCBGoxqNR/yDWSIeVjkv7U7uvFnexm8jO9bNCaRiGgaKcZgJ0IYQQIcGeaKf2+1rCeoYFpJevLSfsorAzbHX+mnWwQ0REBPfcc09zHkIIIcQFqn9GhUVVcNpUanbW8PXAr7HGWRl6xHzIqKYb1Hl0wuyWs+1KCCFEK5Y0K4nvH/ye/kv7gwKuIy4q1lWw5xd76PHbHk12nCYdY7F+/bk/ErympoYdO3Y05eGFEEKch/rxFRF2C4qioLt1/7pwu4X6RopKl3SHEkKIUNb94e4k/CSB3HG5aFUauVfksvvu3STfm0zX+7s22XGaNLCYNm0aGRkZrFy5kurq6tPmycvL49e//jW9e/cmJyenKQ8vhBDiPPgHbjvN7qk5Q83fZO9xL4qiEGmXAdxCCNEWKIpCj9/04LLjlzFy+0iGrR/GmOIx9HqiV5Mep0m7QuXl5fHiiy/yyCOP8JOf/IS+ffuSnJyM0+mktLSUXbt2UVVVxdSpU/n4448ZPHhwUx5eCCHEeajvChXhOH03pwiHlUqX159PCCFEaFPtKhEpEc22/yYNLGw2Gw888AAPPPAAmzZtYu3atRw4cIDa2lpSU1P5+c9/zlVXXUVcXFxTHlYIIcQFqG+xqJ9a9lSRTitUyLMshBCiLSjNLqU0uxR3kRv0wHX9l/ZvkmM02+DtESNGMGLEiObavRBCiEbyj7E4U2DhkClnhRCiJUydOpXVq1czbtw43nzzTX/6oUOHmDZtGkVFRVitVn77299y0003nff+9z+2n/2P7ydqRBT2JHuzzfQnj8AWQoh2qqzGDUBM2OmnAI/2pZfXSmAhhBDN6cEHH+TOO+/k1VdfDUi3Wq0sWrSItLQ0CgoKGD58OJMmTSIi4vy6Mx1ZcoT+y/qTOC2xKYvdQLM9eVsIIUTrVh8wdAi3B6QnTE/wpUtgIYQQLWHs2LFERUU1SE9KSiItLQ2AxMRE4uPjOX78+HnvX3frxIxp+IC8piaBhRBCtFOlvhaL+gBCjTAvCT0X9PSl2wPyCSFEe7RmzRomT55McnIyiqLwzjvvNMizePFievbsidPpZPTo0WzcuLHJy5GTk4OmaXTr1u28t026O4nCNwqbvEynkq5QQgjRTpXWmC0Rsb4AouOPOqLX6ajhqi/dFpBPCCHaksrKSioqKvyfHQ4HDoejQb7q6mpSU1O58847ueGGGxqsX7FiBZmZmSxZsoTRo0ezaNEiMjIy2L17N507dwYgLS0Nr7fhRBgff/wxycnJP1jW48ePM336dP7yl7+czyn66XU6R186SuknpUQOiUSxBY6x6PNsnwva76laPLAoLi7mk08+4dZbb23pQwshhDhJ/RiL+gBiwN8G4C50g2Guj/WNsSiTFgshRBuUkpIS8HnBggU8+uijDfJNnDiRiRMnnnE/zz77LLNmzWLmzJkALFmyhPfff5+lS5fy8MMPA5Cbm3vB5XS5XEyZMoWHH36YMWPGXNA+qr+pJjIt0ny//ZRnzTXhOO5mCywef/zx06bv2bOHf/3rXxJYCCFEkJXVBI6xqMqtYvPozTi6O0g/kE6HCHtAPiGEaEvy8vLo0qWL//PpWit+iNvtJicnh3nz5vnTVFVl/PjxrFu3rtFlNAyDO+64g6uvvppp06Zd8H7SPks7p3x1h+twJDtQ1AuLNpotsHj77bcDPmuaxqFDh6ioqODJJ59srsMKIYQ4R2X+rlC+WaF8LRX1d69i/WMsJLAQQrQ9UVFRREdHN2ofJSUlaJpGQkJCQHpCQgK7du065/2MHz+erVu3Ul1dTdeuXVm5ciXp6el8+eWXrFixgiFDhvjHdixfvrzZHjL9dcrXjMgdQdhFYRe0fbMFFlu2bGmQ5vV6mTt3Ljt27GiuwwohhDhHJwZvmwHE5ks2A+A64PKlS1coIYRoCZ988slp0y+77DJ0XT/tumZh/HCWs2nRMRZWq5W5c+cyZMiQljysEEKIU7i8GjVuDWg43Ww9mRVKCCHOLj4+HovFQmFh4IxLhYWFJCY27zMjWqMWn272wIED9OrVq6UPK4QQ4iT13aBUBaKcp7/HFONrsajz6NR5tBYrmxBChAq73c7w4cPJzs72p+m6TnZ2Nunp6UEsWXA0W4vF888/3yCtsLCQpUuXMnny5ID1DzzwQHMVQwghxGnUBxYxYTbUMwzSi3JYsaoKXt2grMZDYoylJYsohBCtQlVVFd9//73/8759+8jNzSUuLo7u3buTmZnJjBkzGDFiBKNGjWLRokVUV1f7Z4lqT5otsHjuuedOm+50OsnKyiIrKwsARVEksBBCiBZ26viK01EUhdhwGyVVbkpr3CTGOFuqeEII0Wps2rSJq666yv85MzMTgBkzZrBs2TJuvvlmiouLmT9/PgUFBaSlpbFq1aoGA7pDQiOnnm22wGLfvn3NtWshhBCNdOozLE4W3389MNa33m4GFtUyzkII0T6NHTsWwzj7qOY5c+YwZ86cFipRM2rk4O0WH2MhhBAi+IorzZmfOkaemLfdFlEKQM+xb/jTOvqeZVFc5WrB0gkhhAiGkXkjcfa48NbpFn/ythBCiOAr8gUWnaNOBBaxPXfgrY3AYq/zp3WONi8w9YGIEEKI0KHVapRmlxL/o3gA9s7bi+46MX2tYlHo+URPLE5zDJ2zW+O6vLb6FouFCxcycuRIoqKi6Ny5M1OmTGH37t0Beerq6pg9ezYdO3YkMjKSG2+8scG0XwcPHuS6664jPDyczp0788tf/hKv19uSpyKEEK1GsT+w8F1EPLUMmPosKTf+D7awSvA1+9cHHhJYCCFE6Cl4tYCjfz7q/5z/f/mUf1VO1ZYqqrZUUfhaIUdePNJkx2v1gcXnn3/O7NmzWb9+PVlZWXg8HiZMmEB1dbU/z89//nP+85//sHLlSj7//HOOHDnCDTfc4F+vaRrXXXcdbrebr776ildffZVly5Yxf/78YJySEEIEnb/FItrXYlFVRPnBFL7842tsXvoHqCs31/sCiyIJLIQQIuQUvV5E0j1JAWkpb6SQ9lkaaZ+lcdEfL6L4n8VNdrxW3xVq1apVAZ+XLVtG586dycnJ4YorrqC8vJyXX36ZN954g6uvvhqAV155hQEDBrB+/XouueQSPv74Y/Ly8vjkk09ISEggLS2NJ554goceeohHH30Uu73hrCgulwuX68SFtLKyEjCfHu7xeJrxjE+oP05LHU80D6nH0NcW67CwohaAuHArHo8HpfwIGPXTgRh4yo6ANYKO4eZlorC8NuTPvy3WY3sk9Rj6gl2H7anHSu33tUQMjvB/Vp1qQLNC9Khovpv9XZMdr9UHFqcqLzfvosXFxQGQk5ODx+Nh/Pjx/jz9+/ene/furFu3jksuuYR169YxePDggGm/MjIyuO+++9ixYwdDhw5tcJyFCxfy2GOPNUjPzs4mPj6+qU/rrOqn5hWhTeox9LWlOjxUbAEUvtv6NXV7ILEsh9rlTwBQU9yDDdn/4VhUf/aWK4CFvUeP8cEHHwS1zE2lLdVjeyb1GPqCVYclJSVBOW4weMu8GK4TUz1dWnxpwHpDNwLGXDRWSAUWuq4zd+5cLr30UgYNGgRAQUEBdrud2NjYgLwJCQkUFBT485w6l3D95/o8p5o3b55/nmKA/Px8UlJSGDduHF26dGmqUzorj8dDVlYW11xzDTZbwykhRWiQegx9ba0ONd3g5+vNC/qUa68mIdqJmlPIFyfluWRwL4yUSVxcWMULeV9Ri41JkzKCU+Am0tbqsb2Segx9wa7D/Pz8Fj9msDi6OqjeXk14v/DTrq/+phpHV8dp112IkAosZs+ezfbt21m7dm2zH8vhcOBwnPiHrqioAMBqtbb4l8Bms8mPZxsg9Rj62kodllbWoRugKJAYG4HVokLd8YA81tpjYLORHGc2oZfXetFQcdpC/+nbbaUe2zupx9AXrDq0WkPqz99GiZsUx775+4i7Ls4/81M9rVZj/2P76XhdxyY7Xsj8y86ZM4f33nuPNWvW0LVrV396YmIibrebsrKygFaLwsJCEhMT/Xk2btwYsL/6WaPq8wghRHvhf4ZFhMMMKgDKDwdmqjDv6MWE2bBbVdxenZIqF107nP6ulxBCiNanx697UPzPYjb220iXOV0I72v+htfsriH///IxvAY9ft2jyY7X6meFMgyDOXPm8Pbbb/Ppp5/Sq1evgPXDhw/HZrORnZ3tT9u9ezcHDx4kPT0dgPT0dLZt20ZRUZE/T1ZWFtHR0aSkpLTMiQghRCtRVNHwGRYNAgvfZ0VR6OR7iF5hhcwMJYQQocSeYGfoV0MJHxDO3of3sn3qdrZP3c7eeXsJTwln6Nqh2BMaTmJ0oVp9i8Xs2bN54403ePfdd4mKivKPiYiJiSEsLIyYmBjuuusuMjMziYuLIzo6mvvvv5/09HQuueQSACZMmEBKSgrTpk3j6aefpqCggEceeYTZs2cHdHcSQoj24HCZOSNUcmzYicSTAovYXluh7JD/c5cOYeSX1ZJfVsvwHh1arJxCCCEaL6xXGKmrUvEc91D7vfn7H9YnDFtc03dDa/WBxYsvvgjA2LFjA9JfeeUV7rjjDgCee+45VFXlxhtvxOVykZGRwQsvvODPa7FYeO+997jvvvtIT08nIiKCGTNm8Pjjj7fUaQghRKtxuLQGgK4dfIGFYUD5YZwdjlJXmkSvq96A8jJ//q6xYWw8aTshhBChxxZnwzaqece0tPrAwjCMH8zjdDpZvHgxixcvPmOeHj16tJmpEoUQojEOl5p3rPyBRc0x8NYSlbwHe99eWOy1UFUAXhdYHf589dsJIYRo/db3Wg/KD+c7Vde5Xen6QNcfzngarT6wEEII0bTyTw0sys1uTynTX0O/fx7KH46Z6RX5EHeRf8B2vgQWQggRMvov639B2zl7Oi/4mBJYCCFEO3OixcI3w5NvfMWxg2PZHv4FUT0WMvyO+830uItOarGQrlBCCBEqYq+MbfFjtvpZoYQQQjSdOo9GSZU5u5O/xaJ+oHZEJ/PVagtI73JSV6hz6Z4qhBCifZLAQggh2pH61ooIu4WYMF8AUboPgO1PjwOgck9SQHpSTBiKAi6vTkmVu2ULLIQQImRIYCGEEO3IwePVAHSLC0dRfKP6jn1/+sy+dLtVJSnaGbC9EEIIcSoJLIQQoh3ZW2wGBhd1ijiR+AOBhZk/EoA9xRJYCCGEOD0JLIQQoh2pDwx6+wIFPHUBD8MLcGyP+YwLoLcvENlTXNXsZRRCCBGaJLAQQoh2pD4w8LdYlO4DDHDEBGZULOCpgcqjvvxmILJXWiyEEKLJTZ06lQ4dOvDjH/+4wbpnnnmGgQMHMmjQIF577bUglO7cSWAhhBDtyN5TWyzquzt17O3PEzUqCjr0CFjf298VSloshBCiqT344IP87W9/a5C+bds23njjDXJycvj666/5v//7P8rKylq+gOdIAgshhGgnyms9/qlme8X7WiyKd5uvHfsQMcRM6/VkL+h4ccD6+haOg8dq8Gh6yxVaCCHagbFjxxIVFdUgfefOnaSnp+N0OgkLCyM1NZVVq1YFoYTnRgILIYRoJ74vMlsbEqIdRDl9U80W7jBfEwYS3j+ciNQILBEWSEgJWJ8Y7STcbsGrG+wvke5QQoj2Y82aNUyePJnk5GQUReGdd95pkGfx4sX07NkTp9PJ6NGj2bhxY5Mce9CgQaxevZqysjJKS0tZvXo1+fn5TbLv5iBP3hZCiHYi72gFAAOSok8kFm43XxMHMXDFwBPp2wYFrFdVhf6JUWw+WEbe0QouTmh4Z00IIUJJZWUlFRUV/s8OhwOHw9EgX3V1Nampqdx5553ccMMNDdavWLGCzMxMlixZwujRo1m0aBEZGRns3r2bzp07A5CWlobX622w7ccff0xycvIZy5iSksIDDzzA1VdfTUxMDJdccgkWi+VCTrdFSIuFEEK0E3lHzAtoSn1g4ak9McYiYRBFK4pYbVnN1glbIaE+sMgD3ez6lJJsblcfoAghRChLSUkhJibGvyxcuPC0+SZOnMiTTz7J1KlTT7v+2WefZdasWcycOZOUlBSWLFlCeHg4S5cu9efJzc1l+/btDZazBRX17r33XjZv3sxnn32GzWbj4osvvrATbgESWAghRDtRHxDUBwgU7wJDh/COEJmAoRmgg6Eb0LEPWOzgqYay/eZ2SebMUfUBihBChLK8vDzKy8v9y7x58857H263m5ycHMaPH+9PU1WV8ePHs27duiYpZ1FREQC7d+9m48aNZGRkNMl+m4N0hRJCiHbAq+nsOnpKi0XBNvM1YSAoCjtv2wlA+eflYLFCp/5Q8A0c/QbiLjrRYnGkAsMwTjy5WwghQlBUVBTR0dE/nPEsSkpK0DSNhISEgPSEhAR27dp1zvsZP348W7dupbq6mq5du7Jy5UrS09MBuP766ykvLyciIoJXXnkFq7X1/vneeksmhBCiyewprsbl1Qm3W+jZ0Tcj1OFN5mvysIC8htd8KB5dhpmBRX4ODJxCv4QoVAWOVbspqKgjKSasBc9ACCHark8++eSM65qq5aMlSFcoIYRoBzYfLAUgtWssqupraagPLLqOPP1G9en5OQCE2S30TzTv7m05WNZcRRVCiJARHx+PxWKhsLAwIL2wsJDExMQglSp4JLAQQoh2YPMBM7AY1iPWTHBVQlGe+b7riNNv1MWXfmQLaN6A7XN8+xNCiPbMbrczfPhwsrOz/Wm6rpOdne3vytSeSGAhhBDtQI6vxWJY9w5mwpEtgAEx3SDqDHfV4vuCIxo8NVBkPs9ieA9z+/oWECGEaOuqqqrIzc0lNzcXgH379pGbm8vBgwcByMzM5C9/+QuvvvoqO3fu5L777qO6upqZM2cGsdTBIWMshBCijTte7WZvsflQu6H1gcX+L83XbqMa5A8fGG6+UVWzO9SebDjwFSSl+gOT7fnl1Hk0nLbWO5+6EEI0hU2bNnHVVVf5P2dmZgIwY8YMli1bxs0330xxcTHz58+noKCAtLQ0Vq1a1WBAd3sgLRZCCNHGrdtzDIC+CZHERdjNxH1rzNdeV/jzRY8xx0/0eqLXiY3r1/vyd48LJzHaiUcz2LRfWi2EEG3f2LFjMQyjwbJs2TJ/njlz5nDgwAFcLhcbNmxg9OjRwStwEElgIYQQbdza70sAuLRPvJngroHDX5vvTwosHN0chF0chiXipFaI+vX7vwRdQ1EU/37q9yuEEEKAdIUSQog276s9ZgBwWX1gcfAr0D0Q3RU6nGidGPiPgQ03TkoFRwy4ys1xGV1HcGmfjry1+bB/v0IIIQRIi4UQQrRp+0qqOXCsBquqMKpXnJn47Ufma59xcNJD7gpeLeCLqC/YccuOEztQLdB7bMB29S0W2/LLKa50NfcpCCGECBESWAghRBuWlVcAwCUXdSTKaQPDgG9XmSv7XhuQV3fpaFUaep0euJP6fN9+CEBCtJPBXWIwDPh0V+Dc7UIIIdovCSyEEKIN+ySvCIBrUnyzkxTlQdlBsDrhorEBeb+991sASrNOGZR98QRAgYJtUHYoYH9ZeRJYCCGEMIVEYLFmzRomT55McnIyiqLwzjvvBKw3DIP58+eTlJREWFgY48eP57vvvgvIc/z4cW677Taio6OJjY3lrrvuoqqqqgXPQgghWlZRRR2bDhwHYHx9YLHjbfO199VgDz/tdnrNKS0WEfHQ3fegp7x3AJgw0Nzfmu9KKK/xNGm5hRBChKaQCCyqq6tJTU1l8eLFp13/9NNP8/zzz7NkyRI2bNhAREQEGRkZ1NXV+fPcdttt7Nixg6ysLN577z3WrFnDPffc01KnIIQQLe4/3xxFN2BY91i6xIaZ3aC2v2WuHHTj+e1s0A3mq2/7fglR9E+Mwu3V+fc3R5qw1EIIIUJVSAQWEydO5Mknn2Tq1KkN1hmGwaJFi3jkkUe4/vrrGTJkCH/72984cuSIv2Vj586drFq1ir/+9a+MHj2ayy67jD/96U/84x//4MgRuSAKIdqmd3PzAZgytIuZkJ8Dx/eCNQz6TTy/naVMAcVizgxVvBtFUfjx8K4AvJlzuAlLLYQQIlSF/HSz+/bto6CggPHjx/vTYmJiGD16NOvWreOWW25h3bp1xMbGMmLECH+e8ePHo6oqGzZsOG3A4nK5cLlOzHZSWVkJgNfrxeNpmWb/+uO01PFE85B6DH2hWId5Ryv45nA5VlVhQv94PB4Plq+XogL6gMloih3Ocj4NztURi+XiCajffoi24SX0jN/zo0Gd+f2Hu9h6qIy8/FIu7hzZvCfVSKFYj6IhqcfQF+w69Hq9QTluexDygUVBgTnjyamPTU9ISPCvKygooHPnzgHrrVYrcXFx/jynWrhwIY899liD9OzsbOLj45ui6OcsKyurRY8nmofUY+gLpTr8514VUBncQWPDmmysWi0Z299EBb6su5jjH3zQYJsYYgDQE3Q+OM36TtpgxvAh+ubX+Ng9Eq8ljP4xKttLVZ55ay3X99AbbNMahVI9ijOTegx9warDkhJ5Bk9zCfnAornMmzePzMxM/+f8/HxSUlIYN24cXbp0aZEyeDwesrKyuOaaa7DZbC1yTNH0pB5DX6jV4fFqN/NyvgA0fv7/RpJ+UUfUDS9i0V0Y8X255Ka5Ac+vqLfjmh2UZZXRb2E/Ok/q3GA9xrUYf/4XtmPfc21SOfqIG7H1LOJnf89lS5mDZ++8nAhH672shFo9itOTegx9wa7D/Pz8Fj9me9F6rwDnKDExEYDCwkKSkpL86YWFhaSlpfnzFBUVBWzn9Xo5fvy4f/tTORwOHA6H/3NFRQVgtnS09JfAZrPJj2cbIPUY+kKlDl/buJcat8bA5Ggu75uAonvh678AoKTPxma3n3Y7eyc79mQ7tqiznOfIWbDqISybl2IZPYsJg5Lo2fFb9h+rYeXmo8y64qLmOq0mEyr1KM5O6jH0BasOrdaQ//O31QqJwdtn06tXLxITE8nOzvanVVRUsGHDBtLTzekR09PTKSsrIycnx5/n008/Rdd1Ro8e3eJlFkKI5lJR52HZV/sBuP/qPiiKAlteg/KDENEJhtx8xm1TXk9hTP4YOv/4NK0V9dJuBXsUFO+CvHewWlR+NrYPAC99sZc6j9aUpyOEECKEhERgUVVVRW5uLrm5uYA5YDs3N5eDBw+iKApz587lySef5N///jfbtm1j+vTpJCcnM2XKFAAGDBjAtddey6xZs9i4cSNffvklc+bM4ZZbbiE5OTl4JyaEEE1s+boDVNZ5ubhzJBNSEsFdA5//wVx5+S/AFnbGbY+8dIQvE7/k2599e+YDOGNgzP3m+0+fBM3DlKFd6BIbRnGli39uOtSEZyOEECKUhERgsWnTJoYOHcrQoUMByMzMZOjQocyfPx+AX/3qV9x///3cc889jBw5kqqqKlatWoXT6fTv4/XXX6d///6MGzeOSZMmcdlll/HSSy8F5XyEEKI5FFXWsWT1HgBmX9UHVVVg40tQeRRiusOImWfdXqvS8BR68Jb/wIwp6T+D8Hg4vgdyX8duVfnplWYXqOezv6O8VmbrEUKI9igkOpmNHTsWwzDOuF5RFB5//HEef/zxM+aJi4vjjTfeaI7iCSFEq7Dwg11UurwM6RrD5NRkqCyAtc+aK6/6NVgdZ91+zy/NoOTY+8fOfiBHFFzxS1j1EHz2FKRcz80ju7Psq/3sKa7m2Y9389j1g5rilIQQQoSQkGixEEIIcXYb9h7j7S35KAo8OWUQFgV4/7+hrhySUmHIf/3wTnyzxWrl5zBOYsRM6NgHqgrh40ewW1Ue9wUTy9cfYHt++YWfjBBCiJAkgYUQQoS4yjoPv3rrGwB+Mqo7Q7rGwo63Ydd7oFrh+hdAtTTtQa0OuH4x4Bsc/n02l/aJ50dDktAN+MXKrTKQWwgh2hkJLIQQIoQZhsFv3t7OgWM1dIkN41cZ/aF0P7zvew7P5f8Nic3ULan7JTD6XvP9u7OhspD5k1OIj7Szq6CS372/s3mOK4QQolWSwEIIIULY3zce4t9bj2BRFZ6/NY0YqwdW3A61pZA8zAwsmtO4+dCpvzlAfOUddA638D//lQaYXaL+s/VI8x5fCCFEqyGBhRBChKjPvy3mt+9uByDzmr4M7xZrthwUbDNnbbp5+Q8O2D4dW8J5PLDKHgE3vw6OaDj4FXzwC668OJ57fbNE/ffKrWzaf/y8yyCEECL0SGAhhBAhaOuhMn72Wg6abnDD0C787MqLzO5PO/5ljqu4aRnEdD2vfcbfEA9AzwU9z68w8X3ghpcABXKWwSeP8quM/owfkIDbq3P33zbxbWHl+e1TCCHaiUOHDjF27FhSUlIYMmQIK1euDFi/b98+rrrqKlJSUhg8eDDV1dVBKukPk8BCCCFCzKb9x7n9rxuodmtc2qcjv79hEMqqhyHnFUAx/8jvdfl579cSYcESY0G1X8Clod9EmLzIfP/lIiyrf8efbkkjrVssZTUebnlpPTuOyExRQghxKqvVyqJFi8jLy+Pjjz9m7ty5AcHDHXfcweOPP05eXh6ff/45Dsf5t0S3FAkshBAihHy2q4jpSzdS6fIyqlccf751MPZ374GNfzYzTP5fGHTjBe17wN8GcHnZ5STdlXRhhRt+B0z4nfl+zR8J+/i/eWX6UIZ0jeF4tZtbX1rP+r0/8IwMIYRoZ5KSkkhLSwMgMTGR+Ph4jh83u5Du2LEDm83G5ZebN4vi4uKwWlvvY+gksBBCiBBgGAYvrdnDna9+TY1b4/KL43n1x92I/MdU2P6W2f3phr/A8BkXfIz8xfms772evY/svfCCjpkD1z1LfbeoDm//hNd/0ocRPTpQUefl9r9u4PUNB8760FMhhGhN1qxZw+TJk0lOTkZRFN55550GeRYvXkzPnj1xOp2MHj2ajRs3XtCxcnJy0DSNbt26AfDdd98RGRnJ5MmTGTZsGE899VRjTqXZSWAhhBCtXFFlHXe9uomnPtiFYcCto7qx9LJKwpZeBYc2gCMGfvLPc3sI3ll4jnuo21uHp9jTuAKPvMscOG4Lh72fEbVsHK9f42VyajJe3Zwed87ft1BW427ccYQQohEqKyupqKjwLy6X67T5qqurSU1NZfHixaddv2LFCjIzM1mwYAGbN28mNTWVjIwMioqK/HnS0tIYNGhQg+XIkRMz5x0/fpzp06fz0ksv+dO8Xi9ffPEFL7zwAuvWrSMrK4usrKwm+hdoehJYCCFEK2UYBh9uO0rGc2v4dFcRdovKUxO78ZRtKba/3wjVRZAwCO75DPqMa/TxDvzuAAAl75Q0el8MmAx3Z0Ncb6g4jOO1yTwf9Rq/Gd8Vi6rw/jdHmfDcGj7bXfTD+xJCiGaQkpJCTEyMf1m4cOFp802cOJEnn3ySqVOnnnb9s88+y6xZs5g5cyYpKSksWbKE8PBwli5d6s+Tm5vL9u3bGyzJyckAuFwupkyZwsMPP8yYMWP823Xp0oURI0bQrVs3HA4HkyZNIjc3t+n+EZqYBBZCCNEKfVtYyfSlG7nv9c2U1ngYmBjBmnEH+MmGqSg5r5iZRt0Ld2VBx95NckzDZXZP8hQ1ssWiXkIK3LPaHHsBKJv+yqxtt/FZRjF94sMoqnQx85WvmfW3Tewrab2znAgh2qa8vDzKy8v9y7x58857H263m5ycHMaPH+9PU1WV8ePHs27dunPah2EY3HHHHVx99dVMmzYtYN3IkSMpKiqitLQUXddZs2YNAwYMOO9ytpTWO/pDCCHaoUPHa3jx8z38Y+NBdAMcFvj9oHyuL/sb6pptZqaOF8N1/wMXXRncwp4LZ7Q5oHzgVPj3/VB2kO6fPcDHiWm8kTyTBds7kZVXyOrdRdx+SQ9+emVvEqKdwS61EKIdiIqKIjo6ulH7KCkpQdM0EhISAtITEhLYtWvXOe3jyy+/ZMWKFQwZMsQ/fmP58uUMHjwYq9XKU089xRVXXIFhGEyYMIEf/ehHjSpzc5LAQgghWoFvCyv58+d7eSc3H003sOHl1913M137F/bdO81MjhgY+zCMmgWW83iIXWtw0Vj42XpY/wKs/V/UglxuL3iQH3dJ5WV9Ms/m9+OVL/fz+vqD/HhEV2ZdfhG94iOCXWohhGh2l112Gbqun3H9xIkTmThxYguW6MJJYCGEEEHi8mp8tKOQ19YfYOM+c2rBrkoxv+i0nkmeLOxFvrEO9igYfQ9cMhsiOgaxxI1kj4ArfgnDZ8KaP0LOMpzFW5nNVu6KS+Y/ylj+9/go3tig88aGg4zp3ZFbRnUnY2ACDqsl2KUXQogG4uPjsVgsFBYWBqQXFhaSmJgYpFIFjwQWQgjRgjyazld7jvGfrUf4aEcBlXVe4ilnpnU9t0d8TW9XHtQ/pDoy0ZxhadQsCOvQYmW0xjbzpSEiHib+wQwyNv4FNr6Es+YIN/EGNzneIM85lGWVI8naM4wH9hyjQ7iN64YkMWlQEqN6xWG1yPBAIUTrYLfbGT58ONnZ2UyZMgUAXdfJzs5mzpw5wS1cEEhgIYQQzaysxs2a70pYvbuI1buLKa2uI0U5yDQ1l2vCtpNq7EJFBxeAAr2uMAOKfpNatMtTwrQECpcX0v033VvmgBHxcNU8uOznsOs92LIc9n5OSt0WnrZtQbep5CoDeM81jM83DOG19cnERTiYkJLAlX07MaZ3PDHhIdYlTAgRcqqqqvj+++/9n/ft20dubi5xcXF0796dzMxMZsyYwYgRIxg1ahSLFi2iurqamTNnBrHUwSGBhRBCNLHyWg85B46zcV8pG/YdY+uhUnpylOHqt/xa3cVY5zfEU2Zmrn9OXJcR5hOzB06F6At88nUjKTbFXFSlZQ9sc8LgH5tL2UHYugJ2votasI1hxg6G2XYAUEQH1roH8tXmgTz5dQpHlXgGd+3A5X3iGdOnI6ldY4lwyGVNCNG0Nm3axFVXXeX/nJmZCcCMGTNYtmwZN998M8XFxcyfP5+CggLS0tJYtWpVgwHd7YH8Aoeww6U1/GXNXmZf1YfOMouKEEFR59H4trCSHUcq2J5fTs6BUkoKDzNAOcBAZT8/U79jmP1bOiqVgRvaIsxZnfqMN5cOPYJzAifp/3J/+r/cP7iFiO0OV/7SXEoPwK73YfcHcGgjnbVSbrCs5QbLWrBBoRFLbkEfth7pzZ8+70Oe0YvkxESGdY9laPcOpHaNoVd8hHSdEiJIDh6r4eW1e5lz9cV0inIEuzgXbOzYsRiGcdY8c+bMaZddn04lgUUIm7L4K0qqXOSX1fHXGSOCXRwh2jTdgIPHazhY6mJPcRW7CirZk1+IXvwdPYwj9FUPMU45wP3qARIdpQ13YHVC8jDoPhp6Xw3dLgGrveVP5CwOLTpEwdICEqYn0P0XLdQd6mw69ID0n5mLp9Z8yvi+NbD3cziyhQTKyLBsIsOyyb/J4ePx7Crpxu6cbvxJ784etQfWTn3ok9SRfgkRlJUpDKuoo2ucFUVp4ZYZIdqZB1dsYcvBMjbuL+XDBy8PdnFEC5DAIkR5NZ3jVbWkKnv55qBUoxBNwe3VKSiv43BpDYdLazlUWsPRgkKqi/ailx7gm6+zuEg5ygDlKNepR0lSjsNpuvgbKCgde5tPxe46wgwiklJbXSBxKvdRN9XbqnEfdQe7KA3Zwswpay8aC+MAdzUc3Qr5OXB4k/lafoiuSgldLSWMZ4t/U+24wpFj8ezblsgBI4Flz37EETUZT2xPIjr3pEunjvSMj6BXfARdYsPoHOWQVg4hmsD2gyUMVg6y7WgvDMOQYL4dkL9IQ9TWw2X82vo6d1s/5P9sPwUygl0kIVq1Oo9GUYWLoso6iipdFJXXUlFaTO3xfNxlR9ArC3HUFZNECV2UEgYrJVyrlBCt1Jo7OMMYYS0sDjW+L0qnfpA4GBKHoCQMBEdky51cE8lfnA9A8VvF9PmfPkEuzQ+wR0CPMeZSr+Y4FO2Eojwo3IFRmIdRlIfFXUk3pZhuFAPbTuSvNJfS7yMpMOI4YnRktxFHAfHUhCWiRSZj69CFiLgk4jvGkxgTRqcoB52iHMRH2mUKXCF+wNzwD5mt/53/8fyYPcVX0qdzVLCLJJqZBBYhal3efuZYPwTgptoVGMbv5U6AaFdq3RqlNW5zqfZQWl1HTfkx6ipK8FSVoFUfQ6s6BrXHsbrKiPSW0Ukpp5NSSqpSTifKsCta4E7P8IvotnegXI0hrscgLJ36QvzF5tOvO/bGEh7X/CfbQvRq8wFNrgOuIJfkAoXHQc9LzQVQAMUwoKoIju/FW/wte7/O4qIOClrJHixl+7F6q+mgVNFBqWIAB0/sywOU+pa9UGfYKCGGEiOanUYMx4wYKq2xuBzxeMPjsUZ0xBYZR1h0PM7oeCKjOxAT4aBDuJ3YcBsdwu04bRKIiPbDo+nM1v8OwH/b3uSVXb+iT+d+QS6VaG4SWISoqN1v+t+7DCtlNR46RLTubhZC1NN0gyqXlyqXl8o6D1V1Xqqrq6mpKsVTXYa7phytpgK9thzDVQGuKlR3BRZ3FVZPJVZvFRFGDTFKNbFUkaJUEkM1FuUsg+vO8GtXZ43BHdYJJTIBW2wijrjuKLHdzEHEsd0hpiuKYuerDz5g0qRJWGwyvWlIURSISoCoBIzkEezMj6XXpEk46uuxrhzK86EiH8oPo5cfxnXsEJ7SQ6iV+dhri7FrNTgVD10poatSErh/l285ZViNZihUEEGZEUEhkew2IqlUIqmzRuG1RaPbo8ARheqMRHFEo4ZFYw2LxhYegz08GmdkLBHhEUSG2Yhy2oh0WIl0WLG09IxdQlygI6U1dDDC/K2+St47cMVDwS2UaHYSWIQgXTfoW7rGvB0HdFeL2VZQSIfe3YJbMNEmaLqB26vj8mrmq0fD5XbhrqvF5arFVVeDu64Wt6sGb101Wl01uqsa3VOD4a42+757alG95mLx1mLVarHqtdj1OnMxXITjIkxx0QkXvajFoXjPvZBn6f5ep4ZTZ4vBY49Fd8ahRsRhi+qIM7ozjtgklKhEiDT/0CSiE06rgx+cU83jOfeyidDijDGXhBTA/K8V5lv83NVQXQxVxVBdjFFVRF3ZUVzlBXgriqCqGNVVhtVdjsNTgcOow6IYdMBsCYGTnsircyIYOWWisFN5DZUqwqgijKNGGNU4cSsO3GoYmsWJR3WiWZzo1jB0axiGNQxsYRi2cFS7b3FEYLGHY3NGYHVGYHdGYA+LxOEMwxkWhsNmxW5VcVgtOKwqDqsqrd+iSRQc3kOP+q6kQPeizwAJLNo6CSxC0J4jRQxjZ0Baxf5ckMAiJBiGgUcz8Gg6Xs3A7dXwet143W68XhdejxvN48brcaF5PegeN5rXhe71oHnd6JqZZmhuNK8XNBeG14uuuUHzYmhmXkPzgNeForlQNReK5kbVXVg0N6ruxqq7sRgurLoHm+E2FzzYDQ8OxYMdD1F4iMeDeraWgPOl4A+KT6dWCcdlicBtjcBrjUSzR510dzcGW0QMjohYwiJjcER1RAnvaHaBCYuDsA44rfYfDhSEOB/2CHPp0BMw//s2CD5O5qmDujKoLYPaUoza49RVHKOu8hieymN4asrR6iow6ipQ3dVYPFVYvdXYtSqzdcSoRcXAqujEUk0s1YHfGQM4jzj8bNyGBRd23FipwYbLsOFRbHgwX72KHa9qR1NsaKoDTbWhW+zoqgPDYke3OMDiMCcmsDhQrHZUiw3FagPLifeqxWG+Wm2oVjsWq918tdmxWu2oNjtWmx2LzWG+Wu3Y7Q6sVis2q4pNVbFZFGmxCSG1B3MDPo/QtlJYVkVCbOiNPxPnTgKLELR/w3+4WPFSZEngWPhFDKhcR+WOVTBucouXxTAMdAN0w0DTDQzDfJS9pmsYmoaua+Z7XcPQdTTNfK9ruvlqmHkM3fys6RpoOoZh5tENHUP3Ymg6hqGb+QwvmqaD5kXXvRiauei6Zr7XNd82XtDNdEX3Yuhe0DXQvRi6DroXDPMzuo5imPkVXQfDzKsYvkXXUPC9+tJU46T36KgnpaloqIaZZsVDquGlaHMmVrxY0bChYUUjHC8xp/bzDxbllNcz8GD1/8HhVp14fHdPvZYwdKsT3RqOYQsHWzjYw1HtEaj2cCzOSCyOcGzOSBzhUYRFRGJ3Rpmz/TijwREF9kjCVMuZ/2ATLUJ1yoxIjWJzgi0RohKBcwhETqXr4KkGVxW4KsFdibumHFd1Ba6aKlx1VXhqq9HdNf6lvqVQ8da3FtZh0czWQpvuwqbXYTfqcBguLOj+Q9kVDTsn7io3+P4bQBB/onRDwYMFD1ZcWPD63g/DQv6Wh8xfUsWCjoquWNCxYCgqmmJFVywYqBiKBV2xYii+96oVQzHzoVgxVCsoKrpqBcUCqgUUC4ZqQ1FVc71vnaJawGJF8aXVf1ZVq/9VsVhAUVFUC4qiolgsqIoFVF+aakFVLSiqiqJYUC0qqFZUVTW3V1VUiwVFsWCxmPlU1Wqm+dZZVCuoKhaLbzurFYtvv6oKqqJgURTUIAVihmHg+fYTALbFTaBH6TqiqSRn/UckXHtjUMokWka7CywWL17MH//4RwoKCkhNTeVPf/oTo0aNCnaxzonH6+Xr7LcY9s1joEBR8jhieo+G1eu49vhrbH3yG3SLAwUd1dDB0FEwUAwdBd33aqCioRiGmYaB6luv+vKq9emc9N44Oc3wp1vqt0PHhn72Pu7t2Xn+tntRMUMS86JpXjwDF12xoStWdNX3XjUvkIZqA4sNVBuG1QEWO1idKFYnis2BYnWg2sJQbQ5UuxOrzYnFHobV4cRqD8NqD8PuCMPm+4zVad6NtDrB4jDvHDbPv5IIsuT7kjny4hG6PSStn0Glqmag7YgCzKew231Lo+fUMQzQ3OB1+V8Nbx1ed53ZvdFVh8dtfva6a9HcLjRPHZq7DsNbh+52oXtdGN5a8LrBW+fbjxtFq0PRvGB4UHUvqu5BMbyouheL4UE1vKiGF6vhxVL/Hg2r4cGChg0vKoHXEFUxcODFcbYmGuOU13ZOMxQ0VDzmLS7qr/AnXlV0pf7KrZ64iivqSVd5xReY4QvOzL8ADBQzQAt4H/gKKlZvFddoeQDEp/+EQ1/bGVj0Hv3X/ZINNpVB6dcG9d9INJ92FVisWLGCzMxMlixZwujRo1m0aBEZGRns3r2bzp07B7t4AcpKCsnLXg4Hd7Hx0HtEVO6lm+s7xlAOChyw92HAT36PxRnNzryPGVD0Pqneb5qsebyBZrjpoRlKgx83XygU8GNnKCf90J30A1d/d0pXVN8PoMV8rf980h0q/6Kar+bdKPMuleG7E2X47iQZihV871HN9/47U75XxWJFUSwn3aEy01VL/V0rCxarzfysWPhm+w5GjByNIywci8WG1W7HanNitdmwWO0oVjucFBBYVRUrELrPKRUhqf57Ln+gtV2KAlaHudQnYc6m3CpuGOgaaB7QPaB50L1uPB6Xr3uoubjqavh643pSBw8Cw0DXPP5Wa13zYvg/+1q0dS+GdqIlO7D12guaBr6WbsU4sQ5dA8Ns8a5vucbQUAzvmVuvDa/vxp15Ay/wRp5+4kbeSTf6zJt6vry+G3Yn39wzW8SNc+6SalEMLGicd1PTqbtvgt+BHd1uZeDIqcT3v4z8Rbl00Q6T9MUdlK6JorPlYjYefh8lOhnVEcHgifcQERXT+IOKoGpXgcWzzz7LrFmzmDlzJgBLlizh/fffZ+nSpTz88MMBeV0uFy7XiSkXKyvNUXZerxdPCwzkLC3OZ8zOJ8wP1SfSqwjj26Tr6XvTY+jWcHSvlz53L+NQ3hqK9ucBKoqq+JtsFUXx/UFsNrmaTa+q7w9n831906yiqqiKiqJaUVTFn3ai2VZBVSz+9arvD2zVn27xNeVazKbf+uZbtb4MZvMwigoo5gXOfIfFt7RFHo8H46iX2N4jsZ0yo1CDrtIG5kVOayXdowSA/zvfEt/9YOr5TE96/LEHiqq0yXNtL/UY+nzXC9UJNlDDzEH19b+eTo8H47sSOg24vMFvaltU3xtNMwwwdLMLr6H7giEdTfOi+br3apru616sofkCJs2XT9e86Iav67Gmofu6IOsndVeu76KM773hO6ahm70gjID3BoahgW6+GobhC8bMiCSh9xD69ks3v2/OWKJ+uootK39L36IP6aBUkq5vhuLNUGyeZ9HlN2N3hrfIv6nX21x3YYViGEa7uDfldrsJDw/nzTffZMqUKf70GTNmUFZWxrvvvhuQ/9FHH+Wxxx5rsJ+//vWvxMfHN3dx0Vw1dN31Z2osUdRZoqhxdEaP6oo1rieKpe3/kAohhBCi7TF0L95j+7BV7CfMVUyYVoHNcHE05T5Ua8tMm19SUsLdd9/NoUOH6Nq1a4scs71oNy0WJSUlaJpGQkJCQHpCQgK7du1qkH/evHlkZmb6P+fn55OSksK4cePo0qVLs5cXwOO5nqysLK655pp2cVemrfJ4PFKPIU7qsG2QemwbpB5DX30dXhakOszPz2/xY7YX7SawOF8OhwOH40Qf1IqKCgBz6rsW/hLYbDb58WwDpB5Dn9Rh2yD12DZIPYa+YNWh1Sp//jaXdjOnYHx8PBaLhcLCwoD0wsJCEhMTg1QqIYQQQggh2oZ2E1jY7XaGDx9Odna2P03XdbKzs0lPTw9iyYQQQgghhAh97aotKDMzkxkzZjBixAhGjRrFokWLqK6u9s8SJYQQQgghhLgw7SqwuPnmmykuLmb+/PkUFBSQlpbGqlWrGgzoFkIIIYQQQpyfdhVYAMyZM4c5c+YEuxhCCCGEEEK0Ke1mjIUQQgghhBCi+UhgIYQQQgghhGg0CSyEEEIIIYQQjSaBhRBCCCGEEKLR2t3g7Qul6zoAR48ebbFjer1eSkpKyM/Pl6dEhjCpx9Anddg2SD22DVKPoS/YdVj/t1z933ai6cg38hzVP7F71KhRQS6JEEIIIYRorMLCQrp37x7sYrQpimEYRrALEQq8Xi9btmwhISEBVW2ZHmSVlZWkpKSQl5dHVFRUixxTND2px9Anddg2SD22DVKPoS/YdajrOoWFhQwdOlRavZqYBBatWEVFBTExMZSXlxMdHR3s4ogLJPUY+qQO2wapx7ZB6jH0SR22XTJ4WwghhBBCCNFoElgIIYQQQgghGk0Ci1bM4XCwYMECHA5HsIsiGkHqMfRJHbYNUo9tg9Rj6JM6bLtkjIUQQgghhBCi0aTFQgghhBBCCNFoElgIIYQQQgghGk0CCyGEEEIIIUSjSWAhhBBCCCGEaDQJLIJs8eLF9OzZE6fTyejRo9m4ceNZ869cuZL+/fvjdDoZPHgwH3zwQQuVVJzN+dTjsmXLUBQlYHE6nS1YWnGqNWvWMHnyZJKTk1EUhXfeeecHt1m9ejXDhg3D4XDQp08fli1b1uzlFGd3vvW4evXqBt9FRVEoKChomQKLBhYuXMjIkSOJioqic+fOTJkyhd27d//gdnJtbD0upA7luth2SGARRCtWrCAzM5MFCxawefNmUlNTycjIoKio6LT5v/rqK2699VbuuusutmzZwpQpU5gyZQrbt29v4ZKLk51vPQJER0dz9OhR/3LgwIEWLLE4VXV1NampqSxevPic8u/bt4/rrruOq666itzcXObOncvdd9/NRx991MwlFWdzvvVYb/fu3QHfx86dOzdTCcUP+fzzz5k9ezbr168nKysLj8fDhAkTqK6uPuM2cm1sXS6kDkGui22GIYJm1KhRxuzZs/2fNU0zkpOTjYULF542/3/9138Z1113XUDa6NGjjXvvvbdZyynO7nzr8ZVXXjFiYmJaqHTifAHG22+/fdY8v/rVr4yBAwcGpN18881GRkZGM5ZMnI9zqcfPPvvMAIzS0tIWKZM4f0VFRQZgfP7552fMI9fG1u1c6lCui22HtFgEidvtJicnh/Hjx/vTVFVl/PjxrFu37rTbrFu3LiA/QEZGxhnzi+Z3IfUIUFVVRY8ePejWrRvXX389O3bsaIniiiYi38W2JS0tjaSkJK655hq+/PLLYBdHnKS8vByAuLi4M+aR72Prdi51CHJdbCsksAiSkpISNE0jISEhID0hIeGM/XsLCgrOK79ofhdSj/369WPp0qW8++67vPbaa+i6zpgxYzh8+HBLFFk0gTN9FysqKqitrQ1SqcT5SkpKYsmSJbz11lu89dZbdOvWjbFjx7J58+ZgF00Auq4zd+5cLr30UgYNGnTGfHJtbL3OtQ7luth2WINdACHam/T0dNLT0/2fx4wZw4ABA/jzn//ME088EcSSCdG+9OvXj379+vk/jxkzhj179vDcc8+xfPnyIJZMAMyePZvt27ezdu3aYBdFXKBzrUO5LrYd0mIRJPHx8VgsFgoLCwPSCwsLSUxMPO02iYmJ55VfNL8LqcdT2Ww2hg4dyvfff98cRRTN4EzfxejoaMLCwoJUKtEURo0aJd/FVmDOnDm89957fPbZZ3Tt2vWseeXa2DqdTx2eSq6LoUsCiyCx2+0MHz6c7Oxsf5qu62RnZwdE7SdLT08PyA+QlZV1xvyi+V1IPZ5K0zS2bdtGUlJScxVTNDH5LrZdubm58l0MIsMwmDNnDm+//TaffvopvXr1+sFt5PvYulxIHZ5KroshLNijx9uzf/zjH4bD4TCWLVtm5OXlGffcc48RGxtrFBQUGIZhGNOmTTMefvhhf/4vv/zSsFqtxjPPPGPs3LnTWLBggWGz2Yxt27YF6xSEcf71+NhjjxkfffSRsWfPHiMnJ8e45ZZbDKfTaezYsSNYp9DuVVZWGlu2bDG2bNliAMazzz5rbNmyxThw4IBhGIbx8MMPG9OmTfPn37t3rxEeHm788pe/NHbu3GksXrzYsFgsxqpVq4J1CsI4/3p87rnnjHfeecf47rvvjG3bthkPPvigoaqq8cknnwTrFNq9++67z4iJiTFWr15tHD161L/U1NT488i1sXW7kDqU62LbIYFFkP3pT38yunfvbtjtdmPUqFHG+vXr/euuvPJKY8aMGQH5//nPfxp9+/Y17Ha7MXDgQOP9999v4RKL0zmfepw7d64/b0JCgjFp0iRj8+bNQSi1qFc/7eipS329zZgxw7jyyisbbJOWlmbY7XbjoosuMl555ZUWL7cIdL71+Ic//MHo3bu34XQ6jbi4OGPs2LHGp59+GpzCC8MwjNPWHxDw/ZJrY+t2IXUo18W2QzEMw2i59hEhhBBCCCFEWyRjLIQQQgghhBCNJoGFEEIIIYQQotEksBBCCCGEEEI0mgQWQgghhBBCiEaTwEIIIYQQQgjRaBJYCCGEEEIIIRpNAgshhBBCCCFEo0lgIYQQQgghhGg0CSyEEKKdefnll5kwYUKzH2fVqlWkpaWh63qzH0sIIUTwSWAhhBDtSF1dHb/97W9ZsGBBsx/r2muvxWaz8frrrzf7sYQQQgSfBBZCCNGOvPnmm0RHR3PppZe2yPHuuOMOnn/++RY5lhBCiOCSwEIIIUJQcXExiYmJPPXUU/60r776CrvdTnZ29hm3+8c//sHkyZMD0saOHcvcuXMD0qZMmcIdd9zh/9yzZ0+efPJJpk+fTmRkJD169ODf//43xcXFXH/99URGRjJkyBA2bdoUsJ/JkyezadMm9uzZc+EnK4QQIiRIYCGEECGoU6dOLF26lEcffZRNmzZRWVnJtGnTmDNnDuPGjTvjdmvXrmXEiBEXdMznnnuOSy+9lC1btnDdddcxbdo0pk+fzu23387mzZvp3bs306dPxzAM/zbdu3cnISGBL7744oKOKYQQInRIYCGEECFq0qRJzJo1i9tuu42f/vSnREREsHDhwjPmLysro7y8nOTk5As+3r333svFF1/M/PnzqaioYOTIkdx000307duXhx56iJ07d1JYWBiwXXJyMgcOHLigYwohhAgdElgIIUQIe+aZZ/B6vaxcuZLXX38dh8Nxxry1tbUAOJ3OCzrWkCFD/O8TEhIAGDx4cIO0oqKigO3CwsKoqam5oGMKIYQIHRJYCCFECNuzZw9HjhxB13X2799/1rwdO3ZEURRKS0t/cL+apjVIs9ls/veKopwx7dTpZY8fP06nTp1+8JhCCCFCmwQWQggRotxuN7fffjs333wzTzzxBHfffXeD1oKT2e12UlJSyMvLa7Du1O5Le/fubZIy1tXVsWfPHoYOHdok+xNCCNF6SWAhhBAh6je/+Q3l5eU8//zzPPTQQ/Tt25c777zzrNtkZGSwdu3aBunvvvsu//rXv9izZw+/+93vyMvL48CBA+Tn5zeqjOvXr8fhcJCent6o/QghhGj9JLAQQogQtHr1ahYtWsTy5cuJjo5GVVWWL1/OF198wYsvvnjG7e666y4++OADysvLA9Kvu+46nn76aVJSUlizZg0vvPACGzduZPny5Y0q59///nduu+02wsPDG7UfIYQQrZ9inDwvoBBCiDbvpptuYtiwYcybNw8wn2ORlpbGokWLmvQ4JSUl9OvXj02bNtGrV68m3bcQQojWR1oshBCinfnjH/9IZGRksx9n//79vPDCCxJUCCFEOyEtFkII0c41V4uFEEKI9kUCCyGEEEIIIUSjSVcoIYQQQgghRKNJYCGEEEIIIYRoNAkshBBCCCGEEI0mgYUQQgghhBCi0SSwEEIIIYQQQjSaBBZCCCGEEEKIRpPAQgghhBBCCNFoElgIIYQQQgghGu3/A7UYccNqtTIgAAAAAElFTkSuQmCC\n"
                },
                "metadata": {}
              }
            ]
          }
        },
        "e195bed3eb2e4a07b812fbe61fc74554": {
          "model_module": "@jupyter-widgets/base",
          "model_name": "LayoutModel",
          "model_module_version": "1.2.0",
          "state": {
            "_model_module": "@jupyter-widgets/base",
            "_model_module_version": "1.2.0",
            "_model_name": "LayoutModel",
            "_view_count": null,
            "_view_module": "@jupyter-widgets/base",
            "_view_module_version": "1.2.0",
            "_view_name": "LayoutView",
            "align_content": null,
            "align_items": null,
            "align_self": null,
            "border": null,
            "bottom": null,
            "display": null,
            "flex": null,
            "flex_flow": null,
            "grid_area": null,
            "grid_auto_columns": null,
            "grid_auto_flow": null,
            "grid_auto_rows": null,
            "grid_column": null,
            "grid_gap": null,
            "grid_row": null,
            "grid_template_areas": null,
            "grid_template_columns": null,
            "grid_template_rows": null,
            "height": null,
            "justify_content": null,
            "justify_items": null,
            "left": null,
            "margin": null,
            "max_height": null,
            "max_width": null,
            "min_height": null,
            "min_width": null,
            "object_fit": null,
            "object_position": null,
            "order": null,
            "overflow": null,
            "overflow_x": null,
            "overflow_y": null,
            "padding": null,
            "right": null,
            "top": null,
            "visibility": null,
            "width": null
          }
        },
        "2ab764ce5223458d9d5df5202d23fe6d": {
          "model_module": "@jupyter-widgets/base",
          "model_name": "LayoutModel",
          "model_module_version": "1.2.0",
          "state": {
            "_model_module": "@jupyter-widgets/base",
            "_model_module_version": "1.2.0",
            "_model_name": "LayoutModel",
            "_view_count": null,
            "_view_module": "@jupyter-widgets/base",
            "_view_module_version": "1.2.0",
            "_view_name": "LayoutView",
            "align_content": null,
            "align_items": null,
            "align_self": null,
            "border": null,
            "bottom": null,
            "display": null,
            "flex": null,
            "flex_flow": null,
            "grid_area": null,
            "grid_auto_columns": null,
            "grid_auto_flow": null,
            "grid_auto_rows": null,
            "grid_column": null,
            "grid_gap": null,
            "grid_row": null,
            "grid_template_areas": null,
            "grid_template_columns": null,
            "grid_template_rows": null,
            "height": null,
            "justify_content": null,
            "justify_items": null,
            "left": null,
            "margin": null,
            "max_height": null,
            "max_width": null,
            "min_height": null,
            "min_width": null,
            "object_fit": null,
            "object_position": null,
            "order": null,
            "overflow": null,
            "overflow_x": null,
            "overflow_y": null,
            "padding": null,
            "right": null,
            "top": null,
            "visibility": null,
            "width": null
          }
        },
        "220b81db678b4226aa543dd81cdb827e": {
          "model_module": "@jupyter-widgets/controls",
          "model_name": "SliderStyleModel",
          "model_module_version": "1.5.0",
          "state": {
            "_model_module": "@jupyter-widgets/controls",
            "_model_module_version": "1.5.0",
            "_model_name": "SliderStyleModel",
            "_view_count": null,
            "_view_module": "@jupyter-widgets/base",
            "_view_module_version": "1.2.0",
            "_view_name": "StyleView",
            "description_width": "",
            "handle_color": null
          }
        },
        "27aae5128f7f4d7eabfaebfc4c289914": {
          "model_module": "@jupyter-widgets/base",
          "model_name": "LayoutModel",
          "model_module_version": "1.2.0",
          "state": {
            "_model_module": "@jupyter-widgets/base",
            "_model_module_version": "1.2.0",
            "_model_name": "LayoutModel",
            "_view_count": null,
            "_view_module": "@jupyter-widgets/base",
            "_view_module_version": "1.2.0",
            "_view_name": "LayoutView",
            "align_content": null,
            "align_items": null,
            "align_self": null,
            "border": null,
            "bottom": null,
            "display": null,
            "flex": null,
            "flex_flow": null,
            "grid_area": null,
            "grid_auto_columns": null,
            "grid_auto_flow": null,
            "grid_auto_rows": null,
            "grid_column": null,
            "grid_gap": null,
            "grid_row": null,
            "grid_template_areas": null,
            "grid_template_columns": null,
            "grid_template_rows": null,
            "height": null,
            "justify_content": null,
            "justify_items": null,
            "left": null,
            "margin": null,
            "max_height": null,
            "max_width": null,
            "min_height": null,
            "min_width": null,
            "object_fit": null,
            "object_position": null,
            "order": null,
            "overflow": null,
            "overflow_x": null,
            "overflow_y": null,
            "padding": null,
            "right": null,
            "top": null,
            "visibility": null,
            "width": null
          }
        },
        "4525eb268c9540c79fef52dd2301832e": {
          "model_module": "@jupyter-widgets/controls",
          "model_name": "SliderStyleModel",
          "model_module_version": "1.5.0",
          "state": {
            "_model_module": "@jupyter-widgets/controls",
            "_model_module_version": "1.5.0",
            "_model_name": "SliderStyleModel",
            "_view_count": null,
            "_view_module": "@jupyter-widgets/base",
            "_view_module_version": "1.2.0",
            "_view_name": "StyleView",
            "description_width": "",
            "handle_color": null
          }
        },
        "cf81a7ad83d440a48041365129c52c27": {
          "model_module": "@jupyter-widgets/base",
          "model_name": "LayoutModel",
          "model_module_version": "1.2.0",
          "state": {
            "_model_module": "@jupyter-widgets/base",
            "_model_module_version": "1.2.0",
            "_model_name": "LayoutModel",
            "_view_count": null,
            "_view_module": "@jupyter-widgets/base",
            "_view_module_version": "1.2.0",
            "_view_name": "LayoutView",
            "align_content": null,
            "align_items": null,
            "align_self": null,
            "border": null,
            "bottom": null,
            "display": null,
            "flex": null,
            "flex_flow": null,
            "grid_area": null,
            "grid_auto_columns": null,
            "grid_auto_flow": null,
            "grid_auto_rows": null,
            "grid_column": null,
            "grid_gap": null,
            "grid_row": null,
            "grid_template_areas": null,
            "grid_template_columns": null,
            "grid_template_rows": null,
            "height": null,
            "justify_content": null,
            "justify_items": null,
            "left": null,
            "margin": null,
            "max_height": null,
            "max_width": null,
            "min_height": null,
            "min_width": null,
            "object_fit": null,
            "object_position": null,
            "order": null,
            "overflow": null,
            "overflow_x": null,
            "overflow_y": null,
            "padding": null,
            "right": null,
            "top": null,
            "visibility": null,
            "width": null
          }
        },
        "22bdb68002d5458cb2cf690f3c48218a": {
          "model_module": "@jupyter-widgets/controls",
          "model_name": "SliderStyleModel",
          "model_module_version": "1.5.0",
          "state": {
            "_model_module": "@jupyter-widgets/controls",
            "_model_module_version": "1.5.0",
            "_model_name": "SliderStyleModel",
            "_view_count": null,
            "_view_module": "@jupyter-widgets/base",
            "_view_module_version": "1.2.0",
            "_view_name": "StyleView",
            "description_width": "",
            "handle_color": null
          }
        },
        "ccd7f1eacfd74e559acfdaf03145834e": {
          "model_module": "@jupyter-widgets/base",
          "model_name": "LayoutModel",
          "model_module_version": "1.2.0",
          "state": {
            "_model_module": "@jupyter-widgets/base",
            "_model_module_version": "1.2.0",
            "_model_name": "LayoutModel",
            "_view_count": null,
            "_view_module": "@jupyter-widgets/base",
            "_view_module_version": "1.2.0",
            "_view_name": "LayoutView",
            "align_content": null,
            "align_items": null,
            "align_self": null,
            "border": null,
            "bottom": null,
            "display": null,
            "flex": null,
            "flex_flow": null,
            "grid_area": null,
            "grid_auto_columns": null,
            "grid_auto_flow": null,
            "grid_auto_rows": null,
            "grid_column": null,
            "grid_gap": null,
            "grid_row": null,
            "grid_template_areas": null,
            "grid_template_columns": null,
            "grid_template_rows": null,
            "height": null,
            "justify_content": null,
            "justify_items": null,
            "left": null,
            "margin": null,
            "max_height": null,
            "max_width": null,
            "min_height": null,
            "min_width": null,
            "object_fit": null,
            "object_position": null,
            "order": null,
            "overflow": null,
            "overflow_x": null,
            "overflow_y": null,
            "padding": null,
            "right": null,
            "top": null,
            "visibility": null,
            "width": null
          }
        },
        "6c00f7cad0f24062a629b8b86a51d5b6": {
          "model_module": "@jupyter-widgets/controls",
          "model_name": "SliderStyleModel",
          "model_module_version": "1.5.0",
          "state": {
            "_model_module": "@jupyter-widgets/controls",
            "_model_module_version": "1.5.0",
            "_model_name": "SliderStyleModel",
            "_view_count": null,
            "_view_module": "@jupyter-widgets/base",
            "_view_module_version": "1.2.0",
            "_view_name": "StyleView",
            "description_width": "",
            "handle_color": null
          }
        },
        "a197e5f56b51476eb250a510e5e19af4": {
          "model_module": "@jupyter-widgets/base",
          "model_name": "LayoutModel",
          "model_module_version": "1.2.0",
          "state": {
            "_model_module": "@jupyter-widgets/base",
            "_model_module_version": "1.2.0",
            "_model_name": "LayoutModel",
            "_view_count": null,
            "_view_module": "@jupyter-widgets/base",
            "_view_module_version": "1.2.0",
            "_view_name": "LayoutView",
            "align_content": null,
            "align_items": null,
            "align_self": null,
            "border": null,
            "bottom": null,
            "display": null,
            "flex": null,
            "flex_flow": null,
            "grid_area": null,
            "grid_auto_columns": null,
            "grid_auto_flow": null,
            "grid_auto_rows": null,
            "grid_column": null,
            "grid_gap": null,
            "grid_row": null,
            "grid_template_areas": null,
            "grid_template_columns": null,
            "grid_template_rows": null,
            "height": null,
            "justify_content": null,
            "justify_items": null,
            "left": null,
            "margin": null,
            "max_height": null,
            "max_width": null,
            "min_height": null,
            "min_width": null,
            "object_fit": null,
            "object_position": null,
            "order": null,
            "overflow": null,
            "overflow_x": null,
            "overflow_y": null,
            "padding": null,
            "right": null,
            "top": null,
            "visibility": null,
            "width": null
          }
        },
        "2e6863ad39014931b7d654f7ac7d5ef5": {
          "model_module": "@jupyter-widgets/controls",
          "model_name": "SliderStyleModel",
          "model_module_version": "1.5.0",
          "state": {
            "_model_module": "@jupyter-widgets/controls",
            "_model_module_version": "1.5.0",
            "_model_name": "SliderStyleModel",
            "_view_count": null,
            "_view_module": "@jupyter-widgets/base",
            "_view_module_version": "1.2.0",
            "_view_name": "StyleView",
            "description_width": "",
            "handle_color": null
          }
        },
        "ecab591c048b410c904f21ebe4976f1e": {
          "model_module": "@jupyter-widgets/base",
          "model_name": "LayoutModel",
          "model_module_version": "1.2.0",
          "state": {
            "_model_module": "@jupyter-widgets/base",
            "_model_module_version": "1.2.0",
            "_model_name": "LayoutModel",
            "_view_count": null,
            "_view_module": "@jupyter-widgets/base",
            "_view_module_version": "1.2.0",
            "_view_name": "LayoutView",
            "align_content": null,
            "align_items": null,
            "align_self": null,
            "border": null,
            "bottom": null,
            "display": null,
            "flex": null,
            "flex_flow": null,
            "grid_area": null,
            "grid_auto_columns": null,
            "grid_auto_flow": null,
            "grid_auto_rows": null,
            "grid_column": null,
            "grid_gap": null,
            "grid_row": null,
            "grid_template_areas": null,
            "grid_template_columns": null,
            "grid_template_rows": null,
            "height": null,
            "justify_content": null,
            "justify_items": null,
            "left": null,
            "margin": null,
            "max_height": null,
            "max_width": null,
            "min_height": null,
            "min_width": null,
            "object_fit": null,
            "object_position": null,
            "order": null,
            "overflow": null,
            "overflow_x": null,
            "overflow_y": null,
            "padding": null,
            "right": null,
            "top": null,
            "visibility": null,
            "width": null
          }
        }
      }
    }
  },
  "cells": [
    {
      "cell_type": "code",
      "execution_count": 3,
      "metadata": {
        "id": "mO0_cjeVZyYL"
      },
      "outputs": [],
      "source": [
        "!pip -q install ipywidgets scipy\n",
        "from google.colab import output\n",
        "output.enable_custom_widget_manager()\n",
        "\n"
      ]
    },
    {
      "cell_type": "code",
      "source": [
        "%%writefile utils/constants.py\n",
        "import numpy as np\n",
        "\n",
        "q      = 1.602176634e-19        # C\n",
        "k_B    = 1.380649e-23           # J/K\n",
        "T0     = 300.0                  # K  (default)\n",
        "kT_eV  = lambda T=T0: (k_B*T)/q # eV\n",
        "eps0   = 8.8541878128e-14       # F/cm\n",
        "eps_si = 11.7 * eps0            # Silicon permittivity\n",
        "Ni_300 = 1.0e10                 # cm⁻³  (approx 300 K)\n",
        "hbar   = 6.582119569e-16        # eV·s\n",
        "m0     = 9.10938356e-31         # kg\n"
      ],
      "metadata": {
        "id": "Nyqv1eulaqt3",
        "colab": {
          "base_uri": "https://localhost:8080/"
        },
        "outputId": "187838a2-fb7e-4a3d-8e8c-fe8093ba1671"
      },
      "execution_count": 4,
      "outputs": [
        {
          "output_type": "stream",
          "name": "stdout",
          "text": [
            "Writing utils/constants.py\n"
          ]
        }
      ]
    },
    {
      "cell_type": "code",
      "source": [
        "%%writefile mesh.py\n",
        "import numpy as np\n",
        "\n",
        "def build_1d_mesh(L=1e-4, N=601):\n",
        "    x  = np.linspace(0.0, L, N)\n",
        "    dx = x[1] - x[0]\n",
        "    return x, dx\n",
        "\n"
      ],
      "metadata": {
        "colab": {
          "base_uri": "https://localhost:8080/"
        },
        "id": "Rnxk3r3UbWQH",
        "outputId": "09361bf8-da08-47fb-a3a4-3671545ff827"
      },
      "execution_count": 5,
      "outputs": [
        {
          "output_type": "stream",
          "name": "stdout",
          "text": [
            "Writing mesh.py\n"
          ]
        }
      ]
    },
    {
      "cell_type": "code",
      "source": [
        "%%writefile models/mobility.py\n",
        "import numpy as np\n",
        "from utils.constants import q\n",
        "\n",
        "def mu_lattice(N, mu_min, mu_max, Nref, alpha):\n",
        "    return mu_min + (mu_max - mu_min)/(1.0 + (N/Nref)**alpha)\n",
        "\n",
        "def mu_electron_lattice(N):    # cm² V⁻¹ s⁻¹\n",
        "    return mu_lattice(N, 55, 1417, 8.5e16, 0.68)\n",
        "\n",
        "def mu_hole_lattice(N):        # cm² V⁻¹ s⁻¹\n",
        "    return mu_lattice(N, 44, 470, 6.3e16, 0.76)\n",
        "\n",
        "\n",
        "def mu_field(mu0, E, v_sat=1e7):\n",
        "    return mu0 / (1.0 + mu0*np.abs(E)/v_sat)\n",
        "\n",
        "def mobility(n, p, E, Ndop):\n",
        "    Ntot = np.abs(Ndop) + n + p\n",
        "    mu_n0 = mu_electron_lattice(Ntot)\n",
        "    mu_p0 = mu_hole_lattice(Ntot)\n",
        "    mu_n  = mu_field(mu_n0, E)\n",
        "    mu_p  = mu_field(mu_p0, E)\n",
        "    return mu_n, mu_p\n",
        "\n"
      ],
      "metadata": {
        "colab": {
          "base_uri": "https://localhost:8080/"
        },
        "id": "YKkM6kIuwrRn",
        "outputId": "dc08eff7-6fd8-40aa-8e90-a365f341fe03"
      },
      "execution_count": 6,
      "outputs": [
        {
          "output_type": "stream",
          "name": "stdout",
          "text": [
            "Writing models/mobility.py\n"
          ]
        }
      ]
    },
    {
      "cell_type": "code",
      "source": [
        "%%writefile models/recombination.py\n",
        "import numpy as np\n",
        "from utils.constants import Ni_300, q\n",
        "\n",
        "def SRH(n, p, tau_n=1e-6, tau_p=1e-6, Ni=Ni_300):\n",
        "    return (n*p - Ni**2) / (tau_p*(n + Ni) + tau_n*(p + Ni))\n",
        "\n",
        "def Auger(n, p, Cn=2.8e-31, Cp=9.9e-32):\n",
        "    return (Cn*n + Cp*p)*(n*p - Ni_300**2)\n",
        "\n"
      ],
      "metadata": {
        "colab": {
          "base_uri": "https://localhost:8080/"
        },
        "id": "g6z4KXLGzcNU",
        "outputId": "dbae5944-714d-47c1-d796-8d76a6607c91"
      },
      "execution_count": 7,
      "outputs": [
        {
          "output_type": "stream",
          "name": "stdout",
          "text": [
            "Writing models/recombination.py\n"
          ]
        }
      ]
    },
    {
      "cell_type": "code",
      "source": [
        "%%writefile models/impact_ion.py\n",
        "import numpy as np\n",
        "\n",
        "def selberherr_alpha(E, alpha0=7e5, Ecrit=1e5, beta=1.0):\n",
        "\n",
        "    E = np.maximum(np.abs(E), 1e3)\n",
        "    return alpha0 * np.exp(-(Ecrit/E)**beta)\n"
      ],
      "metadata": {
        "colab": {
          "base_uri": "https://localhost:8080/"
        },
        "id": "BZTBxbEZjylv",
        "outputId": "2458108d-dd76-41c6-9b01-64b6328bb257"
      },
      "execution_count": 8,
      "outputs": [
        {
          "output_type": "stream",
          "name": "stdout",
          "text": [
            "Writing models/impact_ion.py\n"
          ]
        }
      ]
    },
    {
      "cell_type": "code",
      "source": [
        "%%writefile poisson.py\n",
        "import numpy as np, scipy.sparse as sp, scipy.sparse.linalg as spla\n",
        "from utils.constants import q, eps_si, kT_eV, Ni_300\n",
        "\n",
        "def _rho(phi, Ndop, T):\n",
        "    n = Ni_300*np.exp( +q*phi/kT_eV(T) )\n",
        "    p = Ni_300*np.exp( -q*phi/kT_eV(T) )\n",
        "    return q*(p - n + Ndop)\n",
        "\n",
        "def solve_poisson(phi, Ndop, dx, T=300, tol=1e-6, maxit=50):\n",
        "    N = phi.size\n",
        "    for it in range(maxit):\n",
        "        main = np.zeros(N)\n",
        "        off  = np.full(N-1, eps_si/dx**2)\n",
        "        R    = np.zeros(N)\n",
        "\n",
        "        for i in range(1, N-1):\n",
        "            main[i] = -2*eps_si/dx**2\n",
        "            R[i]    = eps_si*(phi[i-1]-2*phi[i]+phi[i+1])/dx**2 - _rho(phi[i], Ndop[i], T)\n",
        "        main[0] = main[-1] = 1.0  # Dirichlet φ=0 at contacts\n",
        "        R[0] = R[-1] = 0.0\n",
        "\n",
        "        J = sp.diags([off, main, off], [-1,0,1], format='csc')\n",
        "        dphi = spla.spsolve(J, -R)\n",
        "        phi += dphi\n",
        "        if np.max(np.abs(dphi)) < tol:\n",
        "            break\n",
        "    return phi\n",
        "\n"
      ],
      "metadata": {
        "colab": {
          "base_uri": "https://localhost:8080/"
        },
        "id": "HzLu1SbLWN8H",
        "outputId": "d2c8e3de-5ee1-4e82-a06e-940bc0553e9d"
      },
      "execution_count": 9,
      "outputs": [
        {
          "output_type": "stream",
          "name": "stdout",
          "text": [
            "Writing poisson.py\n"
          ]
        }
      ]
    },
    {
      "cell_type": "code",
      "source": [
        "%%writefile drift_diffusion.py\n",
        "import numpy as np\n",
        "from utils.constants import q, kT_eV, Ni_300\n",
        "from models.mobility import mobility\n",
        "from models.recombination import SRH, Auger\n",
        "from models.impact_ion import selberherr_alpha\n",
        "\n",
        "def equilibrium_carriers(phi, T):\n",
        "    n = Ni_300 * np.exp(+q*phi/kT_eV(T))\n",
        "    p = Ni_300 * np.exp(-q*phi/kT_eV(T))\n",
        "    return n, p\n",
        "\n",
        "def postprocess(phi, Ndop, dx, T=300):\n",
        "    n, p = equilibrium_carriers(phi, T)\n",
        "\n",
        "    # Electric field\n",
        "    E = -np.gradient(phi, dx)\n",
        "\n",
        "    # Mobility\n",
        "    mu_n, mu_p = mobility(n, p, E, Ndop)\n",
        "\n",
        "    # Recombination & impact\n",
        "    R_srh   = SRH(n, p)\n",
        "    R_auger = Auger(n, p)\n",
        "    alpha   = selberherr_alpha(E)\n",
        "    G_ii    = alpha*(q*mu_n*n*E + q*mu_p*p*E)/q  # cm⁻3 s⁻1\n",
        "\n",
        "    Gnet = -R_srh - R_auger + G_ii\n",
        "\n",
        "    return n, p, E, mu_n, mu_p, Gnet\n",
        "\n"
      ],
      "metadata": {
        "colab": {
          "base_uri": "https://localhost:8080/"
        },
        "id": "wJ0t97Fkcel4",
        "outputId": "f86576fc-069c-4c4c-f6c0-bcf5e95b4872"
      },
      "execution_count": 10,
      "outputs": [
        {
          "output_type": "stream",
          "name": "stdout",
          "text": [
            "Writing drift_diffusion.py\n"
          ]
        }
      ]
    },
    {
      "cell_type": "code",
      "source": [
        "%%writefile mosfet_gui.py\n",
        "import numpy as np, matplotlib.pyplot as plt\n",
        "from ipywidgets import interact, FloatSlider, FloatLogSlider, VBox, HBox\n",
        "\n",
        "from mesh import build_1d_mesh\n",
        "from poisson import solve_poisson\n",
        "from drift_diffusion import postprocess\n",
        "from utils.constants import eps_si\n",
        "\n",
        "\n",
        "def build_doping(x, NA, ND, Ls, Ld):\n",
        "    L = x[-1]\n",
        "    Ndop = np.zeros_like(x)\n",
        "    Ndop[x < Ls] = ND\n",
        "    Ndop[x > L-Ld] = ND\n",
        "    Ndop[(x >= Ls) & (x <= L-Ld)] = -NA\n",
        "    return Ndop\n",
        "\n",
        "\n",
        "def simulate(Vg, NA, ND, L, T):\n",
        "    x, dx = build_1d_mesh(L=L)\n",
        "    Ndop  = build_doping(x, NA, ND, 5e-6, 5e-6)\n",
        "\n",
        "\n",
        "    phi_init = np.zeros_like(x); phi_init += Vg\n",
        "    phi = solve_poisson(phi_init, Ndop, dx, T=T)\n",
        "\n",
        "    n, p, E, mu_n, mu_p, Gnet = postprocess(phi, Ndop, dx, T=T)\n",
        "    return x, phi, n, p, Ndop, E, mu_n, mu_p, Gnet\n",
        "\n",
        "\n",
        "def plot_all(x, phi, n, p, Nd, E, mu_n, mu_p, Gnet, Vg):\n",
        "    fig, ax = plt.subplots(3,1, figsize=(8,10), sharex=True)\n",
        "\n",
        "    # --- φ & E ---\n",
        "    ax[0].plot(x*1e4, phi, label='φ (V)')\n",
        "    ax0b = ax[0].twinx()\n",
        "    ax0b.plot(x*1e4, E/1e4, 'r--', label='E (kV/cm)')\n",
        "    ax0b.set_ylabel('E  (kV/cm)', color='r')\n",
        "    ax[0].set_ylabel('Potential φ (V)')\n",
        "    ax[0].set_title(f'1‑D MOSFET | Vg = {Vg:.2f} V')\n",
        "    ax[0].grid(True)\n",
        "\n",
        "    # --- carrier densities & doping ---\n",
        "    ax[1].semilogy(x*1e4, n, label='n')\n",
        "    ax[1].semilogy(x*1e4, p, label='p')\n",
        "    ax[1].semilogy(x*1e4, np.abs(Nd),'k--', label='|Ndop|')\n",
        "    ax[1].set_ylabel('cm$^{-3}$')\n",
        "    ax[1].grid(True, which='both', ls='--')\n",
        "    ax[1].legend()\n",
        "\n",
        "    # --- mobility & net G ---\n",
        "    ax[2].plot(x*1e4, mu_n, label='μn')\n",
        "    ax[2].plot(x*1e4, mu_p, label='μp')\n",
        "    ax2b = ax[2].twinx()\n",
        "    ax2b.semilogy(x*1e4, np.abs(Gnet)+1e-30, 'm--', label='|G_net|')\n",
        "    ax2b.set_ylabel('|G_net|  (cm$^{-3}$ s$^{-1}$)', color='m')\n",
        "    ax[2].set_xlabel('x (µm)'); ax[2].set_ylabel('μ (cm² V⁻¹ s⁻¹)')\n",
        "    ax[2].grid(True)\n",
        "    ax[2].legend(loc='upper left')\n",
        "\n",
        "    plt.tight_layout(); plt.show()\n",
        "\n",
        "\n",
        "def gui():\n",
        "    Vg  = FloatSlider(0, min=-1, max=2, step=0.05, description='Vg (V)')\n",
        "    NA  = FloatLogSlider(1e16, base=10, min=14, max=18, description='NA body')\n",
        "    ND  = FloatLogSlider(1e19, base=10, min=17, max=20, description='ND S/D')\n",
        "    L   = FloatLogSlider(1e-4, base=10, min=-5, max=-3, description='L (cm)')\n",
        "    Temp= FloatSlider(300, min=250, max=400, step=10, description='T (K)')\n",
        "\n",
        "    def _update(Vg, NA, ND, L, Temp):\n",
        "        x, φ, n, p, Nd, E, mu_n, mu_p, G = simulate(Vg, NA, ND, L, Temp)\n",
        "        plot_all(x, φ, n, p, Nd, E, mu_n, mu_p, G, Vg)\n",
        "\n",
        "    interact(_update, Vg=Vg, NA=NA, ND=ND, L=L, Temp=Temp)\n",
        "\n",
        "\n",
        "try:\n",
        "    get_ipython(); gui()\n",
        "except Exception:\n",
        "    pass\n"
      ],
      "metadata": {
        "colab": {
          "base_uri": "https://localhost:8080/"
        },
        "id": "2eAo619Tj7qh",
        "outputId": "6909fded-8145-44d7-959b-19678602e465"
      },
      "execution_count": 11,
      "outputs": [
        {
          "output_type": "stream",
          "name": "stdout",
          "text": [
            "Writing mosfet_gui.py\n"
          ]
        }
      ]
    },
    {
      "cell_type": "code",
      "source": [
        "import mosfet_gui\n",
        "\n"
      ],
      "metadata": {
        "id": "UBcKXuqCj__i",
        "colab": {
          "base_uri": "https://localhost:8080/",
          "height": 1000,
          "referenced_widgets": [
            "0798ec58616e41f2ae9cf281e31c046c",
            "9c8c42c85f2945579e13b69d3239f980",
            "febcbb2e904449feaef903202df22fd7",
            "3140c01ecf8f41eb9eabe605164b0a21",
            "d98fd9cf6ad94de18f71f83aee5936ef",
            "7d0db74dd47a4ea19d517d2771aacf15",
            "0b92cfc9c0f043c9a77e646fbd3f7693",
            "e195bed3eb2e4a07b812fbe61fc74554",
            "2ab764ce5223458d9d5df5202d23fe6d",
            "220b81db678b4226aa543dd81cdb827e",
            "27aae5128f7f4d7eabfaebfc4c289914",
            "4525eb268c9540c79fef52dd2301832e",
            "cf81a7ad83d440a48041365129c52c27",
            "22bdb68002d5458cb2cf690f3c48218a",
            "ccd7f1eacfd74e559acfdaf03145834e",
            "6c00f7cad0f24062a629b8b86a51d5b6",
            "a197e5f56b51476eb250a510e5e19af4",
            "2e6863ad39014931b7d654f7ac7d5ef5",
            "ecab591c048b410c904f21ebe4976f1e"
          ]
        },
        "outputId": "6cb900a4-11d5-42b6-a480-56e1c3004b68"
      },
      "execution_count": 12,
      "outputs": [
        {
          "output_type": "display_data",
          "data": {
            "text/plain": [
              "interactive(children=(FloatSlider(value=0.0, description='Vg (V)', max=2.0, min=-1.0, step=0.05), FloatLogSlid…"
            ],
            "application/vnd.jupyter.widget-view+json": {
              "version_major": 2,
              "version_minor": 0,
              "model_id": "0798ec58616e41f2ae9cf281e31c046c"
            }
          },
          "metadata": {
            "application/vnd.jupyter.widget-view+json": {
              "colab": {
                "custom_widget_manager": {
                  "url": "https://ssl.gstatic.com/colaboratory-static/widgets/colab-cdn-widget-manager/2b70e893a8ba7c0f/manager.min.js"
                }
              }
            }
          }
        }
      ]
    }
  ]
}